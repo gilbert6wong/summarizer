{
 "cells": [
  {
   "cell_type": "markdown",
   "metadata": {},
   "source": [
    "#### Streamlit App"
   ]
  },
  {
   "cell_type": "markdown",
   "metadata": {},
   "source": [
    "For a demo of the final product, watch the [Loom](https://www.loom.com/share/629bb25a445f4bdbb2d6a839d5f1ce13) video here."
   ]
  },
  {
   "cell_type": "markdown",
   "metadata": {},
   "source": [
    "## Automatic Text Summarization"
   ]
  },
  {
   "cell_type": "markdown",
   "metadata": {},
   "source": [
    "#### Methodology"
   ]
  },
  {
   "cell_type": "markdown",
   "metadata": {},
   "source": [
    "In this notebook, we go through the different steps in building an extractive text summarizer. \n",
    "\n",
    "- First, we collect the data from zip files available through the [Newsroom](http://lil.nlp.cornell.edu/newsroom/index.html) website. These files have already been stored in a local folder. \n",
    "\n",
    "\n",
    "- Then, we do some simple cleaning to ensure that there are no missing values or duplicates. \n",
    "\n",
    "\n",
    "- Next, we prepare our sentences in two ways: \n",
    "\n",
    "\n",
    "    - We prepare a set of \"ready\" sentences, by doing a soft clean (eg. simple removal of line breaks). These are the sentences that will be sorted in the end. \n",
    "    - We prepare a set of \"hard cleaned\" sentences (getting just the words). These are the sentences we will use in the training process. \n",
    "\n",
    "    \n",
    "- After that, we turn these hard cleaned sentences, which are just the words at this point, into numerical vectors. \n",
    "\n",
    "\n",
    "\n",
    "- The last part will depend on the extractive method used and will involve 3 steps:\n",
    "    \n",
    "    1. creating an intermediate representation of the sentences\n",
    "    2. scoring the sentences based on their intermediate representation\n",
    "    3. generating a summary comprising of a number of the ready sentences\n",
    "    \n"
   ]
  },
  {
   "cell_type": "markdown",
   "metadata": {},
   "source": [
    "## Load and Extract"
   ]
  },
  {
   "cell_type": "markdown",
   "metadata": {},
   "source": [
    "As always, we will start by importing our main libraries. These have already been installed in our working environment."
   ]
  },
  {
   "cell_type": "code",
   "execution_count": 4,
   "metadata": {},
   "outputs": [],
   "source": [
    "# import main libraries\n",
    "import pandas as pd\n",
    "import numpy as np\n",
    "import seaborn as sns\n",
    "import matplotlib.pyplot as plt\n",
    "import time"
   ]
  },
  {
   "cell_type": "markdown",
   "metadata": {},
   "source": [
    "To load and unzip those json files from our local directory, we will also import the json and gzip libraries."
   ]
  },
  {
   "cell_type": "code",
   "execution_count": 5,
   "metadata": {},
   "outputs": [],
   "source": [
    "import json, gzip"
   ]
  },
  {
   "cell_type": "markdown",
   "metadata": {},
   "source": [
    "Since we need to do the same thing for three files, we can create a function for it."
   ]
  },
  {
   "cell_type": "code",
   "execution_count": 6,
   "metadata": {},
   "outputs": [],
   "source": [
    "# function for loading in data\n",
    "def load_data(path):\n",
    "    #create a list to store each dictionary in\n",
    "    data = []\n",
    "    #unzip the files from the path specified load in the data line by line\n",
    "    with gzip.open(path) as f:\n",
    "        for ln in f:\n",
    "            obj = json.loads(ln)\n",
    "            data.append(obj)\n",
    "    \n",
    "    return data"
   ]
  },
  {
   "cell_type": "markdown",
   "metadata": {},
   "source": [
    "Now, we can call the function on the files we want."
   ]
  },
  {
   "cell_type": "code",
   "execution_count": 7,
   "metadata": {},
   "outputs": [],
   "source": [
    "# load in the training set\n",
    "data_train = load_data(\"data/train.jsonl.gz\")"
   ]
  },
  {
   "cell_type": "code",
   "execution_count": 8,
   "metadata": {},
   "outputs": [],
   "source": [
    "# load in the validation set\n",
    "data_valid = load_data(\"data/dev.jsonl.gz\")"
   ]
  },
  {
   "cell_type": "code",
   "execution_count": 9,
   "metadata": {},
   "outputs": [
    {
     "data": {
      "text/plain": [
       "{'url': 'http://www.nydailynews.com/archives/news/2001/03/22/2001-03-22_joy_for_addicts_on_mend_as_c.html',\n",
       " 'archive': 'http://web.archive.org/web/20080520122148id_/http://www.nydailynews.com:80/archives/news/2001/03/22/2001-03-22_joy_for_addicts_on_mend_as_c.html',\n",
       " 'title': 'JOY FOR ADDICTS ON MEND AS CHILDREN ARE RETURNED',\n",
       " 'date': '20080520122148',\n",
       " 'text': 'All day, every day, Cheryl Bernstein thanks her 16-month-old son.\\n\\n\"I gave life to Reid, but he gave me life - a reason to get clean and go on,\" she said yesterday after graduating from the Manhattan Family Treatment Court program.\\n\\nBernstein, 41, and her husband, Doug Flaumenbaum, 33, both recovering crack and heroin addicts, were among three dozen men and women who regained custody of their children. They are the third such group to graduate since the program\\'s inauguration in 1998.\\n\\nThe court program directs drug-addicted parents to treatment and subjects them to frequent, consistent monitoring so parents can regain permanent custody of their children.\\n\\nAfter the family is reunited, caseworkers and a judge continue to monitor the family\\'s progress. Once parents have completed the program, their case with the Administration for Children\\'s Services is closed.\\n\\nEven though they had been clean for 60 days, Bernstein and Flaumenbaum lost custody of Reid when he was only a month old because they were homeless and penniless, she said.\\n\\nIn December 1999, Reid went to live with Flaumenbaum\\'s mother while the couple entered a drug treatment program and took parenting classes. Bernstein is now a travel agent, and Flaumenbaum is studying desktop publishing.\\n\\nLillian Martinez, 43, who battled a cocaine problem, wept as she accepted her diploma with her son, Paul, 16, and daughter Stephanie, nearly 20, in tow.\"I don\\'t ever want to see the disappointment on [my kids\\'] faces again,\" Martinez said as her eyes welled with tears.\\n\\nCarl Baker, 32, and his wife, Rhonda Phillips, 35, went through the program after their marriage collapsed and they lost custody of six children.\\n\\nYesterday, Baker held their seventh child, 11-month-old Ashley. In a speech, he reminded fellow graduates, \"If you don\\'t pick it up, you can\\'t get high.\"',\n",
       " 'summary': 'All day, every day, Cheryl Bernstein thanks her 16-month-old son. \"I gave life to Reid, but he gave me life - a reason to get clean and go on,\"she said yesterday after graduating from the Manhattan Family Treatment Court program. Bernstein, 41, and her husband, Doug Flaumenbaum, 33, both recovering crack and heroin addicts, were among three dozen men and women who regained custody of their children.',\n",
       " 'compression': 4.5975609756,\n",
       " 'coverage': 0.987804878,\n",
       " 'density': 23.4756097561,\n",
       " 'compression_bin': 'low',\n",
       " 'coverage_bin': 'high',\n",
       " 'density_bin': 'extractive'}"
      ]
     },
     "execution_count": 9,
     "metadata": {},
     "output_type": "execute_result"
    }
   ],
   "source": [
    "# check what the data looks like\n",
    "data_train[5]"
   ]
  },
  {
   "cell_type": "markdown",
   "metadata": {},
   "source": [
    "We can work directly with the json data, but putting them into dataframes will make things a little more organized. It will also be easier to clean. We will extract three items: the text, the summary, and the title."
   ]
  },
  {
   "cell_type": "code",
   "execution_count": 10,
   "metadata": {},
   "outputs": [],
   "source": [
    "# create a function for making the dataframes\n",
    "def make_df(data, size):\n",
    "    \n",
    "    # get the text, summary, and title for each document up to the specified size\n",
    "    text = [data[i]['text'] for i in range(size)]\n",
    "    \n",
    "    summary = [data[i]['summary'] for i in range(size)]\n",
    "    \n",
    "    title = [data[i]['title'] for i in range(size)]\n",
    "    \n",
    "    # combine the columns\n",
    "    df = pd.DataFrame({'text':text,'summary':summary, 'title':title})\n",
    "    \n",
    "    return df"
   ]
  },
  {
   "cell_type": "markdown",
   "metadata": {},
   "source": [
    "We also set a size parameter so that we can easily change it later on. We now call our function on the three dictionaries to put them into dataframes. Only 1000 documents from the training set will be used initially. Once everything works, we come back here and start scaling up the data towards the end. We end up using 10000."
   ]
  },
  {
   "cell_type": "code",
   "execution_count": 11,
   "metadata": {},
   "outputs": [],
   "source": [
    "# create the train dataframe\n",
    "df_train = make_df(data_train, 10000)"
   ]
  },
  {
   "cell_type": "code",
   "execution_count": 12,
   "metadata": {},
   "outputs": [],
   "source": [
    "# create the validation dataframe\n",
    "df_valid = make_df(data_valid, 3000)"
   ]
  },
  {
   "cell_type": "markdown",
   "metadata": {},
   "source": [
    "## Data Cleaning"
   ]
  },
  {
   "cell_type": "markdown",
   "metadata": {},
   "source": [
    "Here, we do some very simple cleaning of the data. Given this is a benchmark dataset, we expect it to be fairly clean."
   ]
  },
  {
   "cell_type": "code",
   "execution_count": 13,
   "metadata": {},
   "outputs": [
    {
     "data": {
      "text/plain": [
       "(10000, 3)"
      ]
     },
     "execution_count": 13,
     "metadata": {},
     "output_type": "execute_result"
    }
   ],
   "source": [
    "# check the shape of the training set\n",
    "df_train.shape"
   ]
  },
  {
   "cell_type": "code",
   "execution_count": 14,
   "metadata": {},
   "outputs": [
    {
     "data": {
      "text/plain": [
       "text       0.0\n",
       "summary    0.0\n",
       "title      0.0\n",
       "dtype: float64"
      ]
     },
     "execution_count": 14,
     "metadata": {},
     "output_type": "execute_result"
    }
   ],
   "source": [
    "# check for missing values\n",
    "df_train.isna().sum()/df_train.shape[0]*100"
   ]
  },
  {
   "cell_type": "code",
   "execution_count": 15,
   "metadata": {},
   "outputs": [
    {
     "data": {
      "text/plain": [
       "0"
      ]
     },
     "execution_count": 15,
     "metadata": {},
     "output_type": "execute_result"
    }
   ],
   "source": [
    "# check for duplicates\n",
    "df_train.duplicated().sum()"
   ]
  },
  {
   "cell_type": "code",
   "execution_count": 16,
   "metadata": {},
   "outputs": [
    {
     "data": {
      "text/plain": [
       "(3000, 3)"
      ]
     },
     "execution_count": 16,
     "metadata": {},
     "output_type": "execute_result"
    }
   ],
   "source": [
    "# check the shape of the validation set\n",
    "df_valid.shape"
   ]
  },
  {
   "cell_type": "code",
   "execution_count": 17,
   "metadata": {},
   "outputs": [
    {
     "data": {
      "text/plain": [
       "text       0.0\n",
       "summary    0.0\n",
       "title      0.0\n",
       "dtype: float64"
      ]
     },
     "execution_count": 17,
     "metadata": {},
     "output_type": "execute_result"
    }
   ],
   "source": [
    "# check for missing values\n",
    "df_valid.isna().sum()/df_valid.shape[0]"
   ]
  },
  {
   "cell_type": "code",
   "execution_count": 18,
   "metadata": {},
   "outputs": [
    {
     "data": {
      "text/plain": [
       "0"
      ]
     },
     "execution_count": 18,
     "metadata": {},
     "output_type": "execute_result"
    }
   ],
   "source": [
    "# check for duplicates\n",
    "df_valid.duplicated().sum()"
   ]
  },
  {
   "cell_type": "markdown",
   "metadata": {},
   "source": [
    "We have a clean dataset. Now let's do some text preprocessing."
   ]
  },
  {
   "cell_type": "markdown",
   "metadata": {},
   "source": [
    "## Sentence Tokenization"
   ]
  },
  {
   "cell_type": "markdown",
   "metadata": {},
   "source": [
    "Let's first split up each document into sentences. Note that we will be using the \"apply\" method alot throughout this notebook since we are \"apply\"ing the same functions to each document."
   ]
  },
  {
   "cell_type": "code",
   "execution_count": 19,
   "metadata": {},
   "outputs": [
    {
     "name": "stderr",
     "output_type": "stream",
     "text": [
      "[nltk_data] Downloading package punkt to\n",
      "[nltk_data]     /Users/gilbertwong/nltk_data...\n",
      "[nltk_data]   Package punkt is already up-to-date!\n"
     ]
    }
   ],
   "source": [
    "# import libraries for text preprocessing\n",
    "import nltk\n",
    "nltk.download('punkt')\n",
    "from nltk.tokenize import sent_tokenize"
   ]
  },
  {
   "cell_type": "code",
   "execution_count": 20,
   "metadata": {},
   "outputs": [],
   "source": [
    "# apply sentence tokenization to each document\n",
    "train_text = df_train['text'].apply(sent_tokenize)\n",
    "train_summary = df_train['summary'].apply(sent_tokenize)\n",
    "valid_text = df_valid['text'].apply(sent_tokenize)\n",
    "valid_summary = df_valid['summary'].apply(sent_tokenize)"
   ]
  },
  {
   "cell_type": "code",
   "execution_count": 21,
   "metadata": {},
   "outputs": [],
   "source": [
    "# grab the titles as well\n",
    "train_title = df_train['title']\n",
    "valid_title = df_valid['title']"
   ]
  },
  {
   "cell_type": "markdown",
   "metadata": {},
   "source": [
    "If we take a look at the resulting documents, we see that they have been segmented into sentences using the sent_tokenize method. They might not be entirely perfect but they will do for now."
   ]
  },
  {
   "cell_type": "markdown",
   "metadata": {},
   "source": [
    "## Soft Clean"
   ]
  },
  {
   "cell_type": "markdown",
   "metadata": {},
   "source": [
    "Now we will do a soft clean of the sentences, meaning we clean them up so that they are presentable. These are the set of sentences that will be selected from to go into the final summary (we can't use fully cleaned sentences as they are just the words)."
   ]
  },
  {
   "cell_type": "code",
   "execution_count": 22,
   "metadata": {},
   "outputs": [],
   "source": [
    "# import library for regular expressions\n",
    "import re"
   ]
  },
  {
   "cell_type": "markdown",
   "metadata": {},
   "source": [
    "We see in this article that there are line breaks and incorrectly encoded characters, so we can go ahead and remove those. We have also made the decision to remove anything inside brackets as they are often not important. "
   ]
  },
  {
   "cell_type": "code",
   "execution_count": 23,
   "metadata": {},
   "outputs": [],
   "source": [
    "# create the soft cleaner function\n",
    "def s_cleaner(text): \n",
    "    # remove line breaks\n",
    "    new_string = re.sub(\"\\n\", \" \", text) \n",
    "    # remove hyphen encodings\n",
    "    new_string = re.sub(\"Â\\xad\", \"\",new_string)\n",
    "    # remove bracketed text\n",
    "    new_string = re.sub(r'\\([^)]*\\)', '', new_string)\n",
    "    \n",
    "    return new_string"
   ]
  },
  {
   "cell_type": "code",
   "execution_count": 24,
   "metadata": {},
   "outputs": [],
   "source": [
    "# create the ready functionn which applies the soft cleaner function\n",
    "def ready(text):\n",
    "    # create an empty list for storing the cleaned document\n",
    "    cleaned = []\n",
    "    # loop through each sentence and clean\n",
    "    for x in text:\n",
    "        cleaned.append(s_cleaner(x))\n",
    "        \n",
    "    return cleaned"
   ]
  },
  {
   "cell_type": "code",
   "execution_count": 25,
   "metadata": {},
   "outputs": [],
   "source": [
    "# get the ready text\n",
    "train_text_ready = train_text.apply(ready)\n",
    "valid_text_ready = valid_text.apply(ready)"
   ]
  },
  {
   "cell_type": "markdown",
   "metadata": {},
   "source": [
    "Again, we follow the same procedure of checking the documents to ensure that they have been properly cleaned."
   ]
  },
  {
   "cell_type": "code",
   "execution_count": 26,
   "metadata": {},
   "outputs": [
    {
     "data": {
      "text/plain": [
       "[\"Wednesday, May 18th 2005, 9:59AM  Summer is shaping up as extra sweet at Cafe Centro, where the menu features treats like s'mores, chocolate fondue and a unique cocktail called the Cotton Candy Cosmo.\",\n",
       " 'The drink was created by mixologist Bill Rogers, whose inspiration was the fluffy confection that the restaurant  occasionally serves to customers.',\n",
       " 'Priced at $9, the deeply colorful libation is topped with billows of bright pink cotton candy.',\n",
       " \"It's light, summery and wonderful for sipping outside.\",\n",
       " '2 ounces Absolut Citron Vodka  Pink cotton candy for the top  Shake vodka, Triple Sec, lime juice and cranberry juice vigorously in a shaker with ice.',\n",
       " 'Strain into a martini glass.',\n",
       " 'Garnish with pink cotton candy all around the rim and serve.']"
      ]
     },
     "execution_count": 26,
     "metadata": {},
     "output_type": "execute_result"
    }
   ],
   "source": [
    "# take a look at the ready text\n",
    "train_text_ready[9]"
   ]
  },
  {
   "cell_type": "markdown",
   "metadata": {},
   "source": [
    "## Hard Clean"
   ]
  },
  {
   "cell_type": "markdown",
   "metadata": {},
   "source": [
    "Here, we clean the sentences again, this time, with the intention of getting just the words so that we can create numerical vectors out of them. The different preprocessing techniques used are as follows:\n",
    "\n",
    "1. turn everything to lowercase - words starting a sentence should not be treated differently from words later on\n",
    "2. remove anything inside brackets - often not important to the document\n",
    "3. remove possessives - not needed to capture context of a sentence\n",
    "4. remove special characters - not text data\n",
    "4. remove stopwords - not needed to capture context of a sentence"
   ]
  },
  {
   "cell_type": "markdown",
   "metadata": {},
   "source": [
    "First, we import the stopwords from the nltk library."
   ]
  },
  {
   "cell_type": "code",
   "execution_count": 27,
   "metadata": {},
   "outputs": [
    {
     "name": "stderr",
     "output_type": "stream",
     "text": [
      "[nltk_data] Downloading package stopwords to\n",
      "[nltk_data]     /Users/gilbertwong/nltk_data...\n",
      "[nltk_data]   Package stopwords is already up-to-date!\n"
     ]
    },
    {
     "data": {
      "text/plain": [
       "True"
      ]
     },
     "execution_count": 27,
     "metadata": {},
     "output_type": "execute_result"
    }
   ],
   "source": [
    "# import more libraries for text preprocessing\n",
    "from nltk.corpus import stopwords\n",
    "nltk.download('stopwords')"
   ]
  },
  {
   "cell_type": "code",
   "execution_count": 28,
   "metadata": {
    "scrolled": true
   },
   "outputs": [],
   "source": [
    "# download the stopwords\n",
    "stop_words = stopwords.words('english')"
   ]
  },
  {
   "cell_type": "markdown",
   "metadata": {},
   "source": [
    "Now for contractions, we can use the pycontraction library, but since it uses a pretrained model to determine the correct conversion, it can be quite slow, especially if we are dealing with a large amount of text data. A decision is made to instead manually map the contractions. An argument can also be made that articles which can often be quite formal do not use many contractions anyways."
   ]
  },
  {
   "cell_type": "code",
   "execution_count": 29,
   "metadata": {},
   "outputs": [],
   "source": [
    "# define contractions mappings manually\n",
    "contraction_mapping = {\"ain't\": \"is not\", \"aren't\": \"are not\",\"can't\": \"cannot\", \"'cause\": \"because\", \n",
    "                       \"could've\": \"could have\", \"couldn't\": \"could not\", \"didn't\": \"did not\", \"doesn't\": \"does not\", \n",
    "                       \"don't\": \"do not\", \"hadn't\": \"had not\", \"hasn't\": \"has not\", \"haven't\": \"have not\", \n",
    "                       \"he'd\": \"he would\",\"he'll\": \"he will\", \"he's\": \"he is\", \"how'd\": \"how did\", \n",
    "                       \"how'd'y\": \"how do you\", \"how'll\": \"how will\", \"how's\": \"how is\", \"I'd\": \"I would\", \n",
    "                       \"I'd've\": \"I would have\", \"I'll\": \"I will\", \"I'll've\": \"I will have\",\"I'm\": \"I am\", \n",
    "                       \"I've\": \"I have\", \"i'd\": \"i would\", \"i'd've\": \"i would have\", \"i'll\": \"i will\",  \n",
    "                       \"i'll've\": \"i will have\",\"i'm\": \"i am\", \"i've\": \"i have\", \"isn't\": \"is not\", \"it'd\": \"it would\",\n",
    "                       \"it'd've\": \"it would have\", \"it'll\": \"it will\", \"it'll've\": \"it will have\",\"it's\": \"it is\", \n",
    "                       \"let's\": \"let us\", \"ma'am\": \"madam\", \"mayn't\": \"may not\", \"might've\": \"might have\",\n",
    "                       \"mightn't\": \"might not\",\"mightn't've\": \"might not have\", \"must've\": \"must have\", \n",
    "                       \"mustn't\": \"must not\", \"mustn't've\": \"must not have\", \"needn't\": \"need not\", \n",
    "                       \"needn't've\": \"need not have\",\"o'clock\": \"of the clock\", \"oughtn't\": \"ought not\", \n",
    "                       \"oughtn't've\": \"ought not have\", \"shan't\": \"shall not\", \"sha'n't\": \"shall not\", \n",
    "                       \"shan't've\": \"shall not have\", \"she'd\": \"she would\", \"she'd've\": \"she would have\", \n",
    "                       \"she'll\": \"she will\", \"she'll've\": \"she will have\", \"she's\": \"she is\", \n",
    "                       \"should've\": \"should have\", \"shouldn't\": \"should not\", \"shouldn't've\": \"should not have\", \n",
    "                       \"so've\": \"so have\",\"so's\": \"so as\", \"this's\": \"this is\",\"that'd\": \"that would\", \n",
    "                       \"that'd've\": \"that would have\", \"that's\": \"that is\", \"there'd\": \"there would\", \n",
    "                       \"there'd've\": \"there would have\", \"there's\": \"there is\", \"here's\": \"here is\",\n",
    "                       \"they'd\": \"they would\", \"they'd've\": \"they would have\", \"they'll\": \"they will\", \n",
    "                       \"they'll've\": \"they will have\", \"they're\": \"they are\", \"they've\": \"they have\", \n",
    "                       \"to've\": \"to have\", \"wasn't\": \"was not\", \"we'd\": \"we would\", \"we'd've\": \"we would have\", \n",
    "                       \"we'll\": \"we will\", \"we'll've\": \"we will have\", \"we're\": \"we are\", \"we've\": \"we have\", \n",
    "                       \"weren't\": \"were not\", \"what'll\": \"what will\", \"what'll've\": \"what will have\", \n",
    "                       \"what're\": \"what are\", \"what's\": \"what is\", \"what've\": \"what have\", \"when's\": \"when is\", \n",
    "                       \"when've\": \"when have\", \"where'd\": \"where did\", \"where's\": \"where is\", \"where've\": \"where have\", \n",
    "                       \"who'll\": \"who will\", \"who'll've\": \"who will have\", \"who's\": \"who is\", \"who've\": \"who have\",\n",
    "                       \"why's\": \"why is\", \"why've\": \"why have\", \"will've\": \"will have\", \"won't\": \"will not\", \n",
    "                       \"won't've\": \"will not have\", \"would've\": \"would have\", \"wouldn't\": \"would not\", \n",
    "                       \"wouldn't've\": \"would not have\", \"y'all\": \"you all\", \"y'all'd\": \"you all would\",\n",
    "                       \"y'all'd've\": \"you all would have\",\"y'all're\": \"you all are\",\"y'all've\": \"you all have\", \n",
    "                       \"you'd\": \"you would\", \"you'd've\": \"you would have\", \"you'll\": \"you will\", \n",
    "                       \"you'll've\": \"you will have\", \"you're\": \"you are\", \"you've\": \"you have\"}"
   ]
  },
  {
   "cell_type": "markdown",
   "metadata": {},
   "source": [
    "Now, we put all of the preprocessing steps into a single function to be applied over all documents"
   ]
  },
  {
   "cell_type": "code",
   "execution_count": 30,
   "metadata": {},
   "outputs": [],
   "source": [
    "# create the hard cleaner function\n",
    "def h_cleaner(text):\n",
    "    # convert to lowercase\n",
    "    new_string = text.lower()\n",
    "    # remove bracketed text\n",
    "    new_string = re.sub(r'\\([^)]*\\)', '', new_string)\n",
    "    # remove quotation marks\n",
    "    new_string = re.sub('\"','', new_string)\n",
    "    # convert contractions\n",
    "    new_string = ' '.join([contraction_mapping[t] if t in contraction_mapping else t for t in new_string.split(\" \")]) \n",
    "    # convert possessive nouns\n",
    "    new_string = re.sub(r\"'s\\b\",\"\",new_string)\n",
    "    # remove special characters and punctuations\n",
    "    new_string = re.sub(\"[^a-zA-Z]\", \" \", new_string) \n",
    "    # keep everything but stopwords\n",
    "    new_string = [w for w in new_string.split() if not w in stop_words]\n",
    "    # get the cleaned text\n",
    "    new_string = \" \".join(new_string)\n",
    "    \n",
    "    return new_string"
   ]
  },
  {
   "cell_type": "code",
   "execution_count": 31,
   "metadata": {},
   "outputs": [],
   "source": [
    "# create the function that applies the hard cleaner\n",
    "def clean(text):\n",
    "    # create an empty list for storing the hard cleaned documents\n",
    "    cleaned = []\n",
    "    # loop through the sentences and clean them\n",
    "    for y in text:\n",
    "       \n",
    "        cleaned.append(h_cleaner(y))\n",
    "        \n",
    "    return cleaned"
   ]
  },
  {
   "cell_type": "markdown",
   "metadata": {},
   "source": [
    "We apply the function to the train and validation sets for both text and summary. We will also apply the function to the titles as well. This will be necessary for one of our extractive methods."
   ]
  },
  {
   "cell_type": "code",
   "execution_count": 32,
   "metadata": {},
   "outputs": [],
   "source": [
    "# apply cleaing to each document\n",
    "train_text_cleaned = train_text.apply(clean)\n",
    "valid_text_cleaned = valid_text.apply(clean)\n",
    "train_summary_cleaned = train_summary.apply(clean)\n",
    "valid_summary_cleamed = valid_summary.apply(clean)"
   ]
  },
  {
   "cell_type": "code",
   "execution_count": 33,
   "metadata": {},
   "outputs": [],
   "source": [
    "# clean the titles as well\n",
    "train_title_cleaned = clean(train_title)\n",
    "valid_title_cleaned = clean(valid_title)"
   ]
  },
  {
   "cell_type": "markdown",
   "metadata": {},
   "source": [
    "Taking a look at the transformed text, we see that it has been cleaned quite well. "
   ]
  },
  {
   "cell_type": "code",
   "execution_count": 34,
   "metadata": {
    "scrolled": true
   },
   "outputs": [
    {
     "data": {
      "text/plain": [
       "['wednesday may th summer shaping extra sweet cafe centro menu features treats like mores chocolate fondue unique cocktail called cotton candy cosmo',\n",
       " 'drink created mixologist bill rogers whose inspiration fluffy confection restaurant occasionally serves customers',\n",
       " 'priced deeply colorful libation topped billows bright pink cotton candy',\n",
       " 'light summery wonderful sipping outside',\n",
       " 'ounces absolut citron vodka pink cotton candy top shake vodka triple sec lime juice cranberry juice vigorously shaker ice',\n",
       " 'strain martini glass',\n",
       " 'garnish pink cotton candy around rim serve']"
      ]
     },
     "execution_count": 34,
     "metadata": {},
     "output_type": "execute_result"
    }
   ],
   "source": [
    "# take a look at the cleaned text\n",
    "train_text_cleaned[9]"
   ]
  },
  {
   "cell_type": "markdown",
   "metadata": {},
   "source": [
    "Note also that stemming and lemmatization has not been applied. The reason for this is that they often fail to get the proper root word, cutting off parts of it. For example, converting of past tense words by removal of \"ed\" might turn a word like \"red\" into \"r\". The porterstemmer in nltk uses this suffix stripping algorithm. We can go with another algorithm to better stem the words but again, it may take long. Given the time that we have, we will leave it for now.\n"
   ]
  },
  {
   "cell_type": "markdown",
   "metadata": {},
   "source": [
    "## EDA"
   ]
  },
  {
   "cell_type": "markdown",
   "metadata": {},
   "source": [
    "Now that we have fully cleaned sentences, let's do some exploratory data analysis."
   ]
  },
  {
   "cell_type": "markdown",
   "metadata": {},
   "source": [
    "#### Word count"
   ]
  },
  {
   "cell_type": "markdown",
   "metadata": {},
   "source": [
    "How many words do we have?"
   ]
  },
  {
   "cell_type": "code",
   "execution_count": 35,
   "metadata": {},
   "outputs": [],
   "source": [
    "# list the words in each sentence of each document\n",
    "text_word_count = pd.Series([i for y in train_text_cleaned for x in y for i in x.split()])"
   ]
  },
  {
   "cell_type": "code",
   "execution_count": 36,
   "metadata": {},
   "outputs": [
    {
     "name": "stdout",
     "output_type": "stream",
     "text": [
      "Text word count:  3142274\n"
     ]
    }
   ],
   "source": [
    "# print the length of the above list\n",
    "print(\"Text word count: \", len(text_word_count))"
   ]
  },
  {
   "cell_type": "code",
   "execution_count": 37,
   "metadata": {},
   "outputs": [],
   "source": [
    "# list the words in each sentence of each document\n",
    "summary_word_count = pd.Series([i for y in train_summary_cleaned for x in y for i in x.split()])"
   ]
  },
  {
   "cell_type": "code",
   "execution_count": 38,
   "metadata": {},
   "outputs": [
    {
     "name": "stdout",
     "output_type": "stream",
     "text": [
      "Summary word count:  205238\n"
     ]
    }
   ],
   "source": [
    "# print the length of the above list\n",
    "print(\"Summary word count: \", len(summary_word_count))"
   ]
  },
  {
   "cell_type": "markdown",
   "metadata": {},
   "source": [
    "#### Vocab size"
   ]
  },
  {
   "cell_type": "markdown",
   "metadata": {},
   "source": [
    "Looking at the vocabulary size, we can also see how big our document-term matrix might be."
   ]
  },
  {
   "cell_type": "code",
   "execution_count": 39,
   "metadata": {},
   "outputs": [],
   "source": [
    "# get the unique words from the list above \n",
    "text_vocab_size = text_word_count.nunique()"
   ]
  },
  {
   "cell_type": "code",
   "execution_count": 40,
   "metadata": {},
   "outputs": [
    {
     "name": "stdout",
     "output_type": "stream",
     "text": [
      "Text vocab size:  99100\n"
     ]
    }
   ],
   "source": [
    "# print the unique word count\n",
    "print(\"Text vocab size: \", text_vocab_size)"
   ]
  },
  {
   "cell_type": "code",
   "execution_count": 41,
   "metadata": {},
   "outputs": [],
   "source": [
    "# get the unique words\n",
    "summary_vocab_size = summary_word_count.nunique()"
   ]
  },
  {
   "cell_type": "code",
   "execution_count": 42,
   "metadata": {},
   "outputs": [
    {
     "name": "stdout",
     "output_type": "stream",
     "text": [
      "Summary vocab size:  28529\n"
     ]
    }
   ],
   "source": [
    "# print the unique word count\n",
    "print(\"Summary vocab size: \", summary_vocab_size)"
   ]
  },
  {
   "cell_type": "markdown",
   "metadata": {},
   "source": [
    "#### Sentence Lengths"
   ]
  },
  {
   "cell_type": "markdown",
   "metadata": {},
   "source": [
    "We should also look at the lengths of the sentences and articles to see what we are working with."
   ]
  },
  {
   "cell_type": "code",
   "execution_count": 43,
   "metadata": {},
   "outputs": [],
   "source": [
    "# list number of words for each sentence of each article\n",
    "text_sentence_lengths = [len(x.split()) for y in train_text_cleaned for x in y]\n",
    "# list number of sentences for each article\n",
    "text_article_lengths = [len(y) for y in train_text_cleaned]\n",
    "# list number of words for each sentence of each summary\n",
    "summary_sentence_lengths = [len(x.split()) for y in train_summary_cleaned for x in y]\n",
    "# list number of sentences for each summary\n",
    "summary_article_lengths = [len(y) for y in train_summary_cleaned]"
   ]
  },
  {
   "cell_type": "markdown",
   "metadata": {},
   "source": [
    "Since we are going to be converting our sentences into numerical vectors, specifically GloVe, we might want to know the length of the sentences."
   ]
  },
  {
   "cell_type": "code",
   "execution_count": 44,
   "metadata": {},
   "outputs": [
    {
     "name": "stdout",
     "output_type": "stream",
     "text": [
      "Max text sentence length:  636\n"
     ]
    },
    {
     "data": {
      "image/png": "[encoded data removed]",
      "text/plain": [
       "<Figure size 864x504 with 1 Axes>"
      ]
     },
     "metadata": {
      "needs_background": "light"
     },
     "output_type": "display_data"
    }
   ],
   "source": [
    "# look at distribution of sentence lengths for articles\n",
    "print(\"Max text sentence length: \", max(text_sentence_lengths))\n",
    "\n",
    "plt.figure(figsize=(12,7))\n",
    "plt.hist(text_sentence_lengths, bins=range(-40,500,20))\n",
    "plt.grid()\n",
    "plt.title('Sentence Lengths')\n",
    "plt.xlabel('Number of Words')\n",
    "plt.ylabel('Frequency')\n",
    "plt.xticks(range(-40,500,20))\n",
    "plt.xlim(-40,500)\n",
    "plt.show()"
   ]
  },
  {
   "cell_type": "code",
   "execution_count": 45,
   "metadata": {},
   "outputs": [
    {
     "name": "stdout",
     "output_type": "stream",
     "text": [
      "Max summary sentence lenth:  84\n"
     ]
    },
    {
     "data": {
      "image/png": "[encoded data removed]",
      "text/plain": [
       "<Figure size 864x504 with 1 Axes>"
      ]
     },
     "metadata": {
      "needs_background": "light"
     },
     "output_type": "display_data"
    }
   ],
   "source": [
    "# look at distribution of sentence lengths for summaries\n",
    "print(\"Max summary sentence lenth: \", max(summary_sentence_lengths))\n",
    "\n",
    "plt.figure(figsize=(12,7))\n",
    "plt.hist(summary_sentence_lengths, bins=range(-40,500,20))\n",
    "plt.grid()\n",
    "plt.title('Sentence Lengths')\n",
    "plt.xlabel('Number of Words')\n",
    "plt.ylabel('Frequency')\n",
    "plt.xticks(range(-40,500,20))\n",
    "plt.xlim(-40,500)\n",
    "plt.show()"
   ]
  },
  {
   "cell_type": "markdown",
   "metadata": {},
   "source": [
    "There seems to be some sentences that are quite long. To get sentence vectors rather than word vectors, we will need to average the many word vectors in a sentence to arrive at a consolidated sentence vector. For long sentences, this averaging process may blur out some of the context contained in the word vectors. However, since there are few, it should be okay. The only problem is that some extractive methods may tend to recognize longer sentences as more important. "
   ]
  },
  {
   "cell_type": "markdown",
   "metadata": {},
   "source": [
    "#### Article Lengths"
   ]
  },
  {
   "cell_type": "markdown",
   "metadata": {},
   "source": [
    "Now the article lengths."
   ]
  },
  {
   "cell_type": "code",
   "execution_count": 46,
   "metadata": {},
   "outputs": [
    {
     "name": "stdout",
     "output_type": "stream",
     "text": [
      "Max text article lenth:  1663\n"
     ]
    },
    {
     "data": {
      "image/png": "[encoded data removed]",
      "text/plain": [
       "<Figure size 864x504 with 1 Axes>"
      ]
     },
     "metadata": {
      "needs_background": "light"
     },
     "output_type": "display_data"
    }
   ],
   "source": [
    "# look at distribution of article lengths\n",
    "print(\"Max text article lenth: \", max(text_article_lengths))\n",
    "\n",
    "plt.figure(figsize=(12,7))\n",
    "plt.hist(text_article_lengths, bins=range(-30,300,10))\n",
    "plt.grid()\n",
    "plt.title('Article Lengths')\n",
    "plt.xlabel('Number of Sentences')\n",
    "plt.ylabel('Frequency')\n",
    "plt.xticks(range(-30,300,10))\n",
    "plt.xlim(-20,300)\n",
    "plt.savefig('article_lengths.png')\n",
    "plt.show()"
   ]
  },
  {
   "cell_type": "code",
   "execution_count": 47,
   "metadata": {},
   "outputs": [
    {
     "name": "stdout",
     "output_type": "stream",
     "text": [
      "Max summary article lenth:  49\n"
     ]
    },
    {
     "data": {
      "image/png": "[encoded data removed]",
      "text/plain": [
       "<Figure size 864x504 with 1 Axes>"
      ]
     },
     "metadata": {
      "needs_background": "light"
     },
     "output_type": "display_data"
    }
   ],
   "source": [
    "# look at distribution of summary lengths\n",
    "print(\"Max summary article lenth: \", max(summary_article_lengths))\n",
    "\n",
    "plt.figure(figsize=(12,7))\n",
    "plt.hist(summary_article_lengths, bins=range(-30,300,10))\n",
    "plt.grid()\n",
    "plt.title('Article Lengths')\n",
    "plt.xlabel('Number of Sentences')\n",
    "plt.ylabel('Frequency')\n",
    "plt.xticks(range(-30,300,10))\n",
    "plt.xlim(-20,300)\n",
    "plt.show()"
   ]
  },
  {
   "cell_type": "markdown",
   "metadata": {},
   "source": [
    "As we can see, most are the summaries are under 10 sentences and most of the articles are at most 40-50 sentences long. So let's try to get it down to no more than 5 sentences."
   ]
  },
  {
   "cell_type": "markdown",
   "metadata": {},
   "source": [
    "## GloVe Vectors"
   ]
  },
  {
   "cell_type": "markdown",
   "metadata": {},
   "source": [
    "To represent our sentences numerically, we will be using Global Vectors which is an unsupervised algorithm for obtaining vector representations of words. It maps the words into a data space such that the distances between them represent their semantic similarity. We will be using the 100 dimensional glove vectors."
   ]
  },
  {
   "cell_type": "code",
   "execution_count": 48,
   "metadata": {},
   "outputs": [
    {
     "name": "stdout",
     "output_type": "stream",
     "text": [
      "Found 400000 word vectors.\n"
     ]
    }
   ],
   "source": [
    "# store word vectors in a dictionary\n",
    "word_embeddings = {}\n",
    "with open('glove/glove.6B.100d.txt') as f:\n",
    "    # for each line, get the word vector\n",
    "    for line in f:\n",
    "        word, coefs = line.split(maxsplit=1)\n",
    "        coefs = np.fromstring(coefs, \"f\", sep=\" \")\n",
    "        word_embeddings[word] = coefs\n",
    "# print number of word vectors found\n",
    "print(\"Found %s word vectors.\" % len(word_embeddings))"
   ]
  },
  {
   "cell_type": "markdown",
   "metadata": {},
   "source": [
    "We see that there are 400000 word vectors. This means that we have 100 dimensional vector representations for 400000 words which we can use for our text. Given our vocabulary size, these vectors should be able to represent most of the words we have. Let's get those word vectors now by searching through the text file and finding each associated vector."
   ]
  },
  {
   "cell_type": "code",
   "execution_count": 49,
   "metadata": {},
   "outputs": [],
   "source": [
    "# create the vectorizer\n",
    "def glove(cleaned_text):\n",
    "    # create an empty list to store each sentence vector of a document\n",
    "    glove_vectors = []\n",
    "    \n",
    "    #for each sentence.. \n",
    "    for i in cleaned_text:\n",
    "        if len(i)!=0:\n",
    "            # get the associated vector\n",
    "            v = sum([word_embeddings.get(w, np.zeros((100,))) for w in i.split()])/(len(i.split())+0.001)\n",
    "        else:\n",
    "            # zeros if for some reason the sentence is blank\n",
    "            v = np.zeros((100,))\n",
    "         # add vector to list\n",
    "        glove_vectors.append(v)\n",
    "        \n",
    "    return glove_vectors"
   ]
  },
  {
   "cell_type": "code",
   "execution_count": 50,
   "metadata": {},
   "outputs": [],
   "source": [
    "# vectorize each sentence of each document\n",
    "train_text_vectors = train_text_cleaned.apply(glove)\n",
    "valid_text_vectors = valid_text_cleaned.apply(glove)"
   ]
  },
  {
   "cell_type": "code",
   "execution_count": 51,
   "metadata": {},
   "outputs": [],
   "source": [
    "# vectorize titles as well\n",
    "train_title_vectors = glove(train_title_cleaned)\n",
    "valid_title_vectors = glove(valid_title_cleaned)"
   ]
  },
  {
   "cell_type": "markdown",
   "metadata": {},
   "source": [
    "To reiterate, for this document here, we have 7 sentences vectors of dimension 100. They were obtained by averaging the word vectors in each of the sentences."
   ]
  },
  {
   "cell_type": "code",
   "execution_count": 52,
   "metadata": {
    "scrolled": true
   },
   "outputs": [
    {
     "data": {
      "text/html": [
       "<div>\n",
       "<style scoped>\n",
       "    .dataframe tbody tr th:only-of-type {\n",
       "        vertical-align: middle;\n",
       "    }\n",
       "\n",
       "    .dataframe tbody tr th {\n",
       "        vertical-align: top;\n",
       "    }\n",
       "\n",
       "    .dataframe thead th {\n",
       "        text-align: right;\n",
       "    }\n",
       "</style>\n",
       "<table border=\"1\" class=\"dataframe\">\n",
       "  <thead>\n",
       "    <tr style=\"text-align: right;\">\n",
       "      <th></th>\n",
       "      <th>0</th>\n",
       "      <th>1</th>\n",
       "      <th>2</th>\n",
       "      <th>3</th>\n",
       "      <th>4</th>\n",
       "      <th>5</th>\n",
       "      <th>6</th>\n",
       "      <th>7</th>\n",
       "      <th>8</th>\n",
       "      <th>9</th>\n",
       "      <th>...</th>\n",
       "      <th>90</th>\n",
       "      <th>91</th>\n",
       "      <th>92</th>\n",
       "      <th>93</th>\n",
       "      <th>94</th>\n",
       "      <th>95</th>\n",
       "      <th>96</th>\n",
       "      <th>97</th>\n",
       "      <th>98</th>\n",
       "      <th>99</th>\n",
       "    </tr>\n",
       "  </thead>\n",
       "  <tbody>\n",
       "    <tr>\n",
       "      <th>0</th>\n",
       "      <td>-0.145162</td>\n",
       "      <td>0.202959</td>\n",
       "      <td>0.083033</td>\n",
       "      <td>0.021230</td>\n",
       "      <td>-0.033726</td>\n",
       "      <td>0.198228</td>\n",
       "      <td>0.224571</td>\n",
       "      <td>0.193912</td>\n",
       "      <td>-0.045268</td>\n",
       "      <td>-0.011951</td>\n",
       "      <td>...</td>\n",
       "      <td>0.032656</td>\n",
       "      <td>0.184367</td>\n",
       "      <td>-0.077485</td>\n",
       "      <td>-0.032076</td>\n",
       "      <td>-0.364801</td>\n",
       "      <td>-0.281641</td>\n",
       "      <td>-0.161108</td>\n",
       "      <td>-0.346176</td>\n",
       "      <td>0.400666</td>\n",
       "      <td>0.268685</td>\n",
       "    </tr>\n",
       "    <tr>\n",
       "      <th>1</th>\n",
       "      <td>-0.018886</td>\n",
       "      <td>0.056442</td>\n",
       "      <td>0.105896</td>\n",
       "      <td>-0.121437</td>\n",
       "      <td>0.249938</td>\n",
       "      <td>0.366046</td>\n",
       "      <td>0.167245</td>\n",
       "      <td>0.024463</td>\n",
       "      <td>-0.021834</td>\n",
       "      <td>-0.211786</td>\n",
       "      <td>...</td>\n",
       "      <td>0.178190</td>\n",
       "      <td>-0.047212</td>\n",
       "      <td>-0.011647</td>\n",
       "      <td>-0.212827</td>\n",
       "      <td>-0.253060</td>\n",
       "      <td>-0.015436</td>\n",
       "      <td>-0.244677</td>\n",
       "      <td>-0.224914</td>\n",
       "      <td>0.368187</td>\n",
       "      <td>0.262787</td>\n",
       "    </tr>\n",
       "    <tr>\n",
       "      <th>2</th>\n",
       "      <td>-0.304682</td>\n",
       "      <td>0.560569</td>\n",
       "      <td>-0.133618</td>\n",
       "      <td>-0.257897</td>\n",
       "      <td>0.302464</td>\n",
       "      <td>0.191935</td>\n",
       "      <td>0.084825</td>\n",
       "      <td>-0.016538</td>\n",
       "      <td>-0.121428</td>\n",
       "      <td>0.049960</td>\n",
       "      <td>...</td>\n",
       "      <td>0.135895</td>\n",
       "      <td>-0.081658</td>\n",
       "      <td>-0.311363</td>\n",
       "      <td>-0.389332</td>\n",
       "      <td>-0.444412</td>\n",
       "      <td>-0.221148</td>\n",
       "      <td>-0.655751</td>\n",
       "      <td>-0.070875</td>\n",
       "      <td>0.089192</td>\n",
       "      <td>0.142695</td>\n",
       "    </tr>\n",
       "    <tr>\n",
       "      <th>3</th>\n",
       "      <td>-0.148289</td>\n",
       "      <td>0.323313</td>\n",
       "      <td>0.200786</td>\n",
       "      <td>0.014595</td>\n",
       "      <td>0.025815</td>\n",
       "      <td>0.421324</td>\n",
       "      <td>0.159114</td>\n",
       "      <td>0.456669</td>\n",
       "      <td>-0.332641</td>\n",
       "      <td>-0.008107</td>\n",
       "      <td>...</td>\n",
       "      <td>0.536184</td>\n",
       "      <td>-0.158985</td>\n",
       "      <td>0.050224</td>\n",
       "      <td>-0.169998</td>\n",
       "      <td>-0.487363</td>\n",
       "      <td>0.020060</td>\n",
       "      <td>-0.381197</td>\n",
       "      <td>-0.140389</td>\n",
       "      <td>0.276157</td>\n",
       "      <td>0.587678</td>\n",
       "    </tr>\n",
       "    <tr>\n",
       "      <th>4</th>\n",
       "      <td>-0.213823</td>\n",
       "      <td>0.164425</td>\n",
       "      <td>-0.102897</td>\n",
       "      <td>-0.089077</td>\n",
       "      <td>0.103905</td>\n",
       "      <td>0.117737</td>\n",
       "      <td>0.626889</td>\n",
       "      <td>0.121240</td>\n",
       "      <td>0.051505</td>\n",
       "      <td>-0.035561</td>\n",
       "      <td>...</td>\n",
       "      <td>-0.152732</td>\n",
       "      <td>-0.009803</td>\n",
       "      <td>-0.775340</td>\n",
       "      <td>-0.392679</td>\n",
       "      <td>-0.234391</td>\n",
       "      <td>-0.532439</td>\n",
       "      <td>-0.216811</td>\n",
       "      <td>0.038757</td>\n",
       "      <td>0.312363</td>\n",
       "      <td>0.268043</td>\n",
       "    </tr>\n",
       "    <tr>\n",
       "      <th>5</th>\n",
       "      <td>-0.518291</td>\n",
       "      <td>0.554073</td>\n",
       "      <td>-0.363555</td>\n",
       "      <td>-0.063451</td>\n",
       "      <td>-0.698697</td>\n",
       "      <td>0.648744</td>\n",
       "      <td>0.559364</td>\n",
       "      <td>-0.252194</td>\n",
       "      <td>0.173947</td>\n",
       "      <td>-0.080063</td>\n",
       "      <td>...</td>\n",
       "      <td>0.095418</td>\n",
       "      <td>-0.328108</td>\n",
       "      <td>-0.080330</td>\n",
       "      <td>-0.137200</td>\n",
       "      <td>0.268265</td>\n",
       "      <td>0.047275</td>\n",
       "      <td>0.045918</td>\n",
       "      <td>-0.758071</td>\n",
       "      <td>-0.007365</td>\n",
       "      <td>-0.101419</td>\n",
       "    </tr>\n",
       "    <tr>\n",
       "      <th>6</th>\n",
       "      <td>-0.480881</td>\n",
       "      <td>0.312878</td>\n",
       "      <td>-0.030897</td>\n",
       "      <td>0.085693</td>\n",
       "      <td>0.261603</td>\n",
       "      <td>0.316802</td>\n",
       "      <td>0.157372</td>\n",
       "      <td>0.253171</td>\n",
       "      <td>-0.095553</td>\n",
       "      <td>-0.312359</td>\n",
       "      <td>...</td>\n",
       "      <td>-0.015550</td>\n",
       "      <td>-0.020629</td>\n",
       "      <td>-0.332199</td>\n",
       "      <td>-0.641851</td>\n",
       "      <td>-0.404755</td>\n",
       "      <td>-0.325123</td>\n",
       "      <td>-0.219310</td>\n",
       "      <td>-0.027603</td>\n",
       "      <td>0.497640</td>\n",
       "      <td>0.364649</td>\n",
       "    </tr>\n",
       "  </tbody>\n",
       "</table>\n",
       "<p>7 rows × 100 columns</p>\n",
       "</div>"
      ],
      "text/plain": [
       "         0         1         2         3         4         5         6   \\\n",
       "0 -0.145162  0.202959  0.083033  0.021230 -0.033726  0.198228  0.224571   \n",
       "1 -0.018886  0.056442  0.105896 -0.121437  0.249938  0.366046  0.167245   \n",
       "2 -0.304682  0.560569 -0.133618 -0.257897  0.302464  0.191935  0.084825   \n",
       "3 -0.148289  0.323313  0.200786  0.014595  0.025815  0.421324  0.159114   \n",
       "4 -0.213823  0.164425 -0.102897 -0.089077  0.103905  0.117737  0.626889   \n",
       "5 -0.518291  0.554073 -0.363555 -0.063451 -0.698697  0.648744  0.559364   \n",
       "6 -0.480881  0.312878 -0.030897  0.085693  0.261603  0.316802  0.157372   \n",
       "\n",
       "         7         8         9   ...        90        91        92        93  \\\n",
       "0  0.193912 -0.045268 -0.011951  ...  0.032656  0.184367 -0.077485 -0.032076   \n",
       "1  0.024463 -0.021834 -0.211786  ...  0.178190 -0.047212 -0.011647 -0.212827   \n",
       "2 -0.016538 -0.121428  0.049960  ...  0.135895 -0.081658 -0.311363 -0.389332   \n",
       "3  0.456669 -0.332641 -0.008107  ...  0.536184 -0.158985  0.050224 -0.169998   \n",
       "4  0.121240  0.051505 -0.035561  ... -0.152732 -0.009803 -0.775340 -0.392679   \n",
       "5 -0.252194  0.173947 -0.080063  ...  0.095418 -0.328108 -0.080330 -0.137200   \n",
       "6  0.253171 -0.095553 -0.312359  ... -0.015550 -0.020629 -0.332199 -0.641851   \n",
       "\n",
       "         94        95        96        97        98        99  \n",
       "0 -0.364801 -0.281641 -0.161108 -0.346176  0.400666  0.268685  \n",
       "1 -0.253060 -0.015436 -0.244677 -0.224914  0.368187  0.262787  \n",
       "2 -0.444412 -0.221148 -0.655751 -0.070875  0.089192  0.142695  \n",
       "3 -0.487363  0.020060 -0.381197 -0.140389  0.276157  0.587678  \n",
       "4 -0.234391 -0.532439 -0.216811  0.038757  0.312363  0.268043  \n",
       "5  0.268265  0.047275  0.045918 -0.758071 -0.007365 -0.101419  \n",
       "6 -0.404755 -0.325123 -0.219310 -0.027603  0.497640  0.364649  \n",
       "\n",
       "[7 rows x 100 columns]"
      ]
     },
     "execution_count": 52,
     "metadata": {},
     "output_type": "execute_result"
    }
   ],
   "source": [
    "# look at a vectorized document\n",
    "pd.DataFrame(train_text_vectors[9])"
   ]
  },
  {
   "cell_type": "markdown",
   "metadata": {},
   "source": [
    "Now that we have a numerical representation of our text data and have captured the semantics behind them, we can finally create an intermediate representation, meaning apply our extractive methods in such a way that we can rank our sentences in terms of importance. Let's start with TextRank."
   ]
  },
  {
   "cell_type": "markdown",
   "metadata": {},
   "source": [
    "## TextRank"
   ]
  },
  {
   "cell_type": "markdown",
   "metadata": {},
   "source": [
    "The TextRank algorithm is basically just PageRank (an algorithm Google has used to rank its webpages) on text data. PageRank requires an adjacency matrix so in our case, we can use the similarity matrices to represent the connections between the sentences. We can then feed them to the pagerank algorithm which assign the sentences \"pagerank scores\" that tell us how important they are. Let's import cosine_similarity and networkx which is a library commonly used for network analysis. Let's also install and import rouge, the evaluation metric that we will be using to compare the generated summaries with the reference summaries."
   ]
  },
  {
   "cell_type": "code",
   "execution_count": 53,
   "metadata": {},
   "outputs": [],
   "source": [
    "# import required libraries\n",
    "from sklearn.metrics.pairwise import cosine_similarity\n",
    "import networkx as nx\n",
    "from rouge import Rouge"
   ]
  },
  {
   "cell_type": "markdown",
   "metadata": {},
   "source": [
    "#### Cosine Similarity"
   ]
  },
  {
   "cell_type": "markdown",
   "metadata": {},
   "source": [
    "First off, we need to instantiate similarity matrices for each document. We can do this by creating a list and appending an empty matrix of size n (n = number of sentences) for each document. For 10000 documents, we should have 10000 matrices."
   ]
  },
  {
   "cell_type": "code",
   "execution_count": 54,
   "metadata": {},
   "outputs": [],
   "source": [
    "# create empty matrices \n",
    "sim_mat=[]\n",
    "for i in train_text_vectors:\n",
    "    sim_mat.append(np.zeros([len(i), len(i)]))"
   ]
  },
  {
   "cell_type": "markdown",
   "metadata": {},
   "source": [
    "Now, we go through each matrix and fill them in with cosine similarities."
   ]
  },
  {
   "cell_type": "code",
   "execution_count": 55,
   "metadata": {},
   "outputs": [
    {
     "name": "stdout",
     "output_type": "stream",
     "text": [
      "--- 71.41486599842708 minutes ---\n"
     ]
    }
   ],
   "source": [
    "start_time = time.time()\n",
    "\n",
    "# loop through each document\n",
    "i=-1\n",
    "for z in train_text_vectors:\n",
    "    i+=1\n",
    "    \n",
    "    # loop through each sentence\n",
    "    for y in range(len(z)):\n",
    "        for x in range(len(z)):\n",
    "            # calculate cosine similarity between each sentence and each other sentence in the document\n",
    "            if y!=x:\n",
    "                sim_mat[i][y][x] = cosine_similarity(z[y].reshape(1,100), z[x].reshape(1,100))[0,0]\n",
    "                \n",
    "print(\"--- %s minutes ---\" % ((time.time() - start_time)/60))"
   ]
  },
  {
   "cell_type": "markdown",
   "metadata": {},
   "source": [
    "Let's take a look at how one of them looks like."
   ]
  },
  {
   "cell_type": "code",
   "execution_count": 56,
   "metadata": {},
   "outputs": [
    {
     "data": {
      "image/png": "[encoded data removed]",
      "text/plain": [
       "<Figure size 1080x720 with 2 Axes>"
      ]
     },
     "metadata": {
      "needs_background": "light"
     },
     "output_type": "display_data"
    }
   ],
   "source": [
    "# plot a similarity matrix\n",
    "plt.figure(figsize=(15,10))\n",
    "sns.heatmap(pd.DataFrame(sim_mat[4]),cmap='flare',annot=True)\n",
    "plt.savefig('heatmap.png')"
   ]
  },
  {
   "cell_type": "code",
   "execution_count": 57,
   "metadata": {},
   "outputs": [
    {
     "data": {
      "text/plain": [
       "['Bake for 25- 30 minutes or until golden brown.',\n",
       " 'Look for phyllo dough in the supermarket freezer case.',\n",
       " 'Once thawed, it can successfully be refrozen.',\n",
       " 'Optional flavorings for the filling include a grating of fresh nutmeg and some chopped fresh dill.',\n",
       " 'You can freeze spinach pie, well wrapped, for up to three months.']"
      ]
     },
     "execution_count": 57,
     "metadata": {},
     "output_type": "execute_result"
    }
   ],
   "source": [
    "# look at associated sentences\n",
    "train_text_ready[4][13:18]"
   ]
  },
  {
   "cell_type": "markdown",
   "metadata": {},
   "source": [
    "Here we see that one of the sentences (middle) are different from the others. We see that its slightly shorter and has more rare words. Perhaps more rigorous stemming techniques should be explored later on."
   ]
  },
  {
   "cell_type": "markdown",
   "metadata": {},
   "source": [
    "#### PageRank Scores"
   ]
  },
  {
   "cell_type": "markdown",
   "metadata": {},
   "source": [
    "Now that we have an intermediate represntation of the text, we can run the pagerank algorithm on each similarity matrix and score each sentence of each document."
   ]
  },
  {
   "cell_type": "code",
   "execution_count": 58,
   "metadata": {},
   "outputs": [],
   "source": [
    "# create an empty list for storing the scores\n",
    "pagerank_scores=[]\n",
    "# loop through matrices\n",
    "for i in sim_mat:\n",
    "    # run the page rank algorithm \n",
    "    nx_graph = nx.from_numpy_array(i)\n",
    "    pagerank_scores.append(nx.pagerank_numpy(nx_graph))"
   ]
  },
  {
   "cell_type": "markdown",
   "metadata": {},
   "source": [
    "If we take a look at the completed graph, we see that one of points is far away from the others. This is the sentence we saw before. That means TextRank was able to pick up on which sentences were less important. "
   ]
  },
  {
   "cell_type": "code",
   "execution_count": 59,
   "metadata": {},
   "outputs": [
    {
     "data": {
      "image/png": "[encoded data removed]",
      "text/plain": [
       "<Figure size 432x288 with 1 Axes>"
      ]
     },
     "metadata": {},
     "output_type": "display_data"
    }
   ],
   "source": [
    "# look at a completed graph\n",
    "nx.draw(nx.from_numpy_array(sim_mat[4]))"
   ]
  },
  {
   "cell_type": "markdown",
   "metadata": {},
   "source": [
    "#### Ranking"
   ]
  },
  {
   "cell_type": "markdown",
   "metadata": {},
   "source": [
    "Using the scores we got from the intermediate representation, let's rank the sentences accordingly."
   ]
  },
  {
   "cell_type": "code",
   "execution_count": 60,
   "metadata": {},
   "outputs": [],
   "source": [
    "# create a function to rank sentences based on scores\n",
    "def rank(text, scores):\n",
    "    # create an empty list for storing the scores\n",
    "    ranked = []\n",
    "    # rank and sort sentences for each document\n",
    "    for x in range(len(text)):\n",
    "        ranked_sentences = sorted(((scores[x][i],s) for i,s in enumerate(text[x])), reverse=True)\n",
    "        ranked.append(ranked_sentences)\n",
    "        \n",
    "    return ranked"
   ]
  },
  {
   "cell_type": "code",
   "execution_count": 61,
   "metadata": {},
   "outputs": [],
   "source": [
    "# apply ranking\n",
    "textranked = rank(train_text_ready, pagerank_scores)"
   ]
  },
  {
   "cell_type": "markdown",
   "metadata": {},
   "source": [
    "If we look at the top 3 sentences and the bottom 3 sentences, it is quite evident that TextRank did a good job at identifying important and non-important sentences."
   ]
  },
  {
   "cell_type": "code",
   "execution_count": 62,
   "metadata": {},
   "outputs": [
    {
     "data": {
      "text/plain": [
       "[(0.15483684211372117,\n",
       "  \"Wednesday, May 18th 2005, 9:59AM  Summer is shaping up as extra sweet at Cafe Centro, where the menu features treats like s'mores, chocolate fondue and a unique cocktail called the Cotton Candy Cosmo.\"),\n",
       " (0.1542837461531047,\n",
       "  'Garnish with pink cotton candy all around the rim and serve.'),\n",
       " (0.14512804886305722,\n",
       "  'Priced at $9, the deeply colorful libation is topped with billows of bright pink cotton candy.')]"
      ]
     },
     "execution_count": 62,
     "metadata": {},
     "output_type": "execute_result"
    }
   ],
   "source": [
    "# look at top ranked sentences\n",
    "textranked[9][:3]"
   ]
  },
  {
   "cell_type": "code",
   "execution_count": 63,
   "metadata": {},
   "outputs": [
    {
     "data": {
      "text/plain": [
       "[(0.1416671579793269,\n",
       "  '2 ounces Absolut Citron Vodka  Pink cotton candy for the top  Shake vodka, Triple Sec, lime juice and cranberry juice vigorously in a shaker with ice.'),\n",
       " (0.13666039827631732,\n",
       "  \"It's light, summery and wonderful for sipping outside.\"),\n",
       " (0.12258655582655062, 'Strain into a martini glass.')]"
      ]
     },
     "execution_count": 63,
     "metadata": {},
     "output_type": "execute_result"
    }
   ],
   "source": [
    "# look at bottom ranked sentences\n",
    "textranked[9][-3:]"
   ]
  },
  {
   "cell_type": "markdown",
   "metadata": {},
   "source": [
    "#### Summary"
   ]
  },
  {
   "cell_type": "markdown",
   "metadata": {},
   "source": [
    "Finally, we can generate the summary based on the above rankings. For articles longer than 5 sentences, we will create 5 sentence summaries. For articles less than 5 sentences, we will simply sort the sentences."
   ]
  },
  {
   "cell_type": "code",
   "execution_count": 64,
   "metadata": {},
   "outputs": [],
   "source": [
    "# create a function to extract a number of sentences\n",
    "def summarize(ranked_sentences, length):\n",
    "    # create a list for storing the sentences\n",
    "    summaries = []\n",
    "    \n",
    "    # loop through each document\n",
    "    for sentences in ranked_sentences:\n",
    "        \n",
    "        summary = \"\"\n",
    "        # create summary of specified length\n",
    "        if len(sentences)>length:\n",
    "            for i in range(length):\n",
    "                summary += sentences[i][1] + \" \"\n",
    "        # if less than specified length, create summary of length document\n",
    "        else:\n",
    "            for i in range(len(sentences)):\n",
    "                summary += sentences[i][1] + \" \"\n",
    "\n",
    "        summaries.append(summary)\n",
    "    \n",
    "    return summaries"
   ]
  },
  {
   "cell_type": "markdown",
   "metadata": {},
   "source": [
    "A function is used here so that we can easily change the length of summary later on."
   ]
  },
  {
   "cell_type": "code",
   "execution_count": 65,
   "metadata": {},
   "outputs": [],
   "source": [
    "# apply summarization\n",
    "textrank_summaries = summarize(textranked, 5)"
   ]
  },
  {
   "cell_type": "code",
   "execution_count": 66,
   "metadata": {},
   "outputs": [
    {
     "data": {
      "text/plain": [
       "\"Wednesday, May 18th 2005, 9:59AM  Summer is shaping up as extra sweet at Cafe Centro, where the menu features treats like s'mores, chocolate fondue and a unique cocktail called the Cotton Candy Cosmo. Garnish with pink cotton candy all around the rim and serve. Priced at $9, the deeply colorful libation is topped with billows of bright pink cotton candy. The drink was created by mixologist Bill Rogers, whose inspiration was the fluffy confection that the restaurant  occasionally serves to customers. 2 ounces Absolut Citron Vodka  Pink cotton candy for the top  Shake vodka, Triple Sec, lime juice and cranberry juice vigorously in a shaker with ice. \""
      ]
     },
     "execution_count": 66,
     "metadata": {},
     "output_type": "execute_result"
    }
   ],
   "source": [
    "# look at a summary\n",
    "textrank_summaries[9]"
   ]
  },
  {
   "cell_type": "markdown",
   "metadata": {},
   "source": [
    "Although the summary is not perfect, it is very usable. Note that the goal here is not to generate human-like summaries but ones adequate and reliable."
   ]
  },
  {
   "cell_type": "markdown",
   "metadata": {},
   "source": [
    "#### Evaluation"
   ]
  },
  {
   "cell_type": "markdown",
   "metadata": {},
   "source": [
    "Let's also evaluate them against the reference summaries to see how they did. We use 2-gram overlaps for comparison which is more strict than a 1-gram. We also use the f1 score, which although not as interpretable as recall and precision individually, take into consideration both. If we use recall, we are looking at how much of the generated summary is in the reference summary. That means longer summaries will naturally have higher scores, making it not the best measure."
   ]
  },
  {
   "cell_type": "code",
   "execution_count": 67,
   "metadata": {},
   "outputs": [],
   "source": [
    "# create rouge evaluation function\n",
    "def rouge2f(hypothesis,reference):\n",
    "    \n",
    "    rouge = Rouge()\n",
    "    # create an empty list to store score of each summary\n",
    "    scores = []\n",
    "    \n",
    "    # calculate rouge scores\n",
    "    for i in range(len(hypothesis)): \n",
    "        score = rouge.get_scores(hypothesis[i], reference[i])[0]['rouge-2']['f']\n",
    "        scores.append(score)\n",
    "    \n",
    "    return score"
   ]
  },
  {
   "cell_type": "code",
   "execution_count": 68,
   "metadata": {},
   "outputs": [
    {
     "data": {
      "text/plain": [
       "0.5773195834371347"
      ]
     },
     "execution_count": 68,
     "metadata": {},
     "output_type": "execute_result"
    }
   ],
   "source": [
    "rouge2f(textrank_summaries,df_train['summary'])"
   ]
  },
  {
   "cell_type": "markdown",
   "metadata": {},
   "source": [
    "According to scientific literature, this score is considered very high. Advanced abstractive summarizers generally score around 40% so for an extractive approach like TextRank to score this high is really great."
   ]
  },
  {
   "cell_type": "markdown",
   "metadata": {},
   "source": [
    "## Latent Semantic Indexing"
   ]
  },
  {
   "cell_type": "markdown",
   "metadata": {},
   "source": [
    "Now we move on to Latent Semantic Analysis, which is used for topic-modelling. By looking at the topics represented in the text and the \"topic signatures\" for each sentence, we can identify which sentences are more important. To perform singular value decomposition, we will use TruncatedSVD."
   ]
  },
  {
   "cell_type": "code",
   "execution_count": 69,
   "metadata": {},
   "outputs": [],
   "source": [
    "# import libraries\n",
    "from sklearn.decomposition import TruncatedSVD\n",
    "import warnings\n",
    "warnings.filterwarnings(\"ignore\")"
   ]
  },
  {
   "cell_type": "markdown",
   "metadata": {},
   "source": [
    "#### Topic Signatures"
   ]
  },
  {
   "cell_type": "markdown",
   "metadata": {},
   "source": [
    "Now looping through each document, we perform the SVD and get each sentence's \"score\" for the first topic. The reason we are using the first topic is that these articles are relatively short. If we look at the second topic, we see that there isn't much there. Most of the document is represented by a single topic."
   ]
  },
  {
   "cell_type": "code",
   "execution_count": 70,
   "metadata": {
    "scrolled": true
   },
   "outputs": [],
   "source": [
    "# create list for storing topic signatures\n",
    "topic_sigs=[]\n",
    "\n",
    "# perform svd on each document\n",
    "for i in train_text_vectors:\n",
    "    svd = TruncatedSVD(n_components = 2)\n",
    "    lsa = svd.fit_transform(i)\n",
    "    # get topic1 signatures\n",
    "    topic_sig = [x[0] for x in lsa]\n",
    "    # add to scores list\n",
    "    topic_sigs.append(topic_sig)"
   ]
  },
  {
   "cell_type": "markdown",
   "metadata": {},
   "source": [
    "#### Ranking"
   ]
  },
  {
   "cell_type": "markdown",
   "metadata": {},
   "source": [
    "Like before, we apply the ranking function we created earlier, this time based on the topic signatures."
   ]
  },
  {
   "cell_type": "code",
   "execution_count": 71,
   "metadata": {},
   "outputs": [],
   "source": [
    "# rank the sentences\n",
    "lsi_ranked = rank(train_text_ready, topic_sigs)"
   ]
  },
  {
   "cell_type": "code",
   "execution_count": 72,
   "metadata": {},
   "outputs": [
    {
     "data": {
      "text/plain": [
       "[(3.898714489987421, 'I like quiet.\"'),\n",
       " (3.8629062957078912, 'I didn\\'t care.\"'),\n",
       " (3.570165657085953, \"Either way, it hasn't stopped Hollywood from calling.\")]"
      ]
     },
     "execution_count": 72,
     "metadata": {},
     "output_type": "execute_result"
    }
   ],
   "source": [
    "# check top sentences\n",
    "lsi_ranked[3][:3]"
   ]
  },
  {
   "cell_type": "code",
   "execution_count": 73,
   "metadata": {},
   "outputs": [
    {
     "data": {
      "text/plain": [
       "[(1.5319987125829273, 'BY A.J.'), (0.8478305323751729, 'Spooky.'), (-0.0, '')]"
      ]
     },
     "execution_count": 73,
     "metadata": {},
     "output_type": "execute_result"
    }
   ],
   "source": [
    "# check bottom sentences\n",
    "lsi_ranked[3][-3:]"
   ]
  },
  {
   "cell_type": "markdown",
   "metadata": {},
   "source": [
    "Looking at the ranked sentences, it doesn't seem that LSA did too well at identifying important sentences. The top three sentences do not look very informative. It did seem, however, to identify the non-important ones."
   ]
  },
  {
   "cell_type": "markdown",
   "metadata": {},
   "source": [
    "#### Summary"
   ]
  },
  {
   "cell_type": "markdown",
   "metadata": {},
   "source": [
    "Now let's generate the summaries."
   ]
  },
  {
   "cell_type": "code",
   "execution_count": 74,
   "metadata": {},
   "outputs": [],
   "source": [
    "# summarize\n",
    "lsi_summaries = summarize(lsi_ranked, 5)"
   ]
  },
  {
   "cell_type": "code",
   "execution_count": 75,
   "metadata": {},
   "outputs": [
    {
     "data": {
      "text/plain": [
       "\"Strain into a martini glass. Garnish with pink cotton candy all around the rim and serve. 2 ounces Absolut Citron Vodka  Pink cotton candy for the top  Shake vodka, Triple Sec, lime juice and cranberry juice vigorously in a shaker with ice. It's light, summery and wonderful for sipping outside. Priced at $9, the deeply colorful libation is topped with billows of bright pink cotton candy. \""
      ]
     },
     "execution_count": 75,
     "metadata": {},
     "output_type": "execute_result"
    }
   ],
   "source": [
    "# check summary\n",
    "lsi_summaries[9]"
   ]
  },
  {
   "cell_type": "markdown",
   "metadata": {},
   "source": [
    "Again, it is very obvious here, that LSA did not perform as well as TextRank. The good thing, however, is that by comparing the two, we know what a better summary looks like in this case.\n"
   ]
  },
  {
   "cell_type": "markdown",
   "metadata": {},
   "source": [
    "#### Evaluation"
   ]
  },
  {
   "cell_type": "code",
   "execution_count": 76,
   "metadata": {},
   "outputs": [
    {
     "data": {
      "text/plain": [
       "0.3333333289654321"
      ]
     },
     "execution_count": 76,
     "metadata": {},
     "output_type": "execute_result"
    }
   ],
   "source": [
    "# evaluate\n",
    "rouge2f(lsi_summaries,df_train['summary'])"
   ]
  },
  {
   "cell_type": "markdown",
   "metadata": {},
   "source": [
    "At first the rouge score was quite low here (5.3%) when working with only 1000 documents, but when we scaled the data up to 10000, the rouge score increased significantly."
   ]
  },
  {
   "cell_type": "markdown",
   "metadata": {},
   "source": [
    "## TF-IDF"
   ]
  },
  {
   "cell_type": "markdown",
   "metadata": {},
   "source": [
    "For our third method, we will try the TF-IDF approach, which is the most simple out of the four. The idea here is that sentences with higher levels of overall term frequency tend to be more important. If a sentence contains words that have high frequencies throughout the article, then there is a good chance that this sentence is relevant."
   ]
  },
  {
   "cell_type": "code",
   "execution_count": 77,
   "metadata": {},
   "outputs": [],
   "source": [
    "# import tfidf vectorizer\n",
    "from sklearn.feature_extraction.text import TfidfVectorizer"
   ]
  },
  {
   "cell_type": "markdown",
   "metadata": {},
   "source": [
    "#### Term Frequency Weights"
   ]
  },
  {
   "cell_type": "markdown",
   "metadata": {},
   "source": [
    "Instead of using GloVe to numerically respresent the text, we will use here instead TF-IDF (term frequency * inverse document frequency). Luckily, we have the TfidfVectorizer which will do it for us. "
   ]
  },
  {
   "cell_type": "code",
   "execution_count": 78,
   "metadata": {},
   "outputs": [],
   "source": [
    "# create empty list for storing tfidf scores\n",
    "tf_weights = []\n",
    "\n",
    "\n",
    "for y in train_text_cleaned:\n",
    "    # bag of words\n",
    "    bagofwords = TfidfVectorizer()\n",
    "    transformed = bagofwords.fit_transform(y)\n",
    "    # score each sentence based on weights\n",
    "    sentence_scores = [sum(i) for i in transformed.toarray()]\n",
    "    tf_weights.append(sentence_scores)\n",
    "    "
   ]
  },
  {
   "cell_type": "markdown",
   "metadata": {},
   "source": [
    "Let take a look at how these vectors compare with the glove vectors."
   ]
  },
  {
   "cell_type": "code",
   "execution_count": 79,
   "metadata": {},
   "outputs": [],
   "source": [
    "# look at bag of words\n",
    "bagofwords = TfidfVectorizer()\n",
    "transformed = bagofwords.fit_transform(train_text_cleaned[9])"
   ]
  },
  {
   "cell_type": "code",
   "execution_count": 80,
   "metadata": {},
   "outputs": [
    {
     "data": {
      "text/html": [
       "<div>\n",
       "<style scoped>\n",
       "    .dataframe tbody tr th:only-of-type {\n",
       "        vertical-align: middle;\n",
       "    }\n",
       "\n",
       "    .dataframe tbody tr th {\n",
       "        vertical-align: top;\n",
       "    }\n",
       "\n",
       "    .dataframe thead th {\n",
       "        text-align: right;\n",
       "    }\n",
       "</style>\n",
       "<table border=\"1\" class=\"dataframe\">\n",
       "  <thead>\n",
       "    <tr style=\"text-align: right;\">\n",
       "      <th></th>\n",
       "      <th>0</th>\n",
       "      <th>1</th>\n",
       "      <th>2</th>\n",
       "      <th>3</th>\n",
       "      <th>4</th>\n",
       "      <th>5</th>\n",
       "      <th>6</th>\n",
       "      <th>7</th>\n",
       "      <th>8</th>\n",
       "      <th>9</th>\n",
       "      <th>...</th>\n",
       "      <th>59</th>\n",
       "      <th>60</th>\n",
       "      <th>61</th>\n",
       "      <th>62</th>\n",
       "      <th>63</th>\n",
       "      <th>64</th>\n",
       "      <th>65</th>\n",
       "      <th>66</th>\n",
       "      <th>67</th>\n",
       "      <th>68</th>\n",
       "    </tr>\n",
       "  </thead>\n",
       "  <tbody>\n",
       "    <tr>\n",
       "      <th>0</th>\n",
       "      <td>0.000000</td>\n",
       "      <td>0.000000</td>\n",
       "      <td>0.00000</td>\n",
       "      <td>0.000000</td>\n",
       "      <td>0.000000</td>\n",
       "      <td>0.219481</td>\n",
       "      <td>0.219481</td>\n",
       "      <td>0.135205</td>\n",
       "      <td>0.219481</td>\n",
       "      <td>0.219481</td>\n",
       "      <td>...</td>\n",
       "      <td>0.000000</td>\n",
       "      <td>0.000000</td>\n",
       "      <td>0.219481</td>\n",
       "      <td>0.000000</td>\n",
       "      <td>0.219481</td>\n",
       "      <td>0.000000</td>\n",
       "      <td>0.000000</td>\n",
       "      <td>0.219481</td>\n",
       "      <td>0.00000</td>\n",
       "      <td>0.000000</td>\n",
       "    </tr>\n",
       "    <tr>\n",
       "      <th>1</th>\n",
       "      <td>0.000000</td>\n",
       "      <td>0.000000</td>\n",
       "      <td>0.27735</td>\n",
       "      <td>0.000000</td>\n",
       "      <td>0.000000</td>\n",
       "      <td>0.000000</td>\n",
       "      <td>0.000000</td>\n",
       "      <td>0.000000</td>\n",
       "      <td>0.000000</td>\n",
       "      <td>0.000000</td>\n",
       "      <td>...</td>\n",
       "      <td>0.000000</td>\n",
       "      <td>0.000000</td>\n",
       "      <td>0.000000</td>\n",
       "      <td>0.000000</td>\n",
       "      <td>0.000000</td>\n",
       "      <td>0.000000</td>\n",
       "      <td>0.000000</td>\n",
       "      <td>0.000000</td>\n",
       "      <td>0.27735</td>\n",
       "      <td>0.000000</td>\n",
       "    </tr>\n",
       "    <tr>\n",
       "      <th>2</th>\n",
       "      <td>0.000000</td>\n",
       "      <td>0.000000</td>\n",
       "      <td>0.00000</td>\n",
       "      <td>0.347894</td>\n",
       "      <td>0.347894</td>\n",
       "      <td>0.000000</td>\n",
       "      <td>0.000000</td>\n",
       "      <td>0.214310</td>\n",
       "      <td>0.000000</td>\n",
       "      <td>0.000000</td>\n",
       "      <td>...</td>\n",
       "      <td>0.000000</td>\n",
       "      <td>0.347894</td>\n",
       "      <td>0.000000</td>\n",
       "      <td>0.000000</td>\n",
       "      <td>0.000000</td>\n",
       "      <td>0.000000</td>\n",
       "      <td>0.000000</td>\n",
       "      <td>0.000000</td>\n",
       "      <td>0.00000</td>\n",
       "      <td>0.000000</td>\n",
       "    </tr>\n",
       "    <tr>\n",
       "      <th>3</th>\n",
       "      <td>0.000000</td>\n",
       "      <td>0.000000</td>\n",
       "      <td>0.00000</td>\n",
       "      <td>0.000000</td>\n",
       "      <td>0.000000</td>\n",
       "      <td>0.000000</td>\n",
       "      <td>0.000000</td>\n",
       "      <td>0.000000</td>\n",
       "      <td>0.000000</td>\n",
       "      <td>0.000000</td>\n",
       "      <td>...</td>\n",
       "      <td>0.000000</td>\n",
       "      <td>0.000000</td>\n",
       "      <td>0.000000</td>\n",
       "      <td>0.000000</td>\n",
       "      <td>0.000000</td>\n",
       "      <td>0.000000</td>\n",
       "      <td>0.000000</td>\n",
       "      <td>0.000000</td>\n",
       "      <td>0.00000</td>\n",
       "      <td>0.447214</td>\n",
       "    </tr>\n",
       "    <tr>\n",
       "      <th>4</th>\n",
       "      <td>0.216867</td>\n",
       "      <td>0.000000</td>\n",
       "      <td>0.00000</td>\n",
       "      <td>0.000000</td>\n",
       "      <td>0.000000</td>\n",
       "      <td>0.000000</td>\n",
       "      <td>0.000000</td>\n",
       "      <td>0.133594</td>\n",
       "      <td>0.000000</td>\n",
       "      <td>0.000000</td>\n",
       "      <td>...</td>\n",
       "      <td>0.216867</td>\n",
       "      <td>0.000000</td>\n",
       "      <td>0.000000</td>\n",
       "      <td>0.216867</td>\n",
       "      <td>0.000000</td>\n",
       "      <td>0.216867</td>\n",
       "      <td>0.433734</td>\n",
       "      <td>0.000000</td>\n",
       "      <td>0.00000</td>\n",
       "      <td>0.000000</td>\n",
       "    </tr>\n",
       "    <tr>\n",
       "      <th>5</th>\n",
       "      <td>0.000000</td>\n",
       "      <td>0.000000</td>\n",
       "      <td>0.00000</td>\n",
       "      <td>0.000000</td>\n",
       "      <td>0.000000</td>\n",
       "      <td>0.000000</td>\n",
       "      <td>0.000000</td>\n",
       "      <td>0.000000</td>\n",
       "      <td>0.000000</td>\n",
       "      <td>0.000000</td>\n",
       "      <td>...</td>\n",
       "      <td>0.000000</td>\n",
       "      <td>0.000000</td>\n",
       "      <td>0.000000</td>\n",
       "      <td>0.000000</td>\n",
       "      <td>0.000000</td>\n",
       "      <td>0.000000</td>\n",
       "      <td>0.000000</td>\n",
       "      <td>0.000000</td>\n",
       "      <td>0.00000</td>\n",
       "      <td>0.000000</td>\n",
       "    </tr>\n",
       "    <tr>\n",
       "      <th>6</th>\n",
       "      <td>0.000000</td>\n",
       "      <td>0.435922</td>\n",
       "      <td>0.00000</td>\n",
       "      <td>0.000000</td>\n",
       "      <td>0.000000</td>\n",
       "      <td>0.000000</td>\n",
       "      <td>0.000000</td>\n",
       "      <td>0.268536</td>\n",
       "      <td>0.000000</td>\n",
       "      <td>0.000000</td>\n",
       "      <td>...</td>\n",
       "      <td>0.000000</td>\n",
       "      <td>0.000000</td>\n",
       "      <td>0.000000</td>\n",
       "      <td>0.000000</td>\n",
       "      <td>0.000000</td>\n",
       "      <td>0.000000</td>\n",
       "      <td>0.000000</td>\n",
       "      <td>0.000000</td>\n",
       "      <td>0.00000</td>\n",
       "      <td>0.000000</td>\n",
       "    </tr>\n",
       "  </tbody>\n",
       "</table>\n",
       "<p>7 rows × 69 columns</p>\n",
       "</div>"
      ],
      "text/plain": [
       "         0         1        2         3         4         5         6   \\\n",
       "0  0.000000  0.000000  0.00000  0.000000  0.000000  0.219481  0.219481   \n",
       "1  0.000000  0.000000  0.27735  0.000000  0.000000  0.000000  0.000000   \n",
       "2  0.000000  0.000000  0.00000  0.347894  0.347894  0.000000  0.000000   \n",
       "3  0.000000  0.000000  0.00000  0.000000  0.000000  0.000000  0.000000   \n",
       "4  0.216867  0.000000  0.00000  0.000000  0.000000  0.000000  0.000000   \n",
       "5  0.000000  0.000000  0.00000  0.000000  0.000000  0.000000  0.000000   \n",
       "6  0.000000  0.435922  0.00000  0.000000  0.000000  0.000000  0.000000   \n",
       "\n",
       "         7         8         9   ...        59        60        61        62  \\\n",
       "0  0.135205  0.219481  0.219481  ...  0.000000  0.000000  0.219481  0.000000   \n",
       "1  0.000000  0.000000  0.000000  ...  0.000000  0.000000  0.000000  0.000000   \n",
       "2  0.214310  0.000000  0.000000  ...  0.000000  0.347894  0.000000  0.000000   \n",
       "3  0.000000  0.000000  0.000000  ...  0.000000  0.000000  0.000000  0.000000   \n",
       "4  0.133594  0.000000  0.000000  ...  0.216867  0.000000  0.000000  0.216867   \n",
       "5  0.000000  0.000000  0.000000  ...  0.000000  0.000000  0.000000  0.000000   \n",
       "6  0.268536  0.000000  0.000000  ...  0.000000  0.000000  0.000000  0.000000   \n",
       "\n",
       "         63        64        65        66       67        68  \n",
       "0  0.219481  0.000000  0.000000  0.219481  0.00000  0.000000  \n",
       "1  0.000000  0.000000  0.000000  0.000000  0.27735  0.000000  \n",
       "2  0.000000  0.000000  0.000000  0.000000  0.00000  0.000000  \n",
       "3  0.000000  0.000000  0.000000  0.000000  0.00000  0.447214  \n",
       "4  0.000000  0.216867  0.433734  0.000000  0.00000  0.000000  \n",
       "5  0.000000  0.000000  0.000000  0.000000  0.00000  0.000000  \n",
       "6  0.000000  0.000000  0.000000  0.000000  0.00000  0.000000  \n",
       "\n",
       "[7 rows x 69 columns]"
      ]
     },
     "execution_count": 80,
     "metadata": {},
     "output_type": "execute_result"
    }
   ],
   "source": [
    "pd.DataFrame(transformed.toarray())"
   ]
  },
  {
   "cell_type": "markdown",
   "metadata": {},
   "source": [
    "The above is the bag of words for a single document. Unlike GloVe where we have 100 dimensional vectors for each sentence, now we have vectors of length equal the vocabulary size of the document and for the values, we have the tfidfs. To arrive at the sentence scores we simply summed up each vector to get each sentences \"total\" tfidf."
   ]
  },
  {
   "cell_type": "markdown",
   "metadata": {},
   "source": [
    "#### Ranking"
   ]
  },
  {
   "cell_type": "markdown",
   "metadata": {},
   "source": [
    "Now let's rank the sentences according to the tfidf weights."
   ]
  },
  {
   "cell_type": "code",
   "execution_count": 81,
   "metadata": {},
   "outputs": [],
   "source": [
    "# rank the sentences\n",
    "tfidf_ranked = rank(train_text_ready, tf_weights)"
   ]
  },
  {
   "cell_type": "code",
   "execution_count": 82,
   "metadata": {},
   "outputs": [
    {
     "data": {
      "text/plain": [
       "[(5.2837713777144435,\n",
       "  \"In addition, some say they're even expecting Snoop Doggy Dogg and Death Row Records' CEO Suge Knight to be part of his entourage, since this will be Tupac's first live TV performance since his incarceration and some expect his record label to make a major show of respect.\"),\n",
       " (4.880817059187219,\n",
       "  'Brad Posey, who owns the all-male photo and video studio Club 1821 as in men 18 to 21 which produced the videos, told us that Rex or Sebastian as he was known then \"was very sweet and he performed very well, as any 19-year-old would who\\'s at his sexual peak.\"'),\n",
       " (4.820737042167301,\n",
       "  \"Sources tell us the GOP front-runner was so angry about the entire situation involving Maseng and his widely panned response that he chose not to use a speech that Maseng wrote for this week's annual meeting of the National Governors' Association.\")]"
      ]
     },
     "execution_count": 82,
     "metadata": {},
     "output_type": "execute_result"
    }
   ],
   "source": [
    "# check top sentences\n",
    "tfidf_ranked[3][:3]"
   ]
  },
  {
   "cell_type": "code",
   "execution_count": 83,
   "metadata": {},
   "outputs": [
    {
     "data": {
      "text/plain": [
       "[(1.0, 'I didn\\'t care.\"'), (0.0, 'BY A.J.'), (0.0, '')]"
      ]
     },
     "execution_count": 83,
     "metadata": {},
     "output_type": "execute_result"
    }
   ],
   "source": [
    "# check bottom sentences\n",
    "tfidf_ranked[3][-3:]"
   ]
  },
  {
   "cell_type": "markdown",
   "metadata": {},
   "source": [
    "By just looking at this it does seem that tfidf was at least able to seperate long from short sentences, which make sense given how tfidf works but it is unclear whether it was able to generate good summaries."
   ]
  },
  {
   "cell_type": "markdown",
   "metadata": {},
   "source": [
    "#### Summary"
   ]
  },
  {
   "cell_type": "markdown",
   "metadata": {},
   "source": [
    "Let's generate a summary."
   ]
  },
  {
   "cell_type": "code",
   "execution_count": 84,
   "metadata": {},
   "outputs": [],
   "source": [
    "# summarize\n",
    "tfidf_summaries = summarize(tfidf_ranked, 3)"
   ]
  },
  {
   "cell_type": "code",
   "execution_count": 85,
   "metadata": {},
   "outputs": [
    {
     "data": {
      "text/plain": [
       "\"Wednesday, May 18th 2005, 9:59AM  Summer is shaping up as extra sweet at Cafe Centro, where the menu features treats like s'mores, chocolate fondue and a unique cocktail called the Cotton Candy Cosmo. 2 ounces Absolut Citron Vodka  Pink cotton candy for the top  Shake vodka, Triple Sec, lime juice and cranberry juice vigorously in a shaker with ice. The drink was created by mixologist Bill Rogers, whose inspiration was the fluffy confection that the restaurant  occasionally serves to customers. \""
      ]
     },
     "execution_count": 85,
     "metadata": {},
     "output_type": "execute_result"
    }
   ],
   "source": [
    "# check summary\n",
    "tfidf_summaries[9]"
   ]
  },
  {
   "cell_type": "markdown",
   "metadata": {},
   "source": [
    "This looks like a pretty good summary. The coherence is there and i'm getting some important information."
   ]
  },
  {
   "cell_type": "markdown",
   "metadata": {},
   "source": [
    "#### Evaluation"
   ]
  },
  {
   "cell_type": "code",
   "execution_count": 87,
   "metadata": {},
   "outputs": [
    {
     "data": {
      "text/plain": [
       "0.012048188224707768"
      ]
     },
     "execution_count": 87,
     "metadata": {},
     "output_type": "execute_result"
    }
   ],
   "source": [
    "# rouge score\n",
    "rouge2f(tfidf_summaries,df_train['summary'])"
   ]
  },
  {
   "cell_type": "markdown",
   "metadata": {},
   "source": [
    "It turns out the TFIDF does not perform as well as LSI or TextRank. It could be because it's a much simpler method."
   ]
  },
  {
   "cell_type": "markdown",
   "metadata": {},
   "source": [
    "## Naive Bayes"
   ]
  },
  {
   "cell_type": "markdown",
   "metadata": {},
   "source": [
    "Finally we will try a machine learning approach where we make the summarization task a classification problem of whether or not a sentence should go in the summary. We will first do some feature engineering with the text data to get the features and target."
   ]
  },
  {
   "cell_type": "markdown",
   "metadata": {},
   "source": [
    "#### Sentence Length"
   ]
  },
  {
   "cell_type": "markdown",
   "metadata": {},
   "source": [
    "The sentence length usually tells us something about the importance of a sentence. The idea is the longer sentences tend to be more important. This is a pretty big assumption to make but that is just one of the limitations of extraction based approaches."
   ]
  },
  {
   "cell_type": "code",
   "execution_count": 88,
   "metadata": {
    "scrolled": true
   },
   "outputs": [],
   "source": [
    "# create length function\n",
    "def length(text):\n",
    "    # create empty list for storing lengths\n",
    "    sen_len = []\n",
    "    \n",
    "    # get number of words for sentences\n",
    "    for i in text:\n",
    "        sen_len.append(len(i.split()))\n",
    "    return sen_len\n",
    "    "
   ]
  },
  {
   "cell_type": "code",
   "execution_count": 89,
   "metadata": {},
   "outputs": [],
   "source": [
    "# apply length function\n",
    "len_train_text = train_text.apply(length)\n",
    "len_valid_text = valid_text.apply(length)"
   ]
  },
  {
   "cell_type": "code",
   "execution_count": 90,
   "metadata": {},
   "outputs": [
    {
     "data": {
      "text/plain": [
       "0       [42, 22, 20, 15, 30, 14, 26, 27, 14, 44, 34, 3...\n",
       "1       [57, 26, 17, 16, 22, 24, 22, 31, 31, 31, 8, 8,...\n",
       "2       [34, 29, 39, 21, 15, 19, 16, 25, 23, 12, 18, 2...\n",
       "3       [2, 33, 20, 44, 6, 50, 20, 5, 18, 23, 12, 15, ...\n",
       "4       [15, 28, 29, 16, 31, 24, 28, 11, 8, 7, 15, 19,...\n",
       "                              ...                        \n",
       "9995    [40, 15, 1, 7, 24, 45, 20, 6, 1, 25, 57, 12, 4...\n",
       "9996    [25, 28, 23, 24, 42, 43, 25, 6, 22, 26, 30, 26...\n",
       "9997    [10, 6, 26, 14, 29, 23, 32, 23, 8, 9, 15, 17, ...\n",
       "9998    [12, 33, 10, 21, 23, 73, 32, 53, 73, 34, 17, 4...\n",
       "9999         [29, 29, 27, 30, 28, 25, 16, 13, 37, 16, 44]\n",
       "Name: text, Length: 10000, dtype: object"
      ]
     },
     "execution_count": 90,
     "metadata": {},
     "output_type": "execute_result"
    }
   ],
   "source": [
    "# check lengths\n",
    "len_train_text"
   ]
  },
  {
   "cell_type": "markdown",
   "metadata": {},
   "source": [
    "#### Sentence Position"
   ]
  },
  {
   "cell_type": "markdown",
   "metadata": {},
   "source": [
    "Next, sentence position also tells us something about the importance of a sentence. Sentences that appear earlier in a document tend to be more relevant than sentences later on."
   ]
  },
  {
   "cell_type": "code",
   "execution_count": 91,
   "metadata": {},
   "outputs": [],
   "source": [
    "# create position function\n",
    "def position(text):\n",
    "    # create empty list for storing positions\n",
    "    sen_pos = []\n",
    "    \n",
    "    # get positions for each sentence\n",
    "    for i in range(len(text)):\n",
    "        sen_pos.append(i)\n",
    "    return sen_pos"
   ]
  },
  {
   "cell_type": "code",
   "execution_count": 92,
   "metadata": {},
   "outputs": [],
   "source": [
    "# apply position function across documents\n",
    "pos_train_text = train_text.apply(position)\n",
    "pos_valid_text = valid_text.apply(position)"
   ]
  },
  {
   "cell_type": "code",
   "execution_count": 93,
   "metadata": {
    "scrolled": true
   },
   "outputs": [
    {
     "data": {
      "text/plain": [
       "0       [0, 1, 2, 3, 4, 5, 6, 7, 8, 9, 10, 11, 12, 13,...\n",
       "1       [0, 1, 2, 3, 4, 5, 6, 7, 8, 9, 10, 11, 12, 13,...\n",
       "2       [0, 1, 2, 3, 4, 5, 6, 7, 8, 9, 10, 11, 12, 13,...\n",
       "3       [0, 1, 2, 3, 4, 5, 6, 7, 8, 9, 10, 11, 12, 13,...\n",
       "4       [0, 1, 2, 3, 4, 5, 6, 7, 8, 9, 10, 11, 12, 13,...\n",
       "                              ...                        \n",
       "9995    [0, 1, 2, 3, 4, 5, 6, 7, 8, 9, 10, 11, 12, 13,...\n",
       "9996    [0, 1, 2, 3, 4, 5, 6, 7, 8, 9, 10, 11, 12, 13,...\n",
       "9997    [0, 1, 2, 3, 4, 5, 6, 7, 8, 9, 10, 11, 12, 13,...\n",
       "9998    [0, 1, 2, 3, 4, 5, 6, 7, 8, 9, 10, 11, 12, 13,...\n",
       "9999                   [0, 1, 2, 3, 4, 5, 6, 7, 8, 9, 10]\n",
       "Name: text, Length: 10000, dtype: object"
      ]
     },
     "execution_count": 93,
     "metadata": {},
     "output_type": "execute_result"
    }
   ],
   "source": [
    "# look at positions\n",
    "pos_train_text"
   ]
  },
  {
   "cell_type": "markdown",
   "metadata": {},
   "source": [
    "#### Similarity to Title"
   ]
  },
  {
   "cell_type": "markdown",
   "metadata": {},
   "source": [
    "The third feature will be the similarity of the sentence to the title. If the sentence is similar to the title, it must mean that it's relevant. For this feature, we calculate the cosine similarities between the sentences and their respective article titles."
   ]
  },
  {
   "cell_type": "code",
   "execution_count": 94,
   "metadata": {},
   "outputs": [],
   "source": [
    "# create similarity function\n",
    "def similarity(vectors, titles):\n",
    "    \n",
    "    # create an empty list for storing similarities\n",
    "    similarities = []\n",
    "    \n",
    "    # calculate cosine similarities for each sentence with each other sentence\n",
    "    for y in range(len(vectors)):\n",
    "        sim=[]\n",
    "        for i in vectors[y]:\n",
    "            sim.append(cosine_similarity(i.reshape(1,100), titles[y].reshape(1,100))[0,0])\n",
    "        # add to list\n",
    "        similarities.append(sim)\n",
    "        \n",
    "    return similarities"
   ]
  },
  {
   "cell_type": "code",
   "execution_count": 95,
   "metadata": {},
   "outputs": [],
   "source": [
    "# apply similarity function across all documents\n",
    "sim_train_text = similarity(train_text_vectors,train_title_vectors)\n",
    "sim_valid_text = similarity(valid_text_vectors,train_title_vectors)"
   ]
  },
  {
   "cell_type": "markdown",
   "metadata": {},
   "source": [
    "#### Class Labels"
   ]
  },
  {
   "cell_type": "markdown",
   "metadata": {},
   "source": [
    "For class labels, we will use the ROUGE precision scores between each sentence and their associated reference summary. If the precision is high, then that means that the sentence should probably go into the summary. A treshold of 90% is used. 90 and above will be class 1 (in summary) and below 90 will be class 0 (not in summary). "
   ]
  },
  {
   "cell_type": "code",
   "execution_count": 96,
   "metadata": {},
   "outputs": [],
   "source": [
    "# create class label function\n",
    "def label(text,summary):\n",
    "    rouge=Rouge()\n",
    "    \n",
    "    # create an empty list to store class labels\n",
    "    in_summary = []\n",
    "    \n",
    "\n",
    "    for y in range(len(text)):\n",
    "        score=[]\n",
    "        for i in text[y]:\n",
    "            # ignore super short sentences\n",
    "            if len(i)<5:\n",
    "                score.append(0)\n",
    "            # get precision score of each sentence with its summary\n",
    "            else:\n",
    "                score.append(rouge.get_scores(i, summary[y])[0]['rouge-1']['p'])\n",
    "        # add to list\n",
    "        in_summary.append(score)\n",
    "        \n",
    "    return in_summary\n",
    "        "
   ]
  },
  {
   "cell_type": "code",
   "execution_count": 97,
   "metadata": {},
   "outputs": [],
   "source": [
    "# apply labeling across all documents\n",
    "in_summary_train_text = label(train_text,df_train['summary'])\n",
    "in_summary_valid_text = label(valid_text,df_valid['summary'])"
   ]
  },
  {
   "cell_type": "markdown",
   "metadata": {},
   "source": [
    "#### New Data"
   ]
  },
  {
   "cell_type": "markdown",
   "metadata": {},
   "source": [
    "Let's put these features together into a dataframe. We will also include the glove vectors here as they are technically features of the text. "
   ]
  },
  {
   "cell_type": "code",
   "execution_count": 98,
   "metadata": {},
   "outputs": [],
   "source": [
    "# combine eveything into a single list \n",
    "#(list containg every sentence of every document)\n",
    "\n",
    "in_summary_train_text_col = [i for y in in_summary_train_text for i in y]\n",
    "in_summary_valid_text_col = [i for y in in_summary_valid_text for i in y]\n",
    "\n",
    "sim_train_text_col = [i for y in sim_train_text for i in y]\n",
    "sim_valid_text_col = [i for y in sim_valid_text for i in y]\n",
    "\n",
    "pos_train_text_col = [i for y in list(pos_train_text) for i in y]\n",
    "pos_valid_text_col = [i for y in list(pos_valid_text) for i in y]\n",
    "\n",
    "len_train_text_col = [i for y in list(len_train_text) for i in y]\n",
    "len_valid_text_col = [i for y in list(len_valid_text) for i in y]\n",
    "\n",
    "train_text_vectors_col = ([i for y in train_text_vectors for i in y])\n",
    "valid_text_vectors_col = ([i for y in valid_text_vectors for i in y])"
   ]
  },
  {
   "cell_type": "code",
   "execution_count": 99,
   "metadata": {},
   "outputs": [],
   "source": [
    "# make dataframe\n",
    "my_df = pd.concat([pd.DataFrame(train_text_vectors_col),\n",
    "          pd.DataFrame({'Similarity to Title':sim_train_text_col, \n",
    "                        'Position':pos_train_text_col, \n",
    "                        'Length':len_train_text_col}),pd.DataFrame(in_summary_train_text_col,columns=['In Summary'])], axis=1)"
   ]
  },
  {
   "cell_type": "code",
   "execution_count": 100,
   "metadata": {},
   "outputs": [],
   "source": [
    "# assign class labels based on proba\n",
    "my_df['In Summary'] = np.where(my_df['In Summary']>0.9,1,0)"
   ]
  },
  {
   "cell_type": "code",
   "execution_count": 101,
   "metadata": {},
   "outputs": [
    {
     "data": {
      "text/html": [
       "<div>\n",
       "<style scoped>\n",
       "    .dataframe tbody tr th:only-of-type {\n",
       "        vertical-align: middle;\n",
       "    }\n",
       "\n",
       "    .dataframe tbody tr th {\n",
       "        vertical-align: top;\n",
       "    }\n",
       "\n",
       "    .dataframe thead th {\n",
       "        text-align: right;\n",
       "    }\n",
       "</style>\n",
       "<table border=\"1\" class=\"dataframe\">\n",
       "  <thead>\n",
       "    <tr style=\"text-align: right;\">\n",
       "      <th></th>\n",
       "      <th>0</th>\n",
       "      <th>1</th>\n",
       "      <th>2</th>\n",
       "      <th>3</th>\n",
       "      <th>4</th>\n",
       "      <th>5</th>\n",
       "      <th>6</th>\n",
       "      <th>7</th>\n",
       "      <th>8</th>\n",
       "      <th>9</th>\n",
       "      <th>...</th>\n",
       "      <th>94</th>\n",
       "      <th>95</th>\n",
       "      <th>96</th>\n",
       "      <th>97</th>\n",
       "      <th>98</th>\n",
       "      <th>99</th>\n",
       "      <th>Similarity to Title</th>\n",
       "      <th>Position</th>\n",
       "      <th>Length</th>\n",
       "      <th>In Summary</th>\n",
       "    </tr>\n",
       "  </thead>\n",
       "  <tbody>\n",
       "    <tr>\n",
       "      <th>0</th>\n",
       "      <td>0.239452</td>\n",
       "      <td>0.102734</td>\n",
       "      <td>0.234894</td>\n",
       "      <td>-0.174725</td>\n",
       "      <td>-0.094059</td>\n",
       "      <td>0.274650</td>\n",
       "      <td>-0.023559</td>\n",
       "      <td>0.083373</td>\n",
       "      <td>-0.195346</td>\n",
       "      <td>0.040556</td>\n",
       "      <td>...</td>\n",
       "      <td>-0.096880</td>\n",
       "      <td>0.089614</td>\n",
       "      <td>-0.216621</td>\n",
       "      <td>0.240772</td>\n",
       "      <td>0.414017</td>\n",
       "      <td>0.003118</td>\n",
       "      <td>0.767189</td>\n",
       "      <td>0</td>\n",
       "      <td>42</td>\n",
       "      <td>0</td>\n",
       "    </tr>\n",
       "    <tr>\n",
       "      <th>1</th>\n",
       "      <td>0.022374</td>\n",
       "      <td>0.141280</td>\n",
       "      <td>-0.054070</td>\n",
       "      <td>-0.185928</td>\n",
       "      <td>-0.120961</td>\n",
       "      <td>0.297998</td>\n",
       "      <td>-0.024292</td>\n",
       "      <td>0.004567</td>\n",
       "      <td>-0.346148</td>\n",
       "      <td>0.221510</td>\n",
       "      <td>...</td>\n",
       "      <td>0.086314</td>\n",
       "      <td>-0.322175</td>\n",
       "      <td>-0.243045</td>\n",
       "      <td>-0.134423</td>\n",
       "      <td>0.120316</td>\n",
       "      <td>0.040390</td>\n",
       "      <td>0.544521</td>\n",
       "      <td>1</td>\n",
       "      <td>22</td>\n",
       "      <td>0</td>\n",
       "    </tr>\n",
       "    <tr>\n",
       "      <th>2</th>\n",
       "      <td>0.173180</td>\n",
       "      <td>0.120016</td>\n",
       "      <td>0.263398</td>\n",
       "      <td>-0.440565</td>\n",
       "      <td>0.002002</td>\n",
       "      <td>0.442076</td>\n",
       "      <td>0.005097</td>\n",
       "      <td>-0.016193</td>\n",
       "      <td>-0.109340</td>\n",
       "      <td>0.181097</td>\n",
       "      <td>...</td>\n",
       "      <td>-0.314783</td>\n",
       "      <td>-0.037334</td>\n",
       "      <td>-0.439217</td>\n",
       "      <td>0.185970</td>\n",
       "      <td>0.318253</td>\n",
       "      <td>-0.057048</td>\n",
       "      <td>0.675835</td>\n",
       "      <td>2</td>\n",
       "      <td>20</td>\n",
       "      <td>0</td>\n",
       "    </tr>\n",
       "    <tr>\n",
       "      <th>3</th>\n",
       "      <td>0.348962</td>\n",
       "      <td>-0.081873</td>\n",
       "      <td>0.063947</td>\n",
       "      <td>-0.059132</td>\n",
       "      <td>-0.094934</td>\n",
       "      <td>0.358266</td>\n",
       "      <td>0.165770</td>\n",
       "      <td>0.080942</td>\n",
       "      <td>-0.387012</td>\n",
       "      <td>0.184246</td>\n",
       "      <td>...</td>\n",
       "      <td>-0.307370</td>\n",
       "      <td>-0.056792</td>\n",
       "      <td>0.130049</td>\n",
       "      <td>0.167090</td>\n",
       "      <td>0.072156</td>\n",
       "      <td>-0.029804</td>\n",
       "      <td>0.599547</td>\n",
       "      <td>3</td>\n",
       "      <td>15</td>\n",
       "      <td>0</td>\n",
       "    </tr>\n",
       "    <tr>\n",
       "      <th>4</th>\n",
       "      <td>-0.058527</td>\n",
       "      <td>0.035508</td>\n",
       "      <td>0.106890</td>\n",
       "      <td>-0.275538</td>\n",
       "      <td>0.095127</td>\n",
       "      <td>-0.029855</td>\n",
       "      <td>0.117304</td>\n",
       "      <td>0.233706</td>\n",
       "      <td>-0.343617</td>\n",
       "      <td>-0.127908</td>\n",
       "      <td>...</td>\n",
       "      <td>-0.249230</td>\n",
       "      <td>0.183363</td>\n",
       "      <td>-0.306471</td>\n",
       "      <td>-0.098800</td>\n",
       "      <td>0.535119</td>\n",
       "      <td>0.209117</td>\n",
       "      <td>0.732753</td>\n",
       "      <td>4</td>\n",
       "      <td>30</td>\n",
       "      <td>0</td>\n",
       "    </tr>\n",
       "  </tbody>\n",
       "</table>\n",
       "<p>5 rows × 104 columns</p>\n",
       "</div>"
      ],
      "text/plain": [
       "          0         1         2         3         4         5         6  \\\n",
       "0  0.239452  0.102734  0.234894 -0.174725 -0.094059  0.274650 -0.023559   \n",
       "1  0.022374  0.141280 -0.054070 -0.185928 -0.120961  0.297998 -0.024292   \n",
       "2  0.173180  0.120016  0.263398 -0.440565  0.002002  0.442076  0.005097   \n",
       "3  0.348962 -0.081873  0.063947 -0.059132 -0.094934  0.358266  0.165770   \n",
       "4 -0.058527  0.035508  0.106890 -0.275538  0.095127 -0.029855  0.117304   \n",
       "\n",
       "          7         8         9  ...        94        95        96        97  \\\n",
       "0  0.083373 -0.195346  0.040556  ... -0.096880  0.089614 -0.216621  0.240772   \n",
       "1  0.004567 -0.346148  0.221510  ...  0.086314 -0.322175 -0.243045 -0.134423   \n",
       "2 -0.016193 -0.109340  0.181097  ... -0.314783 -0.037334 -0.439217  0.185970   \n",
       "3  0.080942 -0.387012  0.184246  ... -0.307370 -0.056792  0.130049  0.167090   \n",
       "4  0.233706 -0.343617 -0.127908  ... -0.249230  0.183363 -0.306471 -0.098800   \n",
       "\n",
       "         98        99  Similarity to Title  Position  Length  In Summary  \n",
       "0  0.414017  0.003118             0.767189         0      42           0  \n",
       "1  0.120316  0.040390             0.544521         1      22           0  \n",
       "2  0.318253 -0.057048             0.675835         2      20           0  \n",
       "3  0.072156 -0.029804             0.599547         3      15           0  \n",
       "4  0.535119  0.209117             0.732753         4      30           0  \n",
       "\n",
       "[5 rows x 104 columns]"
      ]
     },
     "execution_count": 101,
     "metadata": {},
     "output_type": "execute_result"
    }
   ],
   "source": [
    "# check labeled data\n",
    "my_df.head()"
   ]
  },
  {
   "cell_type": "markdown",
   "metadata": {},
   "source": [
    "#### Balance Classes"
   ]
  },
  {
   "cell_type": "markdown",
   "metadata": {},
   "source": [
    "We also have to deal with class imbalance so that the model doesn't favour one class more than the other."
   ]
  },
  {
   "cell_type": "code",
   "execution_count": 102,
   "metadata": {},
   "outputs": [],
   "source": [
    "# get class 0 rows\n",
    "class0 = my_df[my_df['In Summary']==0]"
   ]
  },
  {
   "cell_type": "code",
   "execution_count": 103,
   "metadata": {},
   "outputs": [
    {
     "data": {
      "text/plain": [
       "(262125, 104)"
      ]
     },
     "execution_count": 103,
     "metadata": {},
     "output_type": "execute_result"
    }
   ],
   "source": [
    "# size of class 0 \n",
    "class0.shape"
   ]
  },
  {
   "cell_type": "code",
   "execution_count": 104,
   "metadata": {},
   "outputs": [],
   "source": [
    "# get class 1 rows\n",
    "class1 = my_df[my_df['In Summary']==1]"
   ]
  },
  {
   "cell_type": "code",
   "execution_count": 105,
   "metadata": {},
   "outputs": [
    {
     "data": {
      "text/plain": [
       "(7196, 104)"
      ]
     },
     "execution_count": 105,
     "metadata": {},
     "output_type": "execute_result"
    }
   ],
   "source": [
    "# size of class 1\n",
    "class1.shape"
   ]
  },
  {
   "cell_type": "markdown",
   "metadata": {},
   "source": [
    "Unsuprisngly, class 0 is alot a larger than class 1. A decision is made to downsample class 0 to the size of class 1. "
   ]
  },
  {
   "cell_type": "code",
   "execution_count": 106,
   "metadata": {},
   "outputs": [],
   "source": [
    "# create random indices of size class 1\n",
    "i_class0 = np.random.choice(class0.index,size=class1.shape[0], replace=False)"
   ]
  },
  {
   "cell_type": "code",
   "execution_count": 107,
   "metadata": {},
   "outputs": [],
   "source": [
    "# resample class 0 \n",
    "class0_downsampled = class0[class0.index.isin(list(i_class0))]"
   ]
  },
  {
   "cell_type": "code",
   "execution_count": 108,
   "metadata": {},
   "outputs": [
    {
     "data": {
      "text/plain": [
       "(7196, 104)"
      ]
     },
     "execution_count": 108,
     "metadata": {},
     "output_type": "execute_result"
    }
   ],
   "source": [
    "# check size\n",
    "class0_downsampled.shape"
   ]
  },
  {
   "cell_type": "markdown",
   "metadata": {},
   "source": [
    "Now that they are the same size, we recombine them into a single dataframe."
   ]
  },
  {
   "cell_type": "code",
   "execution_count": 109,
   "metadata": {},
   "outputs": [],
   "source": [
    "# create new dataframe\n",
    "new_df = pd.concat([class0_downsampled,class1],axis=0)"
   ]
  },
  {
   "cell_type": "code",
   "execution_count": 110,
   "metadata": {
    "scrolled": false
   },
   "outputs": [
    {
     "data": {
      "text/html": [
       "<div>\n",
       "<style scoped>\n",
       "    .dataframe tbody tr th:only-of-type {\n",
       "        vertical-align: middle;\n",
       "    }\n",
       "\n",
       "    .dataframe tbody tr th {\n",
       "        vertical-align: top;\n",
       "    }\n",
       "\n",
       "    .dataframe thead th {\n",
       "        text-align: right;\n",
       "    }\n",
       "</style>\n",
       "<table border=\"1\" class=\"dataframe\">\n",
       "  <thead>\n",
       "    <tr style=\"text-align: right;\">\n",
       "      <th></th>\n",
       "      <th>0</th>\n",
       "      <th>1</th>\n",
       "      <th>2</th>\n",
       "      <th>3</th>\n",
       "      <th>4</th>\n",
       "      <th>5</th>\n",
       "      <th>6</th>\n",
       "      <th>7</th>\n",
       "      <th>8</th>\n",
       "      <th>9</th>\n",
       "      <th>...</th>\n",
       "      <th>94</th>\n",
       "      <th>95</th>\n",
       "      <th>96</th>\n",
       "      <th>97</th>\n",
       "      <th>98</th>\n",
       "      <th>99</th>\n",
       "      <th>Similarity to Title</th>\n",
       "      <th>Position</th>\n",
       "      <th>Length</th>\n",
       "      <th>In Summary</th>\n",
       "    </tr>\n",
       "  </thead>\n",
       "  <tbody>\n",
       "    <tr>\n",
       "      <th>3</th>\n",
       "      <td>0.348962</td>\n",
       "      <td>-0.081873</td>\n",
       "      <td>0.063947</td>\n",
       "      <td>-0.059132</td>\n",
       "      <td>-0.094934</td>\n",
       "      <td>0.358266</td>\n",
       "      <td>0.165770</td>\n",
       "      <td>0.080942</td>\n",
       "      <td>-0.387012</td>\n",
       "      <td>0.184246</td>\n",
       "      <td>...</td>\n",
       "      <td>-0.307370</td>\n",
       "      <td>-0.056792</td>\n",
       "      <td>0.130049</td>\n",
       "      <td>0.167090</td>\n",
       "      <td>0.072156</td>\n",
       "      <td>-0.029804</td>\n",
       "      <td>0.599547</td>\n",
       "      <td>3</td>\n",
       "      <td>15</td>\n",
       "      <td>0</td>\n",
       "    </tr>\n",
       "    <tr>\n",
       "      <th>60</th>\n",
       "      <td>0.113223</td>\n",
       "      <td>0.085486</td>\n",
       "      <td>0.303422</td>\n",
       "      <td>-0.672867</td>\n",
       "      <td>-0.364101</td>\n",
       "      <td>0.161290</td>\n",
       "      <td>0.019658</td>\n",
       "      <td>0.146628</td>\n",
       "      <td>-0.470096</td>\n",
       "      <td>-0.213393</td>\n",
       "      <td>...</td>\n",
       "      <td>-0.267374</td>\n",
       "      <td>0.139119</td>\n",
       "      <td>-0.630960</td>\n",
       "      <td>0.103129</td>\n",
       "      <td>0.799183</td>\n",
       "      <td>0.260633</td>\n",
       "      <td>0.566693</td>\n",
       "      <td>60</td>\n",
       "      <td>7</td>\n",
       "      <td>0</td>\n",
       "    </tr>\n",
       "    <tr>\n",
       "      <th>62</th>\n",
       "      <td>0.280926</td>\n",
       "      <td>0.088933</td>\n",
       "      <td>0.135070</td>\n",
       "      <td>-0.413157</td>\n",
       "      <td>-0.027580</td>\n",
       "      <td>0.477847</td>\n",
       "      <td>0.021477</td>\n",
       "      <td>0.139670</td>\n",
       "      <td>-0.435118</td>\n",
       "      <td>-0.084535</td>\n",
       "      <td>...</td>\n",
       "      <td>-0.242875</td>\n",
       "      <td>0.106520</td>\n",
       "      <td>-0.394940</td>\n",
       "      <td>0.189320</td>\n",
       "      <td>0.250337</td>\n",
       "      <td>-0.292402</td>\n",
       "      <td>0.716264</td>\n",
       "      <td>62</td>\n",
       "      <td>34</td>\n",
       "      <td>0</td>\n",
       "    </tr>\n",
       "    <tr>\n",
       "      <th>111</th>\n",
       "      <td>-0.212011</td>\n",
       "      <td>-0.237550</td>\n",
       "      <td>0.110938</td>\n",
       "      <td>-0.376570</td>\n",
       "      <td>-0.068869</td>\n",
       "      <td>-0.222299</td>\n",
       "      <td>-0.093997</td>\n",
       "      <td>0.054907</td>\n",
       "      <td>0.098353</td>\n",
       "      <td>0.377535</td>\n",
       "      <td>...</td>\n",
       "      <td>-0.550818</td>\n",
       "      <td>0.416033</td>\n",
       "      <td>0.023092</td>\n",
       "      <td>-0.063089</td>\n",
       "      <td>0.170741</td>\n",
       "      <td>-0.047778</td>\n",
       "      <td>0.732519</td>\n",
       "      <td>24</td>\n",
       "      <td>8</td>\n",
       "      <td>0</td>\n",
       "    </tr>\n",
       "    <tr>\n",
       "      <th>119</th>\n",
       "      <td>0.462906</td>\n",
       "      <td>-0.028947</td>\n",
       "      <td>-0.077030</td>\n",
       "      <td>-0.048944</td>\n",
       "      <td>0.034988</td>\n",
       "      <td>-0.075240</td>\n",
       "      <td>-0.319091</td>\n",
       "      <td>0.161494</td>\n",
       "      <td>-0.143638</td>\n",
       "      <td>-0.405076</td>\n",
       "      <td>...</td>\n",
       "      <td>-0.156358</td>\n",
       "      <td>0.302438</td>\n",
       "      <td>0.238924</td>\n",
       "      <td>0.207696</td>\n",
       "      <td>0.433993</td>\n",
       "      <td>-0.052171</td>\n",
       "      <td>0.595974</td>\n",
       "      <td>4</td>\n",
       "      <td>15</td>\n",
       "      <td>0</td>\n",
       "    </tr>\n",
       "    <tr>\n",
       "      <th>...</th>\n",
       "      <td>...</td>\n",
       "      <td>...</td>\n",
       "      <td>...</td>\n",
       "      <td>...</td>\n",
       "      <td>...</td>\n",
       "      <td>...</td>\n",
       "      <td>...</td>\n",
       "      <td>...</td>\n",
       "      <td>...</td>\n",
       "      <td>...</td>\n",
       "      <td>...</td>\n",
       "      <td>...</td>\n",
       "      <td>...</td>\n",
       "      <td>...</td>\n",
       "      <td>...</td>\n",
       "      <td>...</td>\n",
       "      <td>...</td>\n",
       "      <td>...</td>\n",
       "      <td>...</td>\n",
       "      <td>...</td>\n",
       "      <td>...</td>\n",
       "    </tr>\n",
       "    <tr>\n",
       "      <th>269269</th>\n",
       "      <td>0.231128</td>\n",
       "      <td>0.346161</td>\n",
       "      <td>-0.141739</td>\n",
       "      <td>0.036784</td>\n",
       "      <td>-0.347313</td>\n",
       "      <td>0.001090</td>\n",
       "      <td>-0.576435</td>\n",
       "      <td>-0.011663</td>\n",
       "      <td>-0.136305</td>\n",
       "      <td>-0.491510</td>\n",
       "      <td>...</td>\n",
       "      <td>-0.555387</td>\n",
       "      <td>0.369677</td>\n",
       "      <td>0.368964</td>\n",
       "      <td>-0.218704</td>\n",
       "      <td>0.157944</td>\n",
       "      <td>0.276778</td>\n",
       "      <td>0.823895</td>\n",
       "      <td>1</td>\n",
       "      <td>6</td>\n",
       "      <td>1</td>\n",
       "    </tr>\n",
       "    <tr>\n",
       "      <th>269271</th>\n",
       "      <td>-0.103092</td>\n",
       "      <td>0.155646</td>\n",
       "      <td>0.075571</td>\n",
       "      <td>0.010145</td>\n",
       "      <td>0.128153</td>\n",
       "      <td>-0.096575</td>\n",
       "      <td>0.041559</td>\n",
       "      <td>0.363100</td>\n",
       "      <td>-0.300330</td>\n",
       "      <td>-0.116557</td>\n",
       "      <td>...</td>\n",
       "      <td>-0.637502</td>\n",
       "      <td>0.019276</td>\n",
       "      <td>0.104964</td>\n",
       "      <td>0.053513</td>\n",
       "      <td>0.447625</td>\n",
       "      <td>0.384382</td>\n",
       "      <td>0.779027</td>\n",
       "      <td>3</td>\n",
       "      <td>14</td>\n",
       "      <td>1</td>\n",
       "    </tr>\n",
       "    <tr>\n",
       "      <th>269291</th>\n",
       "      <td>0.026196</td>\n",
       "      <td>0.575566</td>\n",
       "      <td>0.076662</td>\n",
       "      <td>0.188037</td>\n",
       "      <td>0.091201</td>\n",
       "      <td>0.032213</td>\n",
       "      <td>-0.223331</td>\n",
       "      <td>-0.115686</td>\n",
       "      <td>-0.086338</td>\n",
       "      <td>-0.272849</td>\n",
       "      <td>...</td>\n",
       "      <td>-0.314574</td>\n",
       "      <td>-0.067479</td>\n",
       "      <td>0.041801</td>\n",
       "      <td>0.067735</td>\n",
       "      <td>0.109293</td>\n",
       "      <td>0.177428</td>\n",
       "      <td>0.701591</td>\n",
       "      <td>0</td>\n",
       "      <td>12</td>\n",
       "      <td>1</td>\n",
       "    </tr>\n",
       "    <tr>\n",
       "      <th>269310</th>\n",
       "      <td>0.077811</td>\n",
       "      <td>0.155845</td>\n",
       "      <td>0.116933</td>\n",
       "      <td>-0.190389</td>\n",
       "      <td>0.239791</td>\n",
       "      <td>0.135023</td>\n",
       "      <td>0.145083</td>\n",
       "      <td>0.152953</td>\n",
       "      <td>-0.133346</td>\n",
       "      <td>-0.019873</td>\n",
       "      <td>...</td>\n",
       "      <td>-0.636943</td>\n",
       "      <td>0.025729</td>\n",
       "      <td>-0.304130</td>\n",
       "      <td>0.075956</td>\n",
       "      <td>0.328842</td>\n",
       "      <td>0.039993</td>\n",
       "      <td>0.556806</td>\n",
       "      <td>0</td>\n",
       "      <td>29</td>\n",
       "      <td>1</td>\n",
       "    </tr>\n",
       "    <tr>\n",
       "      <th>269311</th>\n",
       "      <td>-0.073428</td>\n",
       "      <td>0.107003</td>\n",
       "      <td>0.233118</td>\n",
       "      <td>0.006052</td>\n",
       "      <td>-0.021012</td>\n",
       "      <td>0.003370</td>\n",
       "      <td>0.211673</td>\n",
       "      <td>-0.012178</td>\n",
       "      <td>-0.125192</td>\n",
       "      <td>-0.025330</td>\n",
       "      <td>...</td>\n",
       "      <td>-0.189259</td>\n",
       "      <td>-0.070516</td>\n",
       "      <td>-0.240667</td>\n",
       "      <td>-0.248813</td>\n",
       "      <td>0.294878</td>\n",
       "      <td>-0.021129</td>\n",
       "      <td>0.607173</td>\n",
       "      <td>1</td>\n",
       "      <td>29</td>\n",
       "      <td>1</td>\n",
       "    </tr>\n",
       "  </tbody>\n",
       "</table>\n",
       "<p>14392 rows × 104 columns</p>\n",
       "</div>"
      ],
      "text/plain": [
       "               0         1         2         3         4         5         6  \\\n",
       "3       0.348962 -0.081873  0.063947 -0.059132 -0.094934  0.358266  0.165770   \n",
       "60      0.113223  0.085486  0.303422 -0.672867 -0.364101  0.161290  0.019658   \n",
       "62      0.280926  0.088933  0.135070 -0.413157 -0.027580  0.477847  0.021477   \n",
       "111    -0.212011 -0.237550  0.110938 -0.376570 -0.068869 -0.222299 -0.093997   \n",
       "119     0.462906 -0.028947 -0.077030 -0.048944  0.034988 -0.075240 -0.319091   \n",
       "...          ...       ...       ...       ...       ...       ...       ...   \n",
       "269269  0.231128  0.346161 -0.141739  0.036784 -0.347313  0.001090 -0.576435   \n",
       "269271 -0.103092  0.155646  0.075571  0.010145  0.128153 -0.096575  0.041559   \n",
       "269291  0.026196  0.575566  0.076662  0.188037  0.091201  0.032213 -0.223331   \n",
       "269310  0.077811  0.155845  0.116933 -0.190389  0.239791  0.135023  0.145083   \n",
       "269311 -0.073428  0.107003  0.233118  0.006052 -0.021012  0.003370  0.211673   \n",
       "\n",
       "               7         8         9  ...        94        95        96  \\\n",
       "3       0.080942 -0.387012  0.184246  ... -0.307370 -0.056792  0.130049   \n",
       "60      0.146628 -0.470096 -0.213393  ... -0.267374  0.139119 -0.630960   \n",
       "62      0.139670 -0.435118 -0.084535  ... -0.242875  0.106520 -0.394940   \n",
       "111     0.054907  0.098353  0.377535  ... -0.550818  0.416033  0.023092   \n",
       "119     0.161494 -0.143638 -0.405076  ... -0.156358  0.302438  0.238924   \n",
       "...          ...       ...       ...  ...       ...       ...       ...   \n",
       "269269 -0.011663 -0.136305 -0.491510  ... -0.555387  0.369677  0.368964   \n",
       "269271  0.363100 -0.300330 -0.116557  ... -0.637502  0.019276  0.104964   \n",
       "269291 -0.115686 -0.086338 -0.272849  ... -0.314574 -0.067479  0.041801   \n",
       "269310  0.152953 -0.133346 -0.019873  ... -0.636943  0.025729 -0.304130   \n",
       "269311 -0.012178 -0.125192 -0.025330  ... -0.189259 -0.070516 -0.240667   \n",
       "\n",
       "              97        98        99  Similarity to Title  Position  Length  \\\n",
       "3       0.167090  0.072156 -0.029804             0.599547         3      15   \n",
       "60      0.103129  0.799183  0.260633             0.566693        60       7   \n",
       "62      0.189320  0.250337 -0.292402             0.716264        62      34   \n",
       "111    -0.063089  0.170741 -0.047778             0.732519        24       8   \n",
       "119     0.207696  0.433993 -0.052171             0.595974         4      15   \n",
       "...          ...       ...       ...                  ...       ...     ...   \n",
       "269269 -0.218704  0.157944  0.276778             0.823895         1       6   \n",
       "269271  0.053513  0.447625  0.384382             0.779027         3      14   \n",
       "269291  0.067735  0.109293  0.177428             0.701591         0      12   \n",
       "269310  0.075956  0.328842  0.039993             0.556806         0      29   \n",
       "269311 -0.248813  0.294878 -0.021129             0.607173         1      29   \n",
       "\n",
       "        In Summary  \n",
       "3                0  \n",
       "60               0  \n",
       "62               0  \n",
       "111              0  \n",
       "119              0  \n",
       "...            ...  \n",
       "269269           1  \n",
       "269271           1  \n",
       "269291           1  \n",
       "269310           1  \n",
       "269311           1  \n",
       "\n",
       "[14392 rows x 104 columns]"
      ]
     },
     "execution_count": 110,
     "metadata": {},
     "output_type": "execute_result"
    }
   ],
   "source": [
    "# check dataframe\n",
    "new_df"
   ]
  },
  {
   "cell_type": "markdown",
   "metadata": {},
   "source": [
    "With our new dataset with a balanced binary target and numeric features, we can proceed to fitting a classification model. "
   ]
  },
  {
   "cell_type": "markdown",
   "metadata": {},
   "source": [
    "#### Classification"
   ]
  },
  {
   "cell_type": "markdown",
   "metadata": {},
   "source": [
    "As our problem space here does not involve model selection but rather a comparison of different extractive approaches, we will not focus too much on optimizing parameters or picking the best model. It is said that Naive Bayes tends to work well with text classificaiton, so we will being using it to classify our sentences."
   ]
  },
  {
   "cell_type": "code",
   "execution_count": 111,
   "metadata": {},
   "outputs": [],
   "source": [
    "# import libraries for modelling\n",
    "from sklearn.linear_model import LogisticRegression\n",
    "from sklearn.naive_bayes import GaussianNB\n",
    "from sklearn.svm import SVC\n",
    "from sklearn.ensemble import RandomForestClassifier\n",
    "\n",
    "from sklearn.metrics import confusion_matrix, precision_score, recall_score"
   ]
  },
  {
   "cell_type": "markdown",
   "metadata": {},
   "source": [
    "Let's first split up data in features and target."
   ]
  },
  {
   "cell_type": "code",
   "execution_count": 112,
   "metadata": {},
   "outputs": [],
   "source": [
    "# get features and target columns\n",
    "X = new_df.drop('In Summary',axis=1)\n",
    "y = new_df['In Summary']"
   ]
  },
  {
   "cell_type": "markdown",
   "metadata": {},
   "source": [
    "Now, let's instantiate the gaussian naive bayes model. We pick gaussian because we are dealing with continous values."
   ]
  },
  {
   "cell_type": "code",
   "execution_count": 113,
   "metadata": {},
   "outputs": [
    {
     "data": {
      "text/plain": [
       "GaussianNB()"
      ]
     },
     "execution_count": 113,
     "metadata": {},
     "output_type": "execute_result"
    }
   ],
   "source": [
    "# instantiate model\n",
    "lr_model = GaussianNB()\n",
    "# fit the model\n",
    "lr_model.fit(X,y)"
   ]
  },
  {
   "cell_type": "code",
   "execution_count": 114,
   "metadata": {},
   "outputs": [
    {
     "data": {
      "text/plain": [
       "0.6629377431906615"
      ]
     },
     "execution_count": 114,
     "metadata": {},
     "output_type": "execute_result"
    }
   ],
   "source": [
    "# train accuracy\n",
    "lr_model.score(X,y)"
   ]
  },
  {
   "cell_type": "markdown",
   "metadata": {},
   "source": [
    "Naive bayes was able to predict the training set with an accuracy of 66%. Let's look at the validation set now."
   ]
  },
  {
   "cell_type": "code",
   "execution_count": 115,
   "metadata": {},
   "outputs": [],
   "source": [
    "# get validation data\n",
    "v_df = pd.concat([pd.DataFrame(valid_text_vectors_col),\n",
    "          pd.DataFrame({'Similarity to Title':sim_valid_text_col, \n",
    "                        'Position':pos_valid_text_col, \n",
    "                        'Length':len_valid_text_col}),pd.DataFrame(in_summary_valid_text_col,columns=['In Summary'])], axis=1)"
   ]
  },
  {
   "cell_type": "code",
   "execution_count": 116,
   "metadata": {},
   "outputs": [],
   "source": [
    "# assign class labels\n",
    "v_df['In Summary'] = np.where(v_df['In Summary']>0.9,1,0)"
   ]
  },
  {
   "cell_type": "code",
   "execution_count": 117,
   "metadata": {},
   "outputs": [
    {
     "data": {
      "text/html": [
       "<div>\n",
       "<style scoped>\n",
       "    .dataframe tbody tr th:only-of-type {\n",
       "        vertical-align: middle;\n",
       "    }\n",
       "\n",
       "    .dataframe tbody tr th {\n",
       "        vertical-align: top;\n",
       "    }\n",
       "\n",
       "    .dataframe thead th {\n",
       "        text-align: right;\n",
       "    }\n",
       "</style>\n",
       "<table border=\"1\" class=\"dataframe\">\n",
       "  <thead>\n",
       "    <tr style=\"text-align: right;\">\n",
       "      <th></th>\n",
       "      <th>0</th>\n",
       "      <th>1</th>\n",
       "      <th>2</th>\n",
       "      <th>3</th>\n",
       "      <th>4</th>\n",
       "      <th>5</th>\n",
       "      <th>6</th>\n",
       "      <th>7</th>\n",
       "      <th>8</th>\n",
       "      <th>9</th>\n",
       "      <th>...</th>\n",
       "      <th>94</th>\n",
       "      <th>95</th>\n",
       "      <th>96</th>\n",
       "      <th>97</th>\n",
       "      <th>98</th>\n",
       "      <th>99</th>\n",
       "      <th>Similarity to Title</th>\n",
       "      <th>Position</th>\n",
       "      <th>Length</th>\n",
       "      <th>In Summary</th>\n",
       "    </tr>\n",
       "  </thead>\n",
       "  <tbody>\n",
       "    <tr>\n",
       "      <th>0</th>\n",
       "      <td>-0.147195</td>\n",
       "      <td>0.058697</td>\n",
       "      <td>0.197094</td>\n",
       "      <td>-0.391006</td>\n",
       "      <td>-0.077530</td>\n",
       "      <td>-0.096007</td>\n",
       "      <td>-0.111803</td>\n",
       "      <td>0.057422</td>\n",
       "      <td>-0.152720</td>\n",
       "      <td>-0.342601</td>\n",
       "      <td>...</td>\n",
       "      <td>0.064607</td>\n",
       "      <td>0.075356</td>\n",
       "      <td>-0.138610</td>\n",
       "      <td>-0.155694</td>\n",
       "      <td>-0.130958</td>\n",
       "      <td>-0.171777</td>\n",
       "      <td>0.388653</td>\n",
       "      <td>0</td>\n",
       "      <td>7</td>\n",
       "      <td>0</td>\n",
       "    </tr>\n",
       "    <tr>\n",
       "      <th>1</th>\n",
       "      <td>-0.050732</td>\n",
       "      <td>0.140445</td>\n",
       "      <td>0.114130</td>\n",
       "      <td>0.039059</td>\n",
       "      <td>-0.041864</td>\n",
       "      <td>-0.000104</td>\n",
       "      <td>0.151305</td>\n",
       "      <td>0.287705</td>\n",
       "      <td>-0.352697</td>\n",
       "      <td>-0.174999</td>\n",
       "      <td>...</td>\n",
       "      <td>-0.457553</td>\n",
       "      <td>0.126135</td>\n",
       "      <td>-0.134282</td>\n",
       "      <td>0.124213</td>\n",
       "      <td>0.442941</td>\n",
       "      <td>0.063086</td>\n",
       "      <td>0.700639</td>\n",
       "      <td>1</td>\n",
       "      <td>14</td>\n",
       "      <td>0</td>\n",
       "    </tr>\n",
       "    <tr>\n",
       "      <th>2</th>\n",
       "      <td>0.104622</td>\n",
       "      <td>-0.068349</td>\n",
       "      <td>0.077994</td>\n",
       "      <td>-0.905276</td>\n",
       "      <td>0.071093</td>\n",
       "      <td>0.130177</td>\n",
       "      <td>0.158481</td>\n",
       "      <td>-0.005478</td>\n",
       "      <td>-0.501226</td>\n",
       "      <td>-0.305931</td>\n",
       "      <td>...</td>\n",
       "      <td>-0.411556</td>\n",
       "      <td>-0.043711</td>\n",
       "      <td>-0.304587</td>\n",
       "      <td>0.479707</td>\n",
       "      <td>-0.202459</td>\n",
       "      <td>-0.451889</td>\n",
       "      <td>0.470873</td>\n",
       "      <td>2</td>\n",
       "      <td>6</td>\n",
       "      <td>0</td>\n",
       "    </tr>\n",
       "    <tr>\n",
       "      <th>3</th>\n",
       "      <td>0.088158</td>\n",
       "      <td>0.187424</td>\n",
       "      <td>0.008872</td>\n",
       "      <td>-0.357629</td>\n",
       "      <td>0.011294</td>\n",
       "      <td>0.021502</td>\n",
       "      <td>0.192081</td>\n",
       "      <td>-0.179269</td>\n",
       "      <td>-0.345802</td>\n",
       "      <td>-0.115559</td>\n",
       "      <td>...</td>\n",
       "      <td>-0.326949</td>\n",
       "      <td>0.049975</td>\n",
       "      <td>-0.108660</td>\n",
       "      <td>0.157335</td>\n",
       "      <td>0.096037</td>\n",
       "      <td>-0.265299</td>\n",
       "      <td>0.627928</td>\n",
       "      <td>3</td>\n",
       "      <td>18</td>\n",
       "      <td>0</td>\n",
       "    </tr>\n",
       "    <tr>\n",
       "      <th>4</th>\n",
       "      <td>0.388557</td>\n",
       "      <td>-0.281953</td>\n",
       "      <td>0.284575</td>\n",
       "      <td>0.020760</td>\n",
       "      <td>-0.077275</td>\n",
       "      <td>0.102943</td>\n",
       "      <td>0.148672</td>\n",
       "      <td>0.079824</td>\n",
       "      <td>-0.265058</td>\n",
       "      <td>-0.100422</td>\n",
       "      <td>...</td>\n",
       "      <td>-0.043637</td>\n",
       "      <td>-0.018850</td>\n",
       "      <td>-0.240565</td>\n",
       "      <td>0.108263</td>\n",
       "      <td>0.378435</td>\n",
       "      <td>-0.182465</td>\n",
       "      <td>0.412759</td>\n",
       "      <td>4</td>\n",
       "      <td>14</td>\n",
       "      <td>0</td>\n",
       "    </tr>\n",
       "    <tr>\n",
       "      <th>...</th>\n",
       "      <td>...</td>\n",
       "      <td>...</td>\n",
       "      <td>...</td>\n",
       "      <td>...</td>\n",
       "      <td>...</td>\n",
       "      <td>...</td>\n",
       "      <td>...</td>\n",
       "      <td>...</td>\n",
       "      <td>...</td>\n",
       "      <td>...</td>\n",
       "      <td>...</td>\n",
       "      <td>...</td>\n",
       "      <td>...</td>\n",
       "      <td>...</td>\n",
       "      <td>...</td>\n",
       "      <td>...</td>\n",
       "      <td>...</td>\n",
       "      <td>...</td>\n",
       "      <td>...</td>\n",
       "      <td>...</td>\n",
       "      <td>...</td>\n",
       "    </tr>\n",
       "    <tr>\n",
       "      <th>80228</th>\n",
       "      <td>0.018260</td>\n",
       "      <td>0.301481</td>\n",
       "      <td>0.172799</td>\n",
       "      <td>-0.021798</td>\n",
       "      <td>-0.036878</td>\n",
       "      <td>-0.577146</td>\n",
       "      <td>-0.407271</td>\n",
       "      <td>-0.180785</td>\n",
       "      <td>-0.105812</td>\n",
       "      <td>-0.052765</td>\n",
       "      <td>...</td>\n",
       "      <td>-0.203016</td>\n",
       "      <td>0.183655</td>\n",
       "      <td>0.037066</td>\n",
       "      <td>-0.437198</td>\n",
       "      <td>0.232588</td>\n",
       "      <td>0.247454</td>\n",
       "      <td>0.639069</td>\n",
       "      <td>7</td>\n",
       "      <td>33</td>\n",
       "      <td>0</td>\n",
       "    </tr>\n",
       "    <tr>\n",
       "      <th>80229</th>\n",
       "      <td>0.126028</td>\n",
       "      <td>0.390391</td>\n",
       "      <td>0.472539</td>\n",
       "      <td>0.107285</td>\n",
       "      <td>0.207238</td>\n",
       "      <td>-1.226694</td>\n",
       "      <td>-0.543724</td>\n",
       "      <td>-0.185174</td>\n",
       "      <td>-0.004212</td>\n",
       "      <td>-0.234075</td>\n",
       "      <td>...</td>\n",
       "      <td>-0.673842</td>\n",
       "      <td>0.413889</td>\n",
       "      <td>0.254473</td>\n",
       "      <td>-0.465251</td>\n",
       "      <td>0.743208</td>\n",
       "      <td>0.278172</td>\n",
       "      <td>0.566219</td>\n",
       "      <td>8</td>\n",
       "      <td>13</td>\n",
       "      <td>0</td>\n",
       "    </tr>\n",
       "    <tr>\n",
       "      <th>80230</th>\n",
       "      <td>0.069302</td>\n",
       "      <td>0.234937</td>\n",
       "      <td>0.173060</td>\n",
       "      <td>0.008194</td>\n",
       "      <td>-0.010494</td>\n",
       "      <td>-0.650074</td>\n",
       "      <td>-0.260960</td>\n",
       "      <td>0.166279</td>\n",
       "      <td>-0.226709</td>\n",
       "      <td>-0.034041</td>\n",
       "      <td>...</td>\n",
       "      <td>-0.434698</td>\n",
       "      <td>0.210043</td>\n",
       "      <td>-0.077712</td>\n",
       "      <td>-0.300781</td>\n",
       "      <td>0.384739</td>\n",
       "      <td>0.081135</td>\n",
       "      <td>0.582238</td>\n",
       "      <td>9</td>\n",
       "      <td>42</td>\n",
       "      <td>0</td>\n",
       "    </tr>\n",
       "    <tr>\n",
       "      <th>80231</th>\n",
       "      <td>-0.048745</td>\n",
       "      <td>0.393246</td>\n",
       "      <td>0.138128</td>\n",
       "      <td>-0.051203</td>\n",
       "      <td>0.332018</td>\n",
       "      <td>-0.370605</td>\n",
       "      <td>-0.264960</td>\n",
       "      <td>-0.243287</td>\n",
       "      <td>-0.111952</td>\n",
       "      <td>-0.084794</td>\n",
       "      <td>...</td>\n",
       "      <td>-0.654875</td>\n",
       "      <td>0.300138</td>\n",
       "      <td>0.046146</td>\n",
       "      <td>-0.263811</td>\n",
       "      <td>0.481222</td>\n",
       "      <td>0.344225</td>\n",
       "      <td>0.657139</td>\n",
       "      <td>10</td>\n",
       "      <td>17</td>\n",
       "      <td>0</td>\n",
       "    </tr>\n",
       "    <tr>\n",
       "      <th>80232</th>\n",
       "      <td>0.266775</td>\n",
       "      <td>0.299463</td>\n",
       "      <td>0.268780</td>\n",
       "      <td>0.071746</td>\n",
       "      <td>0.090163</td>\n",
       "      <td>-0.456107</td>\n",
       "      <td>-0.032665</td>\n",
       "      <td>-0.131431</td>\n",
       "      <td>-0.166420</td>\n",
       "      <td>-0.208156</td>\n",
       "      <td>...</td>\n",
       "      <td>-0.629575</td>\n",
       "      <td>0.261997</td>\n",
       "      <td>0.066578</td>\n",
       "      <td>-0.210107</td>\n",
       "      <td>0.336060</td>\n",
       "      <td>-0.002164</td>\n",
       "      <td>0.641671</td>\n",
       "      <td>11</td>\n",
       "      <td>54</td>\n",
       "      <td>0</td>\n",
       "    </tr>\n",
       "  </tbody>\n",
       "</table>\n",
       "<p>80233 rows × 104 columns</p>\n",
       "</div>"
      ],
      "text/plain": [
       "              0         1         2         3         4         5         6  \\\n",
       "0     -0.147195  0.058697  0.197094 -0.391006 -0.077530 -0.096007 -0.111803   \n",
       "1     -0.050732  0.140445  0.114130  0.039059 -0.041864 -0.000104  0.151305   \n",
       "2      0.104622 -0.068349  0.077994 -0.905276  0.071093  0.130177  0.158481   \n",
       "3      0.088158  0.187424  0.008872 -0.357629  0.011294  0.021502  0.192081   \n",
       "4      0.388557 -0.281953  0.284575  0.020760 -0.077275  0.102943  0.148672   \n",
       "...         ...       ...       ...       ...       ...       ...       ...   \n",
       "80228  0.018260  0.301481  0.172799 -0.021798 -0.036878 -0.577146 -0.407271   \n",
       "80229  0.126028  0.390391  0.472539  0.107285  0.207238 -1.226694 -0.543724   \n",
       "80230  0.069302  0.234937  0.173060  0.008194 -0.010494 -0.650074 -0.260960   \n",
       "80231 -0.048745  0.393246  0.138128 -0.051203  0.332018 -0.370605 -0.264960   \n",
       "80232  0.266775  0.299463  0.268780  0.071746  0.090163 -0.456107 -0.032665   \n",
       "\n",
       "              7         8         9  ...        94        95        96  \\\n",
       "0      0.057422 -0.152720 -0.342601  ...  0.064607  0.075356 -0.138610   \n",
       "1      0.287705 -0.352697 -0.174999  ... -0.457553  0.126135 -0.134282   \n",
       "2     -0.005478 -0.501226 -0.305931  ... -0.411556 -0.043711 -0.304587   \n",
       "3     -0.179269 -0.345802 -0.115559  ... -0.326949  0.049975 -0.108660   \n",
       "4      0.079824 -0.265058 -0.100422  ... -0.043637 -0.018850 -0.240565   \n",
       "...         ...       ...       ...  ...       ...       ...       ...   \n",
       "80228 -0.180785 -0.105812 -0.052765  ... -0.203016  0.183655  0.037066   \n",
       "80229 -0.185174 -0.004212 -0.234075  ... -0.673842  0.413889  0.254473   \n",
       "80230  0.166279 -0.226709 -0.034041  ... -0.434698  0.210043 -0.077712   \n",
       "80231 -0.243287 -0.111952 -0.084794  ... -0.654875  0.300138  0.046146   \n",
       "80232 -0.131431 -0.166420 -0.208156  ... -0.629575  0.261997  0.066578   \n",
       "\n",
       "             97        98        99  Similarity to Title  Position  Length  \\\n",
       "0     -0.155694 -0.130958 -0.171777             0.388653         0       7   \n",
       "1      0.124213  0.442941  0.063086             0.700639         1      14   \n",
       "2      0.479707 -0.202459 -0.451889             0.470873         2       6   \n",
       "3      0.157335  0.096037 -0.265299             0.627928         3      18   \n",
       "4      0.108263  0.378435 -0.182465             0.412759         4      14   \n",
       "...         ...       ...       ...                  ...       ...     ...   \n",
       "80228 -0.437198  0.232588  0.247454             0.639069         7      33   \n",
       "80229 -0.465251  0.743208  0.278172             0.566219         8      13   \n",
       "80230 -0.300781  0.384739  0.081135             0.582238         9      42   \n",
       "80231 -0.263811  0.481222  0.344225             0.657139        10      17   \n",
       "80232 -0.210107  0.336060 -0.002164             0.641671        11      54   \n",
       "\n",
       "       In Summary  \n",
       "0               0  \n",
       "1               0  \n",
       "2               0  \n",
       "3               0  \n",
       "4               0  \n",
       "...           ...  \n",
       "80228           0  \n",
       "80229           0  \n",
       "80230           0  \n",
       "80231           0  \n",
       "80232           0  \n",
       "\n",
       "[80233 rows x 104 columns]"
      ]
     },
     "execution_count": 117,
     "metadata": {},
     "output_type": "execute_result"
    }
   ],
   "source": [
    "# check validation set\n",
    "v_df"
   ]
  },
  {
   "cell_type": "code",
   "execution_count": 118,
   "metadata": {},
   "outputs": [],
   "source": [
    "# get features and target\n",
    "X_valid = v_df.drop('In Summary',axis = 1)\n",
    "y_valid = v_df['In Summary']"
   ]
  },
  {
   "cell_type": "code",
   "execution_count": 119,
   "metadata": {
    "scrolled": true
   },
   "outputs": [
    {
     "data": {
      "text/plain": [
       "0.5054279411214837"
      ]
     },
     "execution_count": 119,
     "metadata": {},
     "output_type": "execute_result"
    }
   ],
   "source": [
    "# test accuracy\n",
    "lr_model.score(X_valid,y_valid)"
   ]
  },
  {
   "cell_type": "markdown",
   "metadata": {},
   "source": [
    "Naive bayes was able to predict with an accuracy of 50% for the validation set, which is not very good. We expect there to be either poor precision or recall."
   ]
  },
  {
   "cell_type": "code",
   "execution_count": 120,
   "metadata": {},
   "outputs": [
    {
     "data": {
      "text/plain": [
       "array([[38751, 39239],\n",
       "       [  442,  1801]])"
      ]
     },
     "execution_count": 120,
     "metadata": {},
     "output_type": "execute_result"
    }
   ],
   "source": [
    "# confusion matrix\n",
    "confusion_matrix(y_valid, lr_model.predict(X_valid))"
   ]
  },
  {
   "cell_type": "code",
   "execution_count": 121,
   "metadata": {},
   "outputs": [
    {
     "data": {
      "text/plain": [
       "0.04388401559454191"
      ]
     },
     "execution_count": 121,
     "metadata": {},
     "output_type": "execute_result"
    }
   ],
   "source": [
    "# precision\n",
    "precision_score(y_valid, lr_model.predict(X_valid))"
   ]
  },
  {
   "cell_type": "code",
   "execution_count": 122,
   "metadata": {},
   "outputs": [
    {
     "data": {
      "text/plain": [
       "0.8029424877396344"
      ]
     },
     "execution_count": 122,
     "metadata": {},
     "output_type": "execute_result"
    }
   ],
   "source": [
    "# recall\n",
    "recall_score(y_valid, lr_model.predict(X_valid))"
   ]
  },
  {
   "cell_type": "markdown",
   "metadata": {},
   "source": [
    "While recall score is high, precision is very low. For summarization tasks, it is okay since its not too big of a deal if we include a include a sentence thats not important. However, it is bad if we miss out on an important sentence. "
   ]
  },
  {
   "cell_type": "markdown",
   "metadata": {},
   "source": [
    "#### Generate Summaries"
   ]
  },
  {
   "cell_type": "markdown",
   "metadata": {},
   "source": [
    "To generate the summaries, we use predict_proba instead of predict on the validation set to predict the probability that a sentence will go into the summary. By using the probabilities, we have a \"score\" for each sentence that we can then rank and sort them on."
   ]
  },
  {
   "cell_type": "code",
   "execution_count": 123,
   "metadata": {},
   "outputs": [],
   "source": [
    "j=0\n",
    "# create empty list for storing probabilities of each document\n",
    "predictions = []\n",
    "for y in range(len(valid_text)):\n",
    "    # create empty list for storing predicted probabilities of each sentence\n",
    "    in_summary=[]\n",
    "    for i in valid_text[y]:\n",
    "        # make predictions\n",
    "        p = lr_model.predict_proba([X_valid.iloc[j]])[0][0]\n",
    "        # add to list\n",
    "        in_summary.append(p)\n",
    "        j+=1\n",
    "    # add to final list\n",
    "    predictions.append(in_summary)"
   ]
  },
  {
   "cell_type": "markdown",
   "metadata": {},
   "source": [
    "Finally, we can rank and sort the sentences."
   ]
  },
  {
   "cell_type": "code",
   "execution_count": 124,
   "metadata": {},
   "outputs": [],
   "source": [
    "# create empty list for storing ranks of sentences\n",
    "nb_ranked=[]\n",
    "for y in range(len(predictions)):\n",
    "    # sort sentences based on ranks\n",
    "    ranked =sorted(((predictions[y][i],s) for i,s in enumerate(valid_text_ready[y])),reverse=True)\n",
    "    nb_ranked.append(ranked)"
   ]
  },
  {
   "cell_type": "markdown",
   "metadata": {},
   "source": [
    "Now let's see how the summaries look like."
   ]
  },
  {
   "cell_type": "code",
   "execution_count": 125,
   "metadata": {},
   "outputs": [],
   "source": [
    "# summarize\n",
    "nb_summaries = summarize(nb_ranked,5)"
   ]
  },
  {
   "cell_type": "code",
   "execution_count": 126,
   "metadata": {},
   "outputs": [
    {
     "data": {
      "text/plain": [
       "'Iran says its nuclear program is peaceful, aimed at generating electricity. Shourd, who may opt to not return, a move which would delay any trial of Bauer and Fattal, said the trio were hiking in the mountains area of Iraq near the Iranian border and never intended to cross into Iran. \"The hearing will be held on scheduled date unless in some exceptional cases such as their lawyers\\' formal requests,\" Ejei said. Under Iran\\'s Islamic law, espionage can be punished by execution.  '"
      ]
     },
     "execution_count": 126,
     "metadata": {},
     "output_type": "execute_result"
    }
   ],
   "source": [
    "# check summaries\n",
    "nb_summaries[4]"
   ]
  },
  {
   "cell_type": "markdown",
   "metadata": {},
   "source": [
    "It is not clear if this is a good summary but it looks adequate. "
   ]
  },
  {
   "cell_type": "code",
   "execution_count": 127,
   "metadata": {},
   "outputs": [
    {
     "data": {
      "text/plain": [
       "0.32258064111958207"
      ]
     },
     "execution_count": 127,
     "metadata": {},
     "output_type": "execute_result"
    }
   ],
   "source": [
    "# evaluate\n",
    "rouge2f(nb_summaries,df_valid['summary'])"
   ]
  },
  {
   "cell_type": "markdown",
   "metadata": {},
   "source": [
    "Looking at the score, it appears to have done quite well. "
   ]
  },
  {
   "cell_type": "markdown",
   "metadata": {},
   "source": [
    "## Conclusion"
   ]
  },
  {
   "cell_type": "markdown",
   "metadata": {},
   "source": [
    "After generating summaries using various methods and comparing their ROUGE scores using 2-grams, we were able to determine that TextRank is the best at extracting salient sentences. This was also evident in the summary it was able to generate. \n",
    "\n",
    "Another accomplishment from this project is that we were able to acheive scores higher than what is documented on the newsroom website. The implementation of TextRank there was only able to acheive a ROUGE-2 (F1) score of 10.12. \n",
    "\n",
    "\n",
    "We can now conclude that extractive summarization is able to perform just as well if not better than abstractive summaries at extracting salient information. It might not generate natural and coherent summaries but its definitely a first step in the right direction. Next steps are to use other methods including reinforcement learning and neural-network based extraction."
   ]
  },
  {
   "cell_type": "markdown",
   "metadata": {},
   "source": [
    "| Extractive                       | ROUGE-2 (F1)   |\n",
    "|----------------------------------|----------------|\n",
    "| TextRank                         | 57.73    |\n",
    "| Latent Semantic Indexing         | 33.33          |\n",
    "| TF-IDF                           | 1.20         |\n",
    "| Naive Bayes                      | 32.26          |"
   ]
  },
  {
   "cell_type": "code",
   "execution_count": null,
   "metadata": {},
   "outputs": [],
   "source": []
  }
 ],
 "metadata": {
  "kernelspec": {
   "display_name": "Python [conda env:capstone]",
   "language": "python",
   "name": "conda-env-capstone-py"
  },
  "language_info": {
   "codemirror_mode": {
    "name": "ipython",
    "version": 3
   },
   "file_extension": ".py",
   "mimetype": "text/x-python",
   "name": "python",
   "nbconvert_exporter": "python",
   "pygments_lexer": "ipython3",
   "version": "3.8.2"
  }
 },
 "nbformat": 4,
 "nbformat_minor": 4
}
