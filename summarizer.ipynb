{
 "cells": [
  {
   "cell_type": "markdown",
   "metadata": {},
   "source": [
    "## Load and Extract"
   ]
  },
  {
   "cell_type": "code",
   "execution_count": 1,
   "metadata": {},
   "outputs": [],
   "source": [
    "import pandas as pd\n",
    "import numpy as np\n",
    "import matplotlib.pyplot as plt\n",
    "import seaborn as sns"
   ]
  },
  {
   "cell_type": "code",
   "execution_count": 2,
   "metadata": {},
   "outputs": [],
   "source": [
    "import json, gzip"
   ]
  },
  {
   "cell_type": "code",
   "execution_count": 3,
   "metadata": {},
   "outputs": [],
   "source": [
    "def load_data(path):\n",
    "    \n",
    "    data = []\n",
    "    \n",
    "    with gzip.open(path) as f:\n",
    "        for ln in f:\n",
    "            obj = json.loads(ln)\n",
    "            data.append(obj)\n",
    "    \n",
    "    return data"
   ]
  },
  {
   "cell_type": "code",
   "execution_count": 4,
   "metadata": {},
   "outputs": [],
   "source": [
    "data_train = load_data(\"data/train.jsonl.gz\")"
   ]
  },
  {
   "cell_type": "code",
   "execution_count": 5,
   "metadata": {},
   "outputs": [],
   "source": [
    "data_valid = load_data(\"data/dev.jsonl.gz\")"
   ]
  },
  {
   "cell_type": "code",
   "execution_count": 34,
   "metadata": {},
   "outputs": [],
   "source": [
    "def make_df(data, size):\n",
    "    \n",
    "    text = [data[i]['text'] for i in range(size)]\n",
    "    \n",
    "    summary = [data[i]['summary'] for i in range(size)]\n",
    "    \n",
    "    title = [data[i]['title'] for i in range(size)]\n",
    "    \n",
    "    df = pd.DataFrame({'text':text,'summary':summary, 'title':title})\n",
    "    \n",
    "    return df"
   ]
  },
  {
   "cell_type": "code",
   "execution_count": 35,
   "metadata": {},
   "outputs": [],
   "source": [
    "df_train = make_df(data_train, 1000)"
   ]
  },
  {
   "cell_type": "code",
   "execution_count": 54,
   "metadata": {},
   "outputs": [],
   "source": [
    "df_valid = make_df(data_valid, 300)"
   ]
  },
  {
   "cell_type": "markdown",
   "metadata": {},
   "source": [
    "## Data Cleaning"
   ]
  },
  {
   "cell_type": "code",
   "execution_count": 9,
   "metadata": {},
   "outputs": [
    {
     "data": {
      "text/plain": [
       "(1000, 2)"
      ]
     },
     "execution_count": 9,
     "metadata": {},
     "output_type": "execute_result"
    }
   ],
   "source": [
    "df_train.shape"
   ]
  },
  {
   "cell_type": "code",
   "execution_count": 10,
   "metadata": {},
   "outputs": [
    {
     "data": {
      "text/plain": [
       "text       0.0\n",
       "summary    0.0\n",
       "dtype: float64"
      ]
     },
     "execution_count": 10,
     "metadata": {},
     "output_type": "execute_result"
    }
   ],
   "source": [
    "df_train.isna().sum()/df_train.shape[0]*100"
   ]
  },
  {
   "cell_type": "code",
   "execution_count": 11,
   "metadata": {},
   "outputs": [
    {
     "data": {
      "text/plain": [
       "0"
      ]
     },
     "execution_count": 11,
     "metadata": {},
     "output_type": "execute_result"
    }
   ],
   "source": [
    "df_train.duplicated().sum()"
   ]
  },
  {
   "cell_type": "code",
   "execution_count": 12,
   "metadata": {},
   "outputs": [
    {
     "data": {
      "text/plain": [
       "(300, 2)"
      ]
     },
     "execution_count": 12,
     "metadata": {},
     "output_type": "execute_result"
    }
   ],
   "source": [
    "df_valid.shape"
   ]
  },
  {
   "cell_type": "code",
   "execution_count": 13,
   "metadata": {},
   "outputs": [
    {
     "data": {
      "text/plain": [
       "text       0.0\n",
       "summary    0.0\n",
       "dtype: float64"
      ]
     },
     "execution_count": 13,
     "metadata": {},
     "output_type": "execute_result"
    }
   ],
   "source": [
    "df_valid.isna().sum()/df_valid.shape[0]"
   ]
  },
  {
   "cell_type": "code",
   "execution_count": 14,
   "metadata": {},
   "outputs": [
    {
     "data": {
      "text/plain": [
       "0"
      ]
     },
     "execution_count": 14,
     "metadata": {},
     "output_type": "execute_result"
    }
   ],
   "source": [
    "df_valid.duplicated().sum()"
   ]
  },
  {
   "cell_type": "markdown",
   "metadata": {},
   "source": [
    "## Sentence Tokenization"
   ]
  },
  {
   "cell_type": "code",
   "execution_count": 19,
   "metadata": {},
   "outputs": [
    {
     "name": "stderr",
     "output_type": "stream",
     "text": [
      "[nltk_data] Downloading package punkt to\n",
      "[nltk_data]     /Users/gilbertwong/nltk_data...\n",
      "[nltk_data]   Package punkt is already up-to-date!\n"
     ]
    }
   ],
   "source": [
    "import nltk\n",
    "nltk.download('punkt')\n",
    "from nltk.tokenize import sent_tokenize"
   ]
  },
  {
   "cell_type": "code",
   "execution_count": 20,
   "metadata": {},
   "outputs": [],
   "source": [
    "train_text = df_train['text'].apply(sent_tokenize)\n",
    "train_summary = df_train['summary'].apply(sent_tokenize)\n",
    "valid_text = df_valid['text'].apply(sent_tokenize)\n",
    "valid_summary = df_valid['summary'].apply(sent_tokenize)"
   ]
  },
  {
   "cell_type": "code",
   "execution_count": 55,
   "metadata": {},
   "outputs": [],
   "source": [
    "train_title = df_train['title']\n",
    "valid_title = df_valid['title']"
   ]
  },
  {
   "cell_type": "markdown",
   "metadata": {},
   "source": [
    "## Soft Clean"
   ]
  },
  {
   "cell_type": "code",
   "execution_count": 21,
   "metadata": {},
   "outputs": [],
   "source": [
    "import re"
   ]
  },
  {
   "cell_type": "code",
   "execution_count": 22,
   "metadata": {},
   "outputs": [],
   "source": [
    "def s_cleaner(text): \n",
    "    \n",
    "    new_string = re.sub(\"\\n\", \" \", text) \n",
    "    new_string = re.sub(\"Â\\xad\", \"\",new_string)\n",
    "    new_string = re.sub(r'\\([^)]*\\)', '', new_string)\n",
    "    \n",
    "    return new_string"
   ]
  },
  {
   "cell_type": "code",
   "execution_count": 260,
   "metadata": {},
   "outputs": [],
   "source": [
    "def ready(text):\n",
    "    \n",
    "    cleaned = []\n",
    "    \n",
    "    for x in text:\n",
    "        cleaned.append(s_cleaner(x))\n",
    "        \n",
    "    return cleaned"
   ]
  },
  {
   "cell_type": "code",
   "execution_count": 261,
   "metadata": {},
   "outputs": [],
   "source": [
    "train_text_ready = train_text.apply(ready)\n",
    "valid_text_ready = valid_text.apply(ready)"
   ]
  },
  {
   "cell_type": "code",
   "execution_count": 706,
   "metadata": {},
   "outputs": [
    {
     "data": {
      "text/plain": [
       "[\"Wednesday, May 18th 2005, 9:59AM  Summer is shaping up as extra sweet at Cafe Centro, where the menu features treats like s'mores, chocolate fondue and a unique cocktail called the Cotton Candy Cosmo.\",\n",
       " 'The drink was created by mixologist Bill Rogers, whose inspiration was the fluffy confection that the restaurant  occasionally serves to customers.',\n",
       " 'Priced at $9, the deeply colorful libation is topped with billows of bright pink cotton candy.',\n",
       " \"It's light, summery and wonderful for sipping outside.\",\n",
       " '2 ounces Absolut Citron Vodka  Pink cotton candy for the top  Shake vodka, Triple Sec, lime juice and cranberry juice vigorously in a shaker with ice.',\n",
       " 'Strain into a martini glass.',\n",
       " 'Garnish with pink cotton candy all around the rim and serve.']"
      ]
     },
     "execution_count": 706,
     "metadata": {},
     "output_type": "execute_result"
    }
   ],
   "source": [
    "train_text_ready[9]"
   ]
  },
  {
   "cell_type": "markdown",
   "metadata": {},
   "source": [
    "## Hard Clean"
   ]
  },
  {
   "cell_type": "code",
   "execution_count": 40,
   "metadata": {},
   "outputs": [
    {
     "name": "stderr",
     "output_type": "stream",
     "text": [
      "[nltk_data] Downloading package stopwords to\n",
      "[nltk_data]     /Users/gilbertwong/nltk_data...\n",
      "[nltk_data]   Package stopwords is already up-to-date!\n"
     ]
    },
    {
     "data": {
      "text/plain": [
       "True"
      ]
     },
     "execution_count": 40,
     "metadata": {},
     "output_type": "execute_result"
    }
   ],
   "source": [
    "from nltk.corpus import stopwords\n",
    "nltk.download('stopwords')"
   ]
  },
  {
   "cell_type": "code",
   "execution_count": 41,
   "metadata": {
    "scrolled": true
   },
   "outputs": [],
   "source": [
    "stop_words = stopwords.words('english')"
   ]
  },
  {
   "cell_type": "code",
   "execution_count": 42,
   "metadata": {},
   "outputs": [],
   "source": [
    "contraction_mapping = {\"ain't\": \"is not\", \"aren't\": \"are not\",\"can't\": \"cannot\", \"'cause\": \"because\", \n",
    "                       \"could've\": \"could have\", \"couldn't\": \"could not\", \"didn't\": \"did not\", \"doesn't\": \"does not\", \n",
    "                       \"don't\": \"do not\", \"hadn't\": \"had not\", \"hasn't\": \"has not\", \"haven't\": \"have not\", \n",
    "                       \"he'd\": \"he would\",\"he'll\": \"he will\", \"he's\": \"he is\", \"how'd\": \"how did\", \n",
    "                       \"how'd'y\": \"how do you\", \"how'll\": \"how will\", \"how's\": \"how is\", \"I'd\": \"I would\", \n",
    "                       \"I'd've\": \"I would have\", \"I'll\": \"I will\", \"I'll've\": \"I will have\",\"I'm\": \"I am\", \n",
    "                       \"I've\": \"I have\", \"i'd\": \"i would\", \"i'd've\": \"i would have\", \"i'll\": \"i will\",  \n",
    "                       \"i'll've\": \"i will have\",\"i'm\": \"i am\", \"i've\": \"i have\", \"isn't\": \"is not\", \"it'd\": \"it would\",\n",
    "                       \"it'd've\": \"it would have\", \"it'll\": \"it will\", \"it'll've\": \"it will have\",\"it's\": \"it is\", \n",
    "                       \"let's\": \"let us\", \"ma'am\": \"madam\", \"mayn't\": \"may not\", \"might've\": \"might have\",\n",
    "                       \"mightn't\": \"might not\",\"mightn't've\": \"might not have\", \"must've\": \"must have\", \n",
    "                       \"mustn't\": \"must not\", \"mustn't've\": \"must not have\", \"needn't\": \"need not\", \n",
    "                       \"needn't've\": \"need not have\",\"o'clock\": \"of the clock\", \"oughtn't\": \"ought not\", \n",
    "                       \"oughtn't've\": \"ought not have\", \"shan't\": \"shall not\", \"sha'n't\": \"shall not\", \n",
    "                       \"shan't've\": \"shall not have\", \"she'd\": \"she would\", \"she'd've\": \"she would have\", \n",
    "                       \"she'll\": \"she will\", \"she'll've\": \"she will have\", \"she's\": \"she is\", \n",
    "                       \"should've\": \"should have\", \"shouldn't\": \"should not\", \"shouldn't've\": \"should not have\", \n",
    "                       \"so've\": \"so have\",\"so's\": \"so as\", \"this's\": \"this is\",\"that'd\": \"that would\", \n",
    "                       \"that'd've\": \"that would have\", \"that's\": \"that is\", \"there'd\": \"there would\", \n",
    "                       \"there'd've\": \"there would have\", \"there's\": \"there is\", \"here's\": \"here is\",\n",
    "                       \"they'd\": \"they would\", \"they'd've\": \"they would have\", \"they'll\": \"they will\", \n",
    "                       \"they'll've\": \"they will have\", \"they're\": \"they are\", \"they've\": \"they have\", \n",
    "                       \"to've\": \"to have\", \"wasn't\": \"was not\", \"we'd\": \"we would\", \"we'd've\": \"we would have\", \n",
    "                       \"we'll\": \"we will\", \"we'll've\": \"we will have\", \"we're\": \"we are\", \"we've\": \"we have\", \n",
    "                       \"weren't\": \"were not\", \"what'll\": \"what will\", \"what'll've\": \"what will have\", \n",
    "                       \"what're\": \"what are\", \"what's\": \"what is\", \"what've\": \"what have\", \"when's\": \"when is\", \n",
    "                       \"when've\": \"when have\", \"where'd\": \"where did\", \"where's\": \"where is\", \"where've\": \"where have\", \n",
    "                       \"who'll\": \"who will\", \"who'll've\": \"who will have\", \"who's\": \"who is\", \"who've\": \"who have\",\n",
    "                       \"why's\": \"why is\", \"why've\": \"why have\", \"will've\": \"will have\", \"won't\": \"will not\", \n",
    "                       \"won't've\": \"will not have\", \"would've\": \"would have\", \"wouldn't\": \"would not\", \n",
    "                       \"wouldn't've\": \"would not have\", \"y'all\": \"you all\", \"y'all'd\": \"you all would\",\n",
    "                       \"y'all'd've\": \"you all would have\",\"y'all're\": \"you all are\",\"y'all've\": \"you all have\", \n",
    "                       \"you'd\": \"you would\", \"you'd've\": \"you would have\", \"you'll\": \"you will\", \n",
    "                       \"you'll've\": \"you will have\", \"you're\": \"you are\", \"you've\": \"you have\"}"
   ]
  },
  {
   "cell_type": "code",
   "execution_count": 43,
   "metadata": {},
   "outputs": [],
   "source": [
    "def h_cleaner(text):\n",
    "    \n",
    "    new_string = text.lower()\n",
    "    new_string = re.sub(r'\\([^)]*\\)', '', new_string)\n",
    "    new_string = re.sub('\"','', new_string)\n",
    "    new_string = ' '.join([contraction_mapping[t] if t in contraction_mapping else t for t in new_string.split(\" \")])    \n",
    "    new_string = re.sub(r\"'s\\b\",\"\",new_string)\n",
    "    new_string = re.sub(\"[^a-zA-Z]\", \" \", new_string) \n",
    "    new_string = [w for w in new_string.split() if not w in stop_words]\n",
    "    new_string = \" \".join(new_string)\n",
    "    \n",
    "    return new_string"
   ]
  },
  {
   "cell_type": "code",
   "execution_count": 334,
   "metadata": {},
   "outputs": [],
   "source": [
    "def clean(text):\n",
    "    \n",
    "    cleaned = []\n",
    "    \n",
    "    for y in text:\n",
    "       \n",
    "        cleaned.append(h_cleaner(y))\n",
    "        \n",
    "    return cleaned"
   ]
  },
  {
   "cell_type": "code",
   "execution_count": 335,
   "metadata": {},
   "outputs": [],
   "source": [
    "train_text_cleaned = train_text.apply(clean)\n",
    "valid_text_cleaned = valid_text.apply(clean)"
   ]
  },
  {
   "cell_type": "code",
   "execution_count": 336,
   "metadata": {},
   "outputs": [],
   "source": [
    "train_title_cleaned = clean(train_title)\n",
    "valid_title_cleaned = clean(valid_title)"
   ]
  },
  {
   "cell_type": "code",
   "execution_count": 62,
   "metadata": {
    "scrolled": true
   },
   "outputs": [
    {
     "data": {
      "text/plain": [
       "'popeye worthy pie phyllo dough wraps spinach pure gold'"
      ]
     },
     "execution_count": 62,
     "metadata": {},
     "output_type": "execute_result"
    }
   ],
   "source": [
    "train_title_cleaned[4]"
   ]
  },
  {
   "cell_type": "markdown",
   "metadata": {},
   "source": [
    "## EDA"
   ]
  },
  {
   "cell_type": "markdown",
   "metadata": {},
   "source": [
    "#### Word count"
   ]
  },
  {
   "cell_type": "code",
   "execution_count": 32,
   "metadata": {},
   "outputs": [],
   "source": [
    "text_word_count = pd.Series([i for y in train_text_cleaned for x in y for i in x.split()])"
   ]
  },
  {
   "cell_type": "code",
   "execution_count": 33,
   "metadata": {},
   "outputs": [
    {
     "name": "stdout",
     "output_type": "stream",
     "text": [
      "Text word count:  327937\n"
     ]
    }
   ],
   "source": [
    "print(\"Text word count: \", len(text_word_count))"
   ]
  },
  {
   "cell_type": "code",
   "execution_count": 34,
   "metadata": {},
   "outputs": [],
   "source": [
    "summary_word_count = pd.Series([i for y in train_summary_cleaned for x in y for i in x.split()])"
   ]
  },
  {
   "cell_type": "code",
   "execution_count": 35,
   "metadata": {},
   "outputs": [
    {
     "name": "stdout",
     "output_type": "stream",
     "text": [
      "Summary word count:  21093\n"
     ]
    }
   ],
   "source": [
    "print(\"Summary word count: \", len(summary_word_count))"
   ]
  },
  {
   "cell_type": "markdown",
   "metadata": {},
   "source": [
    "#### Vocab size"
   ]
  },
  {
   "cell_type": "code",
   "execution_count": 36,
   "metadata": {},
   "outputs": [],
   "source": [
    "text_vocab_size = text_word_count.nunique()"
   ]
  },
  {
   "cell_type": "code",
   "execution_count": 37,
   "metadata": {},
   "outputs": [
    {
     "name": "stdout",
     "output_type": "stream",
     "text": [
      "Text vocab size:  33680\n"
     ]
    }
   ],
   "source": [
    "print(\"Text vocab size: \", text_vocab_size)"
   ]
  },
  {
   "cell_type": "code",
   "execution_count": 38,
   "metadata": {},
   "outputs": [],
   "source": [
    "summary_vocab_size = summary_word_count.nunique()"
   ]
  },
  {
   "cell_type": "code",
   "execution_count": 39,
   "metadata": {},
   "outputs": [
    {
     "name": "stdout",
     "output_type": "stream",
     "text": [
      "Summary vocab size:  7998\n"
     ]
    }
   ],
   "source": [
    "print(\"Summary vocab size: \", summary_vocab_size)"
   ]
  },
  {
   "cell_type": "markdown",
   "metadata": {},
   "source": [
    "#### Sentence and article lengths"
   ]
  },
  {
   "cell_type": "code",
   "execution_count": 49,
   "metadata": {},
   "outputs": [],
   "source": [
    "text_sentence_lengths = [len(x.split()) for y in train_text_cleaned for x in y]\n",
    "text_article_lengths = [len(y) for y in train_text_cleaned]\n",
    "summary_sentence_lengths = [len(x.split()) for y in train_summary_cleaned for x in y]\n",
    "summary_article_lengths = [len(y) for y in train_summary_cleaned]"
   ]
  },
  {
   "cell_type": "code",
   "execution_count": 52,
   "metadata": {},
   "outputs": [
    {
     "name": "stdout",
     "output_type": "stream",
     "text": [
      "Max text sentence length:  194\n"
     ]
    },
    {
     "data": {
      "image/png": "[encoded data removed]",
      "text/plain": [
       "<Figure size 864x504 with 1 Axes>"
      ]
     },
     "metadata": {
      "needs_background": "light"
     },
     "output_type": "display_data"
    }
   ],
   "source": [
    "print(\"Max text sentence length: \", max(text_sentence_lengths))\n",
    "\n",
    "plt.figure(figsize=(12,7))\n",
    "plt.hist(text_sentence_lengths, bins=range(-40,500,20))\n",
    "plt.grid()\n",
    "plt.title('Sentence Lengths')\n",
    "plt.xticks(range(-40,500,20))\n",
    "plt.xlim(-40,500)\n",
    "plt.show()"
   ]
  },
  {
   "cell_type": "code",
   "execution_count": 53,
   "metadata": {},
   "outputs": [
    {
     "name": "stdout",
     "output_type": "stream",
     "text": [
      "Max summary sentence lenth:  48\n"
     ]
    },
    {
     "data": {
      "image/png": "[encoded data removed]",
      "text/plain": [
       "<Figure size 864x504 with 1 Axes>"
      ]
     },
     "metadata": {
      "needs_background": "light"
     },
     "output_type": "display_data"
    }
   ],
   "source": [
    "print(\"Max summary sentence lenth: \", max(summary_sentence_lengths))\n",
    "\n",
    "plt.figure(figsize=(12,7))\n",
    "plt.hist(summary_sentence_lengths, bins=range(-40,500,20))\n",
    "plt.grid()\n",
    "plt.title('Sentence Lengths')\n",
    "plt.xticks(range(-40,500,20))\n",
    "plt.xlim(-40,500)\n",
    "plt.show()"
   ]
  },
  {
   "cell_type": "code",
   "execution_count": 54,
   "metadata": {},
   "outputs": [
    {
     "name": "stdout",
     "output_type": "stream",
     "text": [
      "Max text article lenth:  327\n"
     ]
    },
    {
     "data": {
      "image/png": "[encoded data removed]",
      "text/plain": [
       "<Figure size 864x504 with 1 Axes>"
      ]
     },
     "metadata": {
      "needs_background": "light"
     },
     "output_type": "display_data"
    }
   ],
   "source": [
    "print(\"Max text article lenth: \", max(text_article_lengths))\n",
    "\n",
    "plt.figure(figsize=(12,7))\n",
    "plt.hist(text_article_lengths, bins=range(-30,300,10))\n",
    "plt.grid()\n",
    "plt.title('Article Lengths')\n",
    "plt.xticks(range(-30,300,10))\n",
    "plt.xlim(-20,300)\n",
    "plt.show()"
   ]
  },
  {
   "cell_type": "code",
   "execution_count": 55,
   "metadata": {},
   "outputs": [
    {
     "name": "stdout",
     "output_type": "stream",
     "text": [
      "Max summary article lenth:  49\n"
     ]
    },
    {
     "data": {
      "image/png": "[encoded data removed]",
      "text/plain": [
       "<Figure size 864x504 with 1 Axes>"
      ]
     },
     "metadata": {
      "needs_background": "light"
     },
     "output_type": "display_data"
    }
   ],
   "source": [
    "print(\"Max summary article lenth: \", max(summary_article_lengths))\n",
    "\n",
    "plt.figure(figsize=(12,7))\n",
    "plt.hist(summary_article_lengths, bins=range(-30,300,10))\n",
    "plt.grid()\n",
    "plt.title('Article Lengths')\n",
    "plt.xticks(range(-30,300,10))\n",
    "plt.xlim(-20,300)\n",
    "plt.show()"
   ]
  },
  {
   "cell_type": "markdown",
   "metadata": {},
   "source": [
    "## GloVe Vectors"
   ]
  },
  {
   "cell_type": "code",
   "execution_count": 49,
   "metadata": {},
   "outputs": [
    {
     "name": "stdout",
     "output_type": "stream",
     "text": [
      "Found 400000 word vectors.\n"
     ]
    }
   ],
   "source": [
    "word_embeddings = {}\n",
    "with open('glove/glove.6B.100d.txt') as f:\n",
    "    for line in f:\n",
    "        word, coefs = line.split(maxsplit=1)\n",
    "        coefs = np.fromstring(coefs, \"f\", sep=\" \")\n",
    "        word_embeddings[word] = coefs\n",
    "\n",
    "print(\"Found %s word vectors.\" % len(word_embeddings))"
   ]
  },
  {
   "cell_type": "code",
   "execution_count": 50,
   "metadata": {},
   "outputs": [],
   "source": [
    "def glove(cleaned_text):\n",
    "    \n",
    "    glove_vectors = []\n",
    "\n",
    "    for i in cleaned_text:\n",
    "        if len(i)!=0:\n",
    "            v = sum([word_embeddings.get(w, np.zeros((100,))) for w in i.split()])/(len(i.split())+0.001)\n",
    "        else:\n",
    "            v = np.zeros((100,))\n",
    "         \n",
    "        glove_vectors.append(v)\n",
    "        \n",
    "    return glove_vectors"
   ]
  },
  {
   "cell_type": "code",
   "execution_count": 337,
   "metadata": {},
   "outputs": [],
   "source": [
    "train_text_vectors = train_text_cleaned.apply(glove)\n",
    "valid_text_vectors = valid_text_cleaned.apply(glove)"
   ]
  },
  {
   "cell_type": "code",
   "execution_count": 338,
   "metadata": {},
   "outputs": [],
   "source": [
    "train_title_vectors = glove(train_title_cleaned)\n",
    "valid_title_vectors = glove(valid_title_cleaned)"
   ]
  },
  {
   "cell_type": "code",
   "execution_count": 333,
   "metadata": {
    "scrolled": true
   },
   "outputs": [
    {
     "data": {
      "text/html": [
       "<div>\n",
       "<style scoped>\n",
       "    .dataframe tbody tr th:only-of-type {\n",
       "        vertical-align: middle;\n",
       "    }\n",
       "\n",
       "    .dataframe tbody tr th {\n",
       "        vertical-align: top;\n",
       "    }\n",
       "\n",
       "    .dataframe thead th {\n",
       "        text-align: right;\n",
       "    }\n",
       "</style>\n",
       "<table border=\"1\" class=\"dataframe\">\n",
       "  <thead>\n",
       "    <tr style=\"text-align: right;\">\n",
       "      <th></th>\n",
       "      <th>0</th>\n",
       "      <th>1</th>\n",
       "      <th>2</th>\n",
       "      <th>3</th>\n",
       "      <th>4</th>\n",
       "      <th>5</th>\n",
       "      <th>6</th>\n",
       "      <th>7</th>\n",
       "      <th>8</th>\n",
       "      <th>9</th>\n",
       "      <th>...</th>\n",
       "      <th>90</th>\n",
       "      <th>91</th>\n",
       "      <th>92</th>\n",
       "      <th>93</th>\n",
       "      <th>94</th>\n",
       "      <th>95</th>\n",
       "      <th>96</th>\n",
       "      <th>97</th>\n",
       "      <th>98</th>\n",
       "      <th>99</th>\n",
       "    </tr>\n",
       "  </thead>\n",
       "  <tbody>\n",
       "    <tr>\n",
       "      <th>0</th>\n",
       "      <td>0.006421</td>\n",
       "      <td>-0.009097</td>\n",
       "      <td>0.132893</td>\n",
       "      <td>-0.509808</td>\n",
       "      <td>0.088795</td>\n",
       "      <td>0.009663</td>\n",
       "      <td>0.082244</td>\n",
       "      <td>0.152632</td>\n",
       "      <td>-0.118104</td>\n",
       "      <td>-0.109640</td>\n",
       "      <td>...</td>\n",
       "      <td>0.206729</td>\n",
       "      <td>0.016490</td>\n",
       "      <td>0.257795</td>\n",
       "      <td>-0.085189</td>\n",
       "      <td>-0.115360</td>\n",
       "      <td>-0.084905</td>\n",
       "      <td>-0.317366</td>\n",
       "      <td>-0.033071</td>\n",
       "      <td>0.058453</td>\n",
       "      <td>0.321762</td>\n",
       "    </tr>\n",
       "    <tr>\n",
       "      <th>1</th>\n",
       "      <td>-0.082277</td>\n",
       "      <td>0.055387</td>\n",
       "      <td>0.167500</td>\n",
       "      <td>-0.213915</td>\n",
       "      <td>-0.138868</td>\n",
       "      <td>0.057554</td>\n",
       "      <td>-0.116489</td>\n",
       "      <td>0.155131</td>\n",
       "      <td>-0.165329</td>\n",
       "      <td>-0.102740</td>\n",
       "      <td>...</td>\n",
       "      <td>-0.037528</td>\n",
       "      <td>-0.128089</td>\n",
       "      <td>-0.065189</td>\n",
       "      <td>0.003792</td>\n",
       "      <td>-0.316062</td>\n",
       "      <td>-0.057625</td>\n",
       "      <td>-0.183228</td>\n",
       "      <td>-0.300233</td>\n",
       "      <td>0.268859</td>\n",
       "      <td>0.001943</td>\n",
       "    </tr>\n",
       "    <tr>\n",
       "      <th>2</th>\n",
       "      <td>-0.048630</td>\n",
       "      <td>0.216759</td>\n",
       "      <td>0.234176</td>\n",
       "      <td>-0.239641</td>\n",
       "      <td>0.235656</td>\n",
       "      <td>0.283271</td>\n",
       "      <td>0.067952</td>\n",
       "      <td>-0.109554</td>\n",
       "      <td>-0.181730</td>\n",
       "      <td>-0.118511</td>\n",
       "      <td>...</td>\n",
       "      <td>-0.109111</td>\n",
       "      <td>-0.051601</td>\n",
       "      <td>0.129526</td>\n",
       "      <td>0.171163</td>\n",
       "      <td>-0.189193</td>\n",
       "      <td>0.000964</td>\n",
       "      <td>-0.527312</td>\n",
       "      <td>-0.257123</td>\n",
       "      <td>0.252786</td>\n",
       "      <td>-0.006229</td>\n",
       "    </tr>\n",
       "  </tbody>\n",
       "</table>\n",
       "<p>3 rows × 100 columns</p>\n",
       "</div>"
      ],
      "text/plain": [
       "         0         1         2         3         4         5         6   \\\n",
       "0  0.006421 -0.009097  0.132893 -0.509808  0.088795  0.009663  0.082244   \n",
       "1 -0.082277  0.055387  0.167500 -0.213915 -0.138868  0.057554 -0.116489   \n",
       "2 -0.048630  0.216759  0.234176 -0.239641  0.235656  0.283271  0.067952   \n",
       "\n",
       "         7         8         9   ...        90        91        92        93  \\\n",
       "0  0.152632 -0.118104 -0.109640  ...  0.206729  0.016490  0.257795 -0.085189   \n",
       "1  0.155131 -0.165329 -0.102740  ... -0.037528 -0.128089 -0.065189  0.003792   \n",
       "2 -0.109554 -0.181730 -0.118511  ... -0.109111 -0.051601  0.129526  0.171163   \n",
       "\n",
       "         94        95        96        97        98        99  \n",
       "0 -0.115360 -0.084905 -0.317366 -0.033071  0.058453  0.321762  \n",
       "1 -0.316062 -0.057625 -0.183228 -0.300233  0.268859  0.001943  \n",
       "2 -0.189193  0.000964 -0.527312 -0.257123  0.252786 -0.006229  \n",
       "\n",
       "[3 rows x 100 columns]"
      ]
     },
     "execution_count": 333,
     "metadata": {},
     "output_type": "execute_result"
    }
   ],
   "source": [
    "pd.DataFrame(train_summary_vectors[3])"
   ]
  },
  {
   "cell_type": "markdown",
   "metadata": {},
   "source": [
    "## Feature Engineering"
   ]
  },
  {
   "cell_type": "markdown",
   "metadata": {},
   "source": [
    "#### Sentence Length"
   ]
  },
  {
   "cell_type": "code",
   "execution_count": 27,
   "metadata": {
    "scrolled": true
   },
   "outputs": [],
   "source": [
    "def length(text):\n",
    "    sen_len = []\n",
    "    for i in text:\n",
    "        sen_len.append(len(i.split()))\n",
    "    return sen_len\n",
    "    "
   ]
  },
  {
   "cell_type": "code",
   "execution_count": 340,
   "metadata": {},
   "outputs": [],
   "source": [
    "len_train_text = train_text.apply(length)\n",
    "len_valid_text = valid_text.apply(length)"
   ]
  },
  {
   "cell_type": "code",
   "execution_count": 343,
   "metadata": {},
   "outputs": [
    {
     "data": {
      "text/plain": [
       "0      [42, 22, 20, 15, 30, 14, 26, 27, 14, 44, 34, 3...\n",
       "1      [57, 26, 17, 16, 22, 24, 22, 31, 31, 31, 8, 8,...\n",
       "2      [34, 29, 39, 21, 15, 19, 16, 25, 23, 12, 18, 2...\n",
       "3      [2, 33, 20, 44, 6, 50, 20, 5, 18, 23, 12, 15, ...\n",
       "4      [15, 28, 29, 16, 31, 24, 28, 11, 8, 7, 15, 19,...\n",
       "                             ...                        \n",
       "995    [19, 29, 24, 7, 10, 7, 31, 35, 22, 27, 19, 53,...\n",
       "996                 [18, 27, 36, 33, 13, 20, 22, 29, 32]\n",
       "997    [26, 22, 16, 25, 19, 18, 37, 21, 11, 9, 29, 13...\n",
       "998                                         [20, 22, 11]\n",
       "999           [15, 26, 27, 24, 4, 30, 12, 22, 21, 28, 6]\n",
       "Name: text, Length: 1000, dtype: object"
      ]
     },
     "execution_count": 343,
     "metadata": {},
     "output_type": "execute_result"
    }
   ],
   "source": [
    "len_train_text"
   ]
  },
  {
   "cell_type": "markdown",
   "metadata": {},
   "source": [
    "#### Sentence Position"
   ]
  },
  {
   "cell_type": "code",
   "execution_count": 29,
   "metadata": {},
   "outputs": [],
   "source": [
    "def position(text):\n",
    "    sen_pos = []\n",
    "    for i in range(len(text)):\n",
    "        sen_pos.append(i)\n",
    "    return sen_pos"
   ]
  },
  {
   "cell_type": "code",
   "execution_count": 341,
   "metadata": {},
   "outputs": [],
   "source": [
    "pos_train_text = train_text.apply(position)\n",
    "pos_valid_text = valid_text.apply(position)"
   ]
  },
  {
   "cell_type": "code",
   "execution_count": 342,
   "metadata": {
    "scrolled": true
   },
   "outputs": [
    {
     "data": {
      "text/plain": [
       "0      [0, 1, 2, 3, 4, 5, 6, 7, 8, 9, 10, 11, 12, 13,...\n",
       "1      [0, 1, 2, 3, 4, 5, 6, 7, 8, 9, 10, 11, 12, 13,...\n",
       "2      [0, 1, 2, 3, 4, 5, 6, 7, 8, 9, 10, 11, 12, 13,...\n",
       "3      [0, 1, 2, 3, 4, 5, 6, 7, 8, 9, 10, 11, 12, 13,...\n",
       "4      [0, 1, 2, 3, 4, 5, 6, 7, 8, 9, 10, 11, 12, 13,...\n",
       "                             ...                        \n",
       "995    [0, 1, 2, 3, 4, 5, 6, 7, 8, 9, 10, 11, 12, 13,...\n",
       "996                          [0, 1, 2, 3, 4, 5, 6, 7, 8]\n",
       "997    [0, 1, 2, 3, 4, 5, 6, 7, 8, 9, 10, 11, 12, 13,...\n",
       "998                                            [0, 1, 2]\n",
       "999                   [0, 1, 2, 3, 4, 5, 6, 7, 8, 9, 10]\n",
       "Name: text, Length: 1000, dtype: object"
      ]
     },
     "execution_count": 342,
     "metadata": {},
     "output_type": "execute_result"
    }
   ],
   "source": [
    "pos_train_text"
   ]
  },
  {
   "cell_type": "markdown",
   "metadata": {},
   "source": [
    "#### Similarity to Title"
   ]
  },
  {
   "cell_type": "code",
   "execution_count": 68,
   "metadata": {},
   "outputs": [],
   "source": [
    "from sklearn.metrics.pairwise import cosine_similarity"
   ]
  },
  {
   "cell_type": "code",
   "execution_count": 155,
   "metadata": {},
   "outputs": [],
   "source": [
    "def similarity(vectors, titles):\n",
    "    \n",
    "    similarities = []\n",
    "\n",
    "    for y in range(len(vectors)):\n",
    "        sim=[]\n",
    "        for i in vectors[y]:\n",
    "            sim.append(cosine_similarity(i.reshape(1,100), titles[y].reshape(1,100))[0,0])\n",
    "\n",
    "        similarities.append(sim)\n",
    "        \n",
    "    return similarities"
   ]
  },
  {
   "cell_type": "code",
   "execution_count": 181,
   "metadata": {},
   "outputs": [],
   "source": [
    "sim_train_text = similarity(train_text_vectors,train_title_vectors)\n",
    "sim_valid_text = similarity(valid_text_vectors,train_title_vectors)"
   ]
  },
  {
   "cell_type": "markdown",
   "metadata": {},
   "source": [
    "#### Class Labels"
   ]
  },
  {
   "cell_type": "code",
   "execution_count": 184,
   "metadata": {},
   "outputs": [],
   "source": [
    "from rouge import Rouge"
   ]
  },
  {
   "cell_type": "code",
   "execution_count": 350,
   "metadata": {},
   "outputs": [],
   "source": [
    "def label(text,summary):\n",
    "    rouge=Rouge()\n",
    "    \n",
    "    in_summary = []\n",
    "\n",
    "    for y in range(len(text)):\n",
    "        score=[]\n",
    "        for i in text[y]:\n",
    "            if len(i)<5:\n",
    "                score.append(0)\n",
    "            else:\n",
    "                score.append(rouge.get_scores(i, summary[y])[0]['rouge-1']['p'])\n",
    "\n",
    "        in_summary.append(score)\n",
    "        \n",
    "    return in_summary\n",
    "        "
   ]
  },
  {
   "cell_type": "code",
   "execution_count": 355,
   "metadata": {},
   "outputs": [],
   "source": [
    "in_summary_train_text = label(train_text,df_train['summary'])\n",
    "in_summary_valid_text = label(valid_text,df_valid['summary'])"
   ]
  },
  {
   "cell_type": "markdown",
   "metadata": {},
   "source": [
    "#### New Data"
   ]
  },
  {
   "cell_type": "code",
   "execution_count": 356,
   "metadata": {},
   "outputs": [],
   "source": [
    "in_summary_train_text_col = [i for y in in_summary_train_text for i in y]\n",
    "in_summary_valid_text_col = [i for y in in_summary_valid_text for i in y]\n",
    "\n",
    "sim_train_text_col = [i for y in sim_train_text for i in y]\n",
    "sim_valid_text_col = [i for y in sim_valid_text for i in y]\n",
    "\n",
    "pos_train_text_col = [i for y in list(pos_train_text) for i in y]\n",
    "pos_valid_text_col = [i for y in list(pos_valid_text) for i in y]\n",
    "\n",
    "len_train_text_col = [i for y in list(len_train_text) for i in y]\n",
    "len_valid_text_col = [i for y in list(len_valid_text) for i in y]\n",
    "\n",
    "train_text_vectors_col = ([i for y in train_text_vectors for i in y])\n",
    "valid_text_vectors_col = ([i for y in valid_text_vectors for i in y])"
   ]
  },
  {
   "cell_type": "code",
   "execution_count": 371,
   "metadata": {},
   "outputs": [],
   "source": [
    "my_df = pd.concat([pd.DataFrame(train_text_vectors_col),\n",
    "          pd.DataFrame({'Similarity to Title':sim_train_text_col, \n",
    "                        'Position':pos_train_text_col, \n",
    "                        'Length':len_train_text_col}),pd.DataFrame(in_summary_train_text_col,columns=['In Summary'])], axis=1)"
   ]
  },
  {
   "cell_type": "code",
   "execution_count": 403,
   "metadata": {},
   "outputs": [],
   "source": [
    "my_df['In Summary'] = np.where(my_df['In Summary']>0.9,1,0)"
   ]
  },
  {
   "cell_type": "code",
   "execution_count": 413,
   "metadata": {},
   "outputs": [
    {
     "data": {
      "text/html": [
       "<div>\n",
       "<style scoped>\n",
       "    .dataframe tbody tr th:only-of-type {\n",
       "        vertical-align: middle;\n",
       "    }\n",
       "\n",
       "    .dataframe tbody tr th {\n",
       "        vertical-align: top;\n",
       "    }\n",
       "\n",
       "    .dataframe thead th {\n",
       "        text-align: right;\n",
       "    }\n",
       "</style>\n",
       "<table border=\"1\" class=\"dataframe\">\n",
       "  <thead>\n",
       "    <tr style=\"text-align: right;\">\n",
       "      <th></th>\n",
       "      <th>0</th>\n",
       "      <th>1</th>\n",
       "      <th>2</th>\n",
       "      <th>3</th>\n",
       "      <th>4</th>\n",
       "      <th>5</th>\n",
       "      <th>6</th>\n",
       "      <th>7</th>\n",
       "      <th>8</th>\n",
       "      <th>9</th>\n",
       "      <th>...</th>\n",
       "      <th>94</th>\n",
       "      <th>95</th>\n",
       "      <th>96</th>\n",
       "      <th>97</th>\n",
       "      <th>98</th>\n",
       "      <th>99</th>\n",
       "      <th>Similarity to Title</th>\n",
       "      <th>Position</th>\n",
       "      <th>Length</th>\n",
       "      <th>In Summary</th>\n",
       "    </tr>\n",
       "  </thead>\n",
       "  <tbody>\n",
       "    <tr>\n",
       "      <th>0</th>\n",
       "      <td>0.239452</td>\n",
       "      <td>0.102734</td>\n",
       "      <td>0.234894</td>\n",
       "      <td>-0.174725</td>\n",
       "      <td>-0.094059</td>\n",
       "      <td>0.274650</td>\n",
       "      <td>-0.023559</td>\n",
       "      <td>0.083373</td>\n",
       "      <td>-0.195346</td>\n",
       "      <td>0.040556</td>\n",
       "      <td>...</td>\n",
       "      <td>-0.096880</td>\n",
       "      <td>0.089614</td>\n",
       "      <td>-0.216621</td>\n",
       "      <td>0.240772</td>\n",
       "      <td>0.414017</td>\n",
       "      <td>0.003118</td>\n",
       "      <td>0.767189</td>\n",
       "      <td>0</td>\n",
       "      <td>42</td>\n",
       "      <td>0</td>\n",
       "    </tr>\n",
       "    <tr>\n",
       "      <th>1</th>\n",
       "      <td>0.022374</td>\n",
       "      <td>0.141280</td>\n",
       "      <td>-0.054070</td>\n",
       "      <td>-0.185928</td>\n",
       "      <td>-0.120961</td>\n",
       "      <td>0.297998</td>\n",
       "      <td>-0.024292</td>\n",
       "      <td>0.004567</td>\n",
       "      <td>-0.346148</td>\n",
       "      <td>0.221510</td>\n",
       "      <td>...</td>\n",
       "      <td>0.086314</td>\n",
       "      <td>-0.322175</td>\n",
       "      <td>-0.243045</td>\n",
       "      <td>-0.134423</td>\n",
       "      <td>0.120316</td>\n",
       "      <td>0.040390</td>\n",
       "      <td>0.544521</td>\n",
       "      <td>1</td>\n",
       "      <td>22</td>\n",
       "      <td>0</td>\n",
       "    </tr>\n",
       "    <tr>\n",
       "      <th>2</th>\n",
       "      <td>0.173180</td>\n",
       "      <td>0.120016</td>\n",
       "      <td>0.263398</td>\n",
       "      <td>-0.440565</td>\n",
       "      <td>0.002002</td>\n",
       "      <td>0.442076</td>\n",
       "      <td>0.005097</td>\n",
       "      <td>-0.016193</td>\n",
       "      <td>-0.109340</td>\n",
       "      <td>0.181097</td>\n",
       "      <td>...</td>\n",
       "      <td>-0.314783</td>\n",
       "      <td>-0.037334</td>\n",
       "      <td>-0.439217</td>\n",
       "      <td>0.185970</td>\n",
       "      <td>0.318253</td>\n",
       "      <td>-0.057048</td>\n",
       "      <td>0.675835</td>\n",
       "      <td>2</td>\n",
       "      <td>20</td>\n",
       "      <td>0</td>\n",
       "    </tr>\n",
       "    <tr>\n",
       "      <th>3</th>\n",
       "      <td>0.348962</td>\n",
       "      <td>-0.081873</td>\n",
       "      <td>0.063947</td>\n",
       "      <td>-0.059132</td>\n",
       "      <td>-0.094934</td>\n",
       "      <td>0.358266</td>\n",
       "      <td>0.165770</td>\n",
       "      <td>0.080942</td>\n",
       "      <td>-0.387012</td>\n",
       "      <td>0.184246</td>\n",
       "      <td>...</td>\n",
       "      <td>-0.307370</td>\n",
       "      <td>-0.056792</td>\n",
       "      <td>0.130049</td>\n",
       "      <td>0.167090</td>\n",
       "      <td>0.072156</td>\n",
       "      <td>-0.029804</td>\n",
       "      <td>0.599547</td>\n",
       "      <td>3</td>\n",
       "      <td>15</td>\n",
       "      <td>0</td>\n",
       "    </tr>\n",
       "    <tr>\n",
       "      <th>4</th>\n",
       "      <td>-0.058527</td>\n",
       "      <td>0.035508</td>\n",
       "      <td>0.106890</td>\n",
       "      <td>-0.275538</td>\n",
       "      <td>0.095127</td>\n",
       "      <td>-0.029855</td>\n",
       "      <td>0.117304</td>\n",
       "      <td>0.233706</td>\n",
       "      <td>-0.343617</td>\n",
       "      <td>-0.127908</td>\n",
       "      <td>...</td>\n",
       "      <td>-0.249230</td>\n",
       "      <td>0.183363</td>\n",
       "      <td>-0.306471</td>\n",
       "      <td>-0.098800</td>\n",
       "      <td>0.535119</td>\n",
       "      <td>0.209117</td>\n",
       "      <td>0.732753</td>\n",
       "      <td>4</td>\n",
       "      <td>30</td>\n",
       "      <td>0</td>\n",
       "    </tr>\n",
       "  </tbody>\n",
       "</table>\n",
       "<p>5 rows × 104 columns</p>\n",
       "</div>"
      ],
      "text/plain": [
       "          0         1         2         3         4         5         6  \\\n",
       "0  0.239452  0.102734  0.234894 -0.174725 -0.094059  0.274650 -0.023559   \n",
       "1  0.022374  0.141280 -0.054070 -0.185928 -0.120961  0.297998 -0.024292   \n",
       "2  0.173180  0.120016  0.263398 -0.440565  0.002002  0.442076  0.005097   \n",
       "3  0.348962 -0.081873  0.063947 -0.059132 -0.094934  0.358266  0.165770   \n",
       "4 -0.058527  0.035508  0.106890 -0.275538  0.095127 -0.029855  0.117304   \n",
       "\n",
       "          7         8         9  ...        94        95        96        97  \\\n",
       "0  0.083373 -0.195346  0.040556  ... -0.096880  0.089614 -0.216621  0.240772   \n",
       "1  0.004567 -0.346148  0.221510  ...  0.086314 -0.322175 -0.243045 -0.134423   \n",
       "2 -0.016193 -0.109340  0.181097  ... -0.314783 -0.037334 -0.439217  0.185970   \n",
       "3  0.080942 -0.387012  0.184246  ... -0.307370 -0.056792  0.130049  0.167090   \n",
       "4  0.233706 -0.343617 -0.127908  ... -0.249230  0.183363 -0.306471 -0.098800   \n",
       "\n",
       "         98        99  Similarity to Title  Position  Length  In Summary  \n",
       "0  0.414017  0.003118             0.767189         0      42           0  \n",
       "1  0.120316  0.040390             0.544521         1      22           0  \n",
       "2  0.318253 -0.057048             0.675835         2      20           0  \n",
       "3  0.072156 -0.029804             0.599547         3      15           0  \n",
       "4  0.535119  0.209117             0.732753         4      30           0  \n",
       "\n",
       "[5 rows x 104 columns]"
      ]
     },
     "execution_count": 413,
     "metadata": {},
     "output_type": "execute_result"
    }
   ],
   "source": [
    "my_df.head()"
   ]
  },
  {
   "cell_type": "markdown",
   "metadata": {},
   "source": [
    "#### Balance Classes"
   ]
  },
  {
   "cell_type": "code",
   "execution_count": 623,
   "metadata": {},
   "outputs": [],
   "source": [
    "class0 = my_df[my_df['In Summary']==0]"
   ]
  },
  {
   "cell_type": "code",
   "execution_count": 626,
   "metadata": {},
   "outputs": [
    {
     "data": {
      "text/plain": [
       "(27054, 104)"
      ]
     },
     "execution_count": 626,
     "metadata": {},
     "output_type": "execute_result"
    }
   ],
   "source": [
    "class0.shape"
   ]
  },
  {
   "cell_type": "code",
   "execution_count": 624,
   "metadata": {},
   "outputs": [],
   "source": [
    "class1 = my_df[my_df['In Summary']==1]"
   ]
  },
  {
   "cell_type": "code",
   "execution_count": 627,
   "metadata": {},
   "outputs": [
    {
     "data": {
      "text/plain": [
       "(775, 104)"
      ]
     },
     "execution_count": 627,
     "metadata": {},
     "output_type": "execute_result"
    }
   ],
   "source": [
    "class1.shape"
   ]
  },
  {
   "cell_type": "code",
   "execution_count": 593,
   "metadata": {},
   "outputs": [
    {
     "data": {
      "text/plain": [
       "775"
      ]
     },
     "execution_count": 593,
     "metadata": {},
     "output_type": "execute_result"
    }
   ],
   "source": [
    "n_class1 = len(np.where(my_df['In Summary']==1)[0])\n",
    "n_class1"
   ]
  },
  {
   "cell_type": "code",
   "execution_count": 597,
   "metadata": {},
   "outputs": [],
   "source": [
    "i_class0 = np.random.choice(class0.index,size=n_class1, replace=False)"
   ]
  },
  {
   "cell_type": "code",
   "execution_count": 618,
   "metadata": {},
   "outputs": [],
   "source": [
    "class0_downsampled = class0[class0.index.isin(list(i_class0))]"
   ]
  },
  {
   "cell_type": "code",
   "execution_count": 658,
   "metadata": {},
   "outputs": [
    {
     "data": {
      "text/plain": [
       "(775, 104)"
      ]
     },
     "execution_count": 658,
     "metadata": {},
     "output_type": "execute_result"
    }
   ],
   "source": [
    "class0_downsampled.shape"
   ]
  },
  {
   "cell_type": "code",
   "execution_count": 628,
   "metadata": {},
   "outputs": [],
   "source": [
    "new_df = pd.concat([class0_downsampled,class1],axis=0)"
   ]
  },
  {
   "cell_type": "code",
   "execution_count": 630,
   "metadata": {},
   "outputs": [
    {
     "data": {
      "text/html": [
       "<div>\n",
       "<style scoped>\n",
       "    .dataframe tbody tr th:only-of-type {\n",
       "        vertical-align: middle;\n",
       "    }\n",
       "\n",
       "    .dataframe tbody tr th {\n",
       "        vertical-align: top;\n",
       "    }\n",
       "\n",
       "    .dataframe thead th {\n",
       "        text-align: right;\n",
       "    }\n",
       "</style>\n",
       "<table border=\"1\" class=\"dataframe\">\n",
       "  <thead>\n",
       "    <tr style=\"text-align: right;\">\n",
       "      <th></th>\n",
       "      <th>0</th>\n",
       "      <th>1</th>\n",
       "      <th>2</th>\n",
       "      <th>3</th>\n",
       "      <th>4</th>\n",
       "      <th>5</th>\n",
       "      <th>6</th>\n",
       "      <th>7</th>\n",
       "      <th>8</th>\n",
       "      <th>9</th>\n",
       "      <th>...</th>\n",
       "      <th>94</th>\n",
       "      <th>95</th>\n",
       "      <th>96</th>\n",
       "      <th>97</th>\n",
       "      <th>98</th>\n",
       "      <th>99</th>\n",
       "      <th>Similarity to Title</th>\n",
       "      <th>Position</th>\n",
       "      <th>Length</th>\n",
       "      <th>In Summary</th>\n",
       "    </tr>\n",
       "  </thead>\n",
       "  <tbody>\n",
       "    <tr>\n",
       "      <th>10</th>\n",
       "      <td>0.074906</td>\n",
       "      <td>0.185542</td>\n",
       "      <td>0.311369</td>\n",
       "      <td>-0.034327</td>\n",
       "      <td>-0.051063</td>\n",
       "      <td>0.002670</td>\n",
       "      <td>-0.139215</td>\n",
       "      <td>0.376787</td>\n",
       "      <td>-0.150800</td>\n",
       "      <td>-0.027170</td>\n",
       "      <td>...</td>\n",
       "      <td>-0.053508</td>\n",
       "      <td>0.043440</td>\n",
       "      <td>-0.068108</td>\n",
       "      <td>0.087679</td>\n",
       "      <td>0.507870</td>\n",
       "      <td>0.227943</td>\n",
       "      <td>0.852771</td>\n",
       "      <td>10</td>\n",
       "      <td>34</td>\n",
       "      <td>0</td>\n",
       "    </tr>\n",
       "    <tr>\n",
       "      <th>18</th>\n",
       "      <td>-0.050202</td>\n",
       "      <td>0.488015</td>\n",
       "      <td>0.654801</td>\n",
       "      <td>-0.018602</td>\n",
       "      <td>-0.011405</td>\n",
       "      <td>-0.526450</td>\n",
       "      <td>-0.463120</td>\n",
       "      <td>-0.009224</td>\n",
       "      <td>0.295295</td>\n",
       "      <td>0.216747</td>\n",
       "      <td>...</td>\n",
       "      <td>-0.426254</td>\n",
       "      <td>0.211245</td>\n",
       "      <td>-0.035945</td>\n",
       "      <td>-0.079693</td>\n",
       "      <td>0.528161</td>\n",
       "      <td>0.050930</td>\n",
       "      <td>0.730846</td>\n",
       "      <td>18</td>\n",
       "      <td>10</td>\n",
       "      <td>0</td>\n",
       "    </tr>\n",
       "    <tr>\n",
       "      <th>48</th>\n",
       "      <td>-0.054492</td>\n",
       "      <td>0.206381</td>\n",
       "      <td>0.374167</td>\n",
       "      <td>-0.177233</td>\n",
       "      <td>-0.264491</td>\n",
       "      <td>0.169466</td>\n",
       "      <td>0.153305</td>\n",
       "      <td>0.312180</td>\n",
       "      <td>-0.329821</td>\n",
       "      <td>-0.171801</td>\n",
       "      <td>...</td>\n",
       "      <td>-0.212476</td>\n",
       "      <td>-0.094316</td>\n",
       "      <td>-0.222409</td>\n",
       "      <td>0.295452</td>\n",
       "      <td>0.245344</td>\n",
       "      <td>-0.050410</td>\n",
       "      <td>0.705852</td>\n",
       "      <td>48</td>\n",
       "      <td>34</td>\n",
       "      <td>0</td>\n",
       "    </tr>\n",
       "    <tr>\n",
       "      <th>76</th>\n",
       "      <td>0.180674</td>\n",
       "      <td>0.160564</td>\n",
       "      <td>0.461879</td>\n",
       "      <td>-0.505835</td>\n",
       "      <td>-0.568045</td>\n",
       "      <td>0.245144</td>\n",
       "      <td>0.175489</td>\n",
       "      <td>0.072469</td>\n",
       "      <td>-0.405293</td>\n",
       "      <td>-0.116369</td>\n",
       "      <td>...</td>\n",
       "      <td>-0.244398</td>\n",
       "      <td>-0.070404</td>\n",
       "      <td>-0.615180</td>\n",
       "      <td>0.190576</td>\n",
       "      <td>0.595807</td>\n",
       "      <td>0.187279</td>\n",
       "      <td>0.771176</td>\n",
       "      <td>76</td>\n",
       "      <td>22</td>\n",
       "      <td>0</td>\n",
       "    </tr>\n",
       "    <tr>\n",
       "      <th>80</th>\n",
       "      <td>0.112230</td>\n",
       "      <td>0.225882</td>\n",
       "      <td>0.267178</td>\n",
       "      <td>-0.297055</td>\n",
       "      <td>-0.233583</td>\n",
       "      <td>0.206699</td>\n",
       "      <td>-0.281025</td>\n",
       "      <td>-0.151438</td>\n",
       "      <td>0.192379</td>\n",
       "      <td>0.066182</td>\n",
       "      <td>...</td>\n",
       "      <td>-0.269609</td>\n",
       "      <td>-0.058405</td>\n",
       "      <td>-0.342235</td>\n",
       "      <td>-0.192893</td>\n",
       "      <td>0.349100</td>\n",
       "      <td>0.118655</td>\n",
       "      <td>0.726330</td>\n",
       "      <td>80</td>\n",
       "      <td>17</td>\n",
       "      <td>0</td>\n",
       "    </tr>\n",
       "    <tr>\n",
       "      <th>...</th>\n",
       "      <td>...</td>\n",
       "      <td>...</td>\n",
       "      <td>...</td>\n",
       "      <td>...</td>\n",
       "      <td>...</td>\n",
       "      <td>...</td>\n",
       "      <td>...</td>\n",
       "      <td>...</td>\n",
       "      <td>...</td>\n",
       "      <td>...</td>\n",
       "      <td>...</td>\n",
       "      <td>...</td>\n",
       "      <td>...</td>\n",
       "      <td>...</td>\n",
       "      <td>...</td>\n",
       "      <td>...</td>\n",
       "      <td>...</td>\n",
       "      <td>...</td>\n",
       "      <td>...</td>\n",
       "      <td>...</td>\n",
       "      <td>...</td>\n",
       "    </tr>\n",
       "    <tr>\n",
       "      <th>26459</th>\n",
       "      <td>-0.163269</td>\n",
       "      <td>0.261137</td>\n",
       "      <td>0.187675</td>\n",
       "      <td>0.110712</td>\n",
       "      <td>0.840690</td>\n",
       "      <td>-0.166245</td>\n",
       "      <td>-0.189380</td>\n",
       "      <td>-0.195671</td>\n",
       "      <td>0.051417</td>\n",
       "      <td>-0.169552</td>\n",
       "      <td>...</td>\n",
       "      <td>-0.254609</td>\n",
       "      <td>0.010997</td>\n",
       "      <td>-0.528458</td>\n",
       "      <td>-0.317548</td>\n",
       "      <td>0.747351</td>\n",
       "      <td>0.555841</td>\n",
       "      <td>0.600734</td>\n",
       "      <td>7</td>\n",
       "      <td>9</td>\n",
       "      <td>1</td>\n",
       "    </tr>\n",
       "    <tr>\n",
       "      <th>26558</th>\n",
       "      <td>0.233518</td>\n",
       "      <td>0.289886</td>\n",
       "      <td>0.513732</td>\n",
       "      <td>0.020199</td>\n",
       "      <td>0.190478</td>\n",
       "      <td>-0.408414</td>\n",
       "      <td>-0.520298</td>\n",
       "      <td>-0.235144</td>\n",
       "      <td>0.167928</td>\n",
       "      <td>-0.336443</td>\n",
       "      <td>...</td>\n",
       "      <td>-0.416769</td>\n",
       "      <td>0.318817</td>\n",
       "      <td>0.074318</td>\n",
       "      <td>-0.276024</td>\n",
       "      <td>0.356413</td>\n",
       "      <td>0.225855</td>\n",
       "      <td>0.922571</td>\n",
       "      <td>0</td>\n",
       "      <td>28</td>\n",
       "      <td>1</td>\n",
       "    </tr>\n",
       "    <tr>\n",
       "      <th>27478</th>\n",
       "      <td>-0.064920</td>\n",
       "      <td>0.045588</td>\n",
       "      <td>0.539306</td>\n",
       "      <td>-0.311142</td>\n",
       "      <td>-0.026253</td>\n",
       "      <td>0.150301</td>\n",
       "      <td>-0.030516</td>\n",
       "      <td>0.417975</td>\n",
       "      <td>-0.401870</td>\n",
       "      <td>-0.219391</td>\n",
       "      <td>...</td>\n",
       "      <td>-0.487857</td>\n",
       "      <td>0.286313</td>\n",
       "      <td>-0.714556</td>\n",
       "      <td>0.132415</td>\n",
       "      <td>0.286938</td>\n",
       "      <td>-0.062167</td>\n",
       "      <td>0.914927</td>\n",
       "      <td>0</td>\n",
       "      <td>19</td>\n",
       "      <td>1</td>\n",
       "    </tr>\n",
       "    <tr>\n",
       "      <th>27622</th>\n",
       "      <td>-0.028879</td>\n",
       "      <td>0.035511</td>\n",
       "      <td>0.260401</td>\n",
       "      <td>-0.361276</td>\n",
       "      <td>-0.062420</td>\n",
       "      <td>0.178567</td>\n",
       "      <td>-0.404003</td>\n",
       "      <td>0.135973</td>\n",
       "      <td>0.064718</td>\n",
       "      <td>-0.090565</td>\n",
       "      <td>...</td>\n",
       "      <td>-0.201027</td>\n",
       "      <td>0.279950</td>\n",
       "      <td>-0.107136</td>\n",
       "      <td>0.016070</td>\n",
       "      <td>0.249026</td>\n",
       "      <td>0.044974</td>\n",
       "      <td>0.840404</td>\n",
       "      <td>1</td>\n",
       "      <td>32</td>\n",
       "      <td>1</td>\n",
       "    </tr>\n",
       "    <tr>\n",
       "      <th>27819</th>\n",
       "      <td>0.195495</td>\n",
       "      <td>-0.174051</td>\n",
       "      <td>0.076916</td>\n",
       "      <td>-0.209569</td>\n",
       "      <td>0.336195</td>\n",
       "      <td>0.314154</td>\n",
       "      <td>-0.158411</td>\n",
       "      <td>0.083891</td>\n",
       "      <td>-0.229926</td>\n",
       "      <td>0.263954</td>\n",
       "      <td>...</td>\n",
       "      <td>-0.283147</td>\n",
       "      <td>0.120971</td>\n",
       "      <td>0.181705</td>\n",
       "      <td>-0.178166</td>\n",
       "      <td>0.494305</td>\n",
       "      <td>-0.240958</td>\n",
       "      <td>0.962672</td>\n",
       "      <td>1</td>\n",
       "      <td>26</td>\n",
       "      <td>1</td>\n",
       "    </tr>\n",
       "  </tbody>\n",
       "</table>\n",
       "<p>1550 rows × 104 columns</p>\n",
       "</div>"
      ],
      "text/plain": [
       "              0         1         2         3         4         5         6  \\\n",
       "10     0.074906  0.185542  0.311369 -0.034327 -0.051063  0.002670 -0.139215   \n",
       "18    -0.050202  0.488015  0.654801 -0.018602 -0.011405 -0.526450 -0.463120   \n",
       "48    -0.054492  0.206381  0.374167 -0.177233 -0.264491  0.169466  0.153305   \n",
       "76     0.180674  0.160564  0.461879 -0.505835 -0.568045  0.245144  0.175489   \n",
       "80     0.112230  0.225882  0.267178 -0.297055 -0.233583  0.206699 -0.281025   \n",
       "...         ...       ...       ...       ...       ...       ...       ...   \n",
       "26459 -0.163269  0.261137  0.187675  0.110712  0.840690 -0.166245 -0.189380   \n",
       "26558  0.233518  0.289886  0.513732  0.020199  0.190478 -0.408414 -0.520298   \n",
       "27478 -0.064920  0.045588  0.539306 -0.311142 -0.026253  0.150301 -0.030516   \n",
       "27622 -0.028879  0.035511  0.260401 -0.361276 -0.062420  0.178567 -0.404003   \n",
       "27819  0.195495 -0.174051  0.076916 -0.209569  0.336195  0.314154 -0.158411   \n",
       "\n",
       "              7         8         9  ...        94        95        96  \\\n",
       "10     0.376787 -0.150800 -0.027170  ... -0.053508  0.043440 -0.068108   \n",
       "18    -0.009224  0.295295  0.216747  ... -0.426254  0.211245 -0.035945   \n",
       "48     0.312180 -0.329821 -0.171801  ... -0.212476 -0.094316 -0.222409   \n",
       "76     0.072469 -0.405293 -0.116369  ... -0.244398 -0.070404 -0.615180   \n",
       "80    -0.151438  0.192379  0.066182  ... -0.269609 -0.058405 -0.342235   \n",
       "...         ...       ...       ...  ...       ...       ...       ...   \n",
       "26459 -0.195671  0.051417 -0.169552  ... -0.254609  0.010997 -0.528458   \n",
       "26558 -0.235144  0.167928 -0.336443  ... -0.416769  0.318817  0.074318   \n",
       "27478  0.417975 -0.401870 -0.219391  ... -0.487857  0.286313 -0.714556   \n",
       "27622  0.135973  0.064718 -0.090565  ... -0.201027  0.279950 -0.107136   \n",
       "27819  0.083891 -0.229926  0.263954  ... -0.283147  0.120971  0.181705   \n",
       "\n",
       "             97        98        99  Similarity to Title  Position  Length  \\\n",
       "10     0.087679  0.507870  0.227943             0.852771        10      34   \n",
       "18    -0.079693  0.528161  0.050930             0.730846        18      10   \n",
       "48     0.295452  0.245344 -0.050410             0.705852        48      34   \n",
       "76     0.190576  0.595807  0.187279             0.771176        76      22   \n",
       "80    -0.192893  0.349100  0.118655             0.726330        80      17   \n",
       "...         ...       ...       ...                  ...       ...     ...   \n",
       "26459 -0.317548  0.747351  0.555841             0.600734         7       9   \n",
       "26558 -0.276024  0.356413  0.225855             0.922571         0      28   \n",
       "27478  0.132415  0.286938 -0.062167             0.914927         0      19   \n",
       "27622  0.016070  0.249026  0.044974             0.840404         1      32   \n",
       "27819 -0.178166  0.494305 -0.240958             0.962672         1      26   \n",
       "\n",
       "       In Summary  \n",
       "10              0  \n",
       "18              0  \n",
       "48              0  \n",
       "76              0  \n",
       "80              0  \n",
       "...           ...  \n",
       "26459           1  \n",
       "26558           1  \n",
       "27478           1  \n",
       "27622           1  \n",
       "27819           1  \n",
       "\n",
       "[1550 rows x 104 columns]"
      ]
     },
     "execution_count": 630,
     "metadata": {},
     "output_type": "execute_result"
    }
   ],
   "source": [
    "new_df"
   ]
  },
  {
   "cell_type": "markdown",
   "metadata": {},
   "source": [
    "#### Classification"
   ]
  },
  {
   "cell_type": "code",
   "execution_count": 631,
   "metadata": {},
   "outputs": [],
   "source": [
    "X = new_df.drop('In Summary',axis=1)"
   ]
  },
  {
   "cell_type": "code",
   "execution_count": 632,
   "metadata": {},
   "outputs": [],
   "source": [
    "y = new_df['In Summary']"
   ]
  },
  {
   "cell_type": "code",
   "execution_count": 525,
   "metadata": {},
   "outputs": [],
   "source": [
    "from sklearn.linear_model import LogisticRegression"
   ]
  },
  {
   "cell_type": "code",
   "execution_count": 633,
   "metadata": {},
   "outputs": [
    {
     "data": {
      "text/plain": [
       "LogisticRegression(max_iter=1000)"
      ]
     },
     "execution_count": 633,
     "metadata": {},
     "output_type": "execute_result"
    }
   ],
   "source": [
    "lr_model = LogisticRegression(max_iter=1000)\n",
    "lr_model.fit(X,y)"
   ]
  },
  {
   "cell_type": "code",
   "execution_count": 634,
   "metadata": {},
   "outputs": [
    {
     "data": {
      "text/plain": [
       "0.7806451612903226"
      ]
     },
     "execution_count": 634,
     "metadata": {},
     "output_type": "execute_result"
    }
   ],
   "source": [
    "lr_model.score(X,y)"
   ]
  },
  {
   "cell_type": "code",
   "execution_count": 635,
   "metadata": {},
   "outputs": [],
   "source": [
    "v_df = pd.concat([pd.DataFrame(valid_text_vectors_col),\n",
    "          pd.DataFrame({'Similarity to Title':sim_valid_text_col, \n",
    "                        'Position':pos_valid_text_col, \n",
    "                        'Length':len_valid_text_col}),pd.DataFrame(in_summary_valid_text_col,columns=['In Summary'])], axis=1)"
   ]
  },
  {
   "cell_type": "code",
   "execution_count": 636,
   "metadata": {},
   "outputs": [],
   "source": [
    "v_df['In Summary'] = np.where(v_df['In Summary']>0.9,1,0)"
   ]
  },
  {
   "cell_type": "code",
   "execution_count": 638,
   "metadata": {},
   "outputs": [
    {
     "data": {
      "text/html": [
       "<div>\n",
       "<style scoped>\n",
       "    .dataframe tbody tr th:only-of-type {\n",
       "        vertical-align: middle;\n",
       "    }\n",
       "\n",
       "    .dataframe tbody tr th {\n",
       "        vertical-align: top;\n",
       "    }\n",
       "\n",
       "    .dataframe thead th {\n",
       "        text-align: right;\n",
       "    }\n",
       "</style>\n",
       "<table border=\"1\" class=\"dataframe\">\n",
       "  <thead>\n",
       "    <tr style=\"text-align: right;\">\n",
       "      <th></th>\n",
       "      <th>0</th>\n",
       "      <th>1</th>\n",
       "      <th>2</th>\n",
       "      <th>3</th>\n",
       "      <th>4</th>\n",
       "      <th>5</th>\n",
       "      <th>6</th>\n",
       "      <th>7</th>\n",
       "      <th>8</th>\n",
       "      <th>9</th>\n",
       "      <th>...</th>\n",
       "      <th>94</th>\n",
       "      <th>95</th>\n",
       "      <th>96</th>\n",
       "      <th>97</th>\n",
       "      <th>98</th>\n",
       "      <th>99</th>\n",
       "      <th>Similarity to Title</th>\n",
       "      <th>Position</th>\n",
       "      <th>Length</th>\n",
       "      <th>In Summary</th>\n",
       "    </tr>\n",
       "  </thead>\n",
       "  <tbody>\n",
       "    <tr>\n",
       "      <th>0</th>\n",
       "      <td>-0.147195</td>\n",
       "      <td>0.058697</td>\n",
       "      <td>0.197094</td>\n",
       "      <td>-0.391006</td>\n",
       "      <td>-0.077530</td>\n",
       "      <td>-0.096007</td>\n",
       "      <td>-0.111803</td>\n",
       "      <td>0.057422</td>\n",
       "      <td>-0.152720</td>\n",
       "      <td>-0.342601</td>\n",
       "      <td>...</td>\n",
       "      <td>0.064607</td>\n",
       "      <td>0.075356</td>\n",
       "      <td>-0.138610</td>\n",
       "      <td>-0.155694</td>\n",
       "      <td>-0.130958</td>\n",
       "      <td>-0.171777</td>\n",
       "      <td>0.388653</td>\n",
       "      <td>0</td>\n",
       "      <td>7</td>\n",
       "      <td>0</td>\n",
       "    </tr>\n",
       "    <tr>\n",
       "      <th>1</th>\n",
       "      <td>-0.050732</td>\n",
       "      <td>0.140445</td>\n",
       "      <td>0.114130</td>\n",
       "      <td>0.039059</td>\n",
       "      <td>-0.041864</td>\n",
       "      <td>-0.000104</td>\n",
       "      <td>0.151305</td>\n",
       "      <td>0.287705</td>\n",
       "      <td>-0.352697</td>\n",
       "      <td>-0.174999</td>\n",
       "      <td>...</td>\n",
       "      <td>-0.457553</td>\n",
       "      <td>0.126135</td>\n",
       "      <td>-0.134282</td>\n",
       "      <td>0.124213</td>\n",
       "      <td>0.442941</td>\n",
       "      <td>0.063086</td>\n",
       "      <td>0.700639</td>\n",
       "      <td>1</td>\n",
       "      <td>14</td>\n",
       "      <td>0</td>\n",
       "    </tr>\n",
       "    <tr>\n",
       "      <th>2</th>\n",
       "      <td>0.104622</td>\n",
       "      <td>-0.068349</td>\n",
       "      <td>0.077994</td>\n",
       "      <td>-0.905276</td>\n",
       "      <td>0.071093</td>\n",
       "      <td>0.130177</td>\n",
       "      <td>0.158481</td>\n",
       "      <td>-0.005478</td>\n",
       "      <td>-0.501226</td>\n",
       "      <td>-0.305931</td>\n",
       "      <td>...</td>\n",
       "      <td>-0.411556</td>\n",
       "      <td>-0.043711</td>\n",
       "      <td>-0.304587</td>\n",
       "      <td>0.479707</td>\n",
       "      <td>-0.202459</td>\n",
       "      <td>-0.451889</td>\n",
       "      <td>0.470873</td>\n",
       "      <td>2</td>\n",
       "      <td>6</td>\n",
       "      <td>0</td>\n",
       "    </tr>\n",
       "    <tr>\n",
       "      <th>3</th>\n",
       "      <td>0.088158</td>\n",
       "      <td>0.187424</td>\n",
       "      <td>0.008872</td>\n",
       "      <td>-0.357629</td>\n",
       "      <td>0.011294</td>\n",
       "      <td>0.021502</td>\n",
       "      <td>0.192081</td>\n",
       "      <td>-0.179269</td>\n",
       "      <td>-0.345802</td>\n",
       "      <td>-0.115559</td>\n",
       "      <td>...</td>\n",
       "      <td>-0.326949</td>\n",
       "      <td>0.049975</td>\n",
       "      <td>-0.108660</td>\n",
       "      <td>0.157335</td>\n",
       "      <td>0.096037</td>\n",
       "      <td>-0.265299</td>\n",
       "      <td>0.627928</td>\n",
       "      <td>3</td>\n",
       "      <td>18</td>\n",
       "      <td>0</td>\n",
       "    </tr>\n",
       "    <tr>\n",
       "      <th>4</th>\n",
       "      <td>0.388557</td>\n",
       "      <td>-0.281953</td>\n",
       "      <td>0.284575</td>\n",
       "      <td>0.020760</td>\n",
       "      <td>-0.077275</td>\n",
       "      <td>0.102943</td>\n",
       "      <td>0.148672</td>\n",
       "      <td>0.079824</td>\n",
       "      <td>-0.265058</td>\n",
       "      <td>-0.100422</td>\n",
       "      <td>...</td>\n",
       "      <td>-0.043637</td>\n",
       "      <td>-0.018850</td>\n",
       "      <td>-0.240565</td>\n",
       "      <td>0.108263</td>\n",
       "      <td>0.378435</td>\n",
       "      <td>-0.182465</td>\n",
       "      <td>0.412759</td>\n",
       "      <td>4</td>\n",
       "      <td>14</td>\n",
       "      <td>0</td>\n",
       "    </tr>\n",
       "    <tr>\n",
       "      <th>...</th>\n",
       "      <td>...</td>\n",
       "      <td>...</td>\n",
       "      <td>...</td>\n",
       "      <td>...</td>\n",
       "      <td>...</td>\n",
       "      <td>...</td>\n",
       "      <td>...</td>\n",
       "      <td>...</td>\n",
       "      <td>...</td>\n",
       "      <td>...</td>\n",
       "      <td>...</td>\n",
       "      <td>...</td>\n",
       "      <td>...</td>\n",
       "      <td>...</td>\n",
       "      <td>...</td>\n",
       "      <td>...</td>\n",
       "      <td>...</td>\n",
       "      <td>...</td>\n",
       "      <td>...</td>\n",
       "      <td>...</td>\n",
       "      <td>...</td>\n",
       "    </tr>\n",
       "    <tr>\n",
       "      <th>7472</th>\n",
       "      <td>-0.114656</td>\n",
       "      <td>0.163457</td>\n",
       "      <td>0.115069</td>\n",
       "      <td>-0.013123</td>\n",
       "      <td>0.013347</td>\n",
       "      <td>-0.217296</td>\n",
       "      <td>-0.358950</td>\n",
       "      <td>-0.064686</td>\n",
       "      <td>-0.000484</td>\n",
       "      <td>-0.013765</td>\n",
       "      <td>...</td>\n",
       "      <td>-0.254152</td>\n",
       "      <td>0.019300</td>\n",
       "      <td>0.211670</td>\n",
       "      <td>-0.181688</td>\n",
       "      <td>0.459916</td>\n",
       "      <td>0.276414</td>\n",
       "      <td>0.718127</td>\n",
       "      <td>2</td>\n",
       "      <td>30</td>\n",
       "      <td>0</td>\n",
       "    </tr>\n",
       "    <tr>\n",
       "      <th>7473</th>\n",
       "      <td>0.020281</td>\n",
       "      <td>-0.050478</td>\n",
       "      <td>-0.099727</td>\n",
       "      <td>-0.188224</td>\n",
       "      <td>0.156039</td>\n",
       "      <td>-0.374890</td>\n",
       "      <td>-0.056255</td>\n",
       "      <td>0.060511</td>\n",
       "      <td>-0.094146</td>\n",
       "      <td>-0.092483</td>\n",
       "      <td>...</td>\n",
       "      <td>-0.602794</td>\n",
       "      <td>-0.043543</td>\n",
       "      <td>0.241166</td>\n",
       "      <td>-0.118895</td>\n",
       "      <td>0.555094</td>\n",
       "      <td>-0.011134</td>\n",
       "      <td>0.665048</td>\n",
       "      <td>3</td>\n",
       "      <td>25</td>\n",
       "      <td>0</td>\n",
       "    </tr>\n",
       "    <tr>\n",
       "      <th>7474</th>\n",
       "      <td>-0.300429</td>\n",
       "      <td>0.363496</td>\n",
       "      <td>-0.029369</td>\n",
       "      <td>-0.133136</td>\n",
       "      <td>0.064978</td>\n",
       "      <td>-0.204011</td>\n",
       "      <td>-0.265335</td>\n",
       "      <td>-0.140547</td>\n",
       "      <td>-0.168170</td>\n",
       "      <td>-0.223460</td>\n",
       "      <td>...</td>\n",
       "      <td>-0.436378</td>\n",
       "      <td>-0.122374</td>\n",
       "      <td>-0.256793</td>\n",
       "      <td>-0.215954</td>\n",
       "      <td>0.397001</td>\n",
       "      <td>0.167654</td>\n",
       "      <td>0.568761</td>\n",
       "      <td>4</td>\n",
       "      <td>7</td>\n",
       "      <td>0</td>\n",
       "    </tr>\n",
       "    <tr>\n",
       "      <th>7475</th>\n",
       "      <td>0.032076</td>\n",
       "      <td>0.106110</td>\n",
       "      <td>0.110630</td>\n",
       "      <td>0.016042</td>\n",
       "      <td>0.085728</td>\n",
       "      <td>-0.215575</td>\n",
       "      <td>-0.145363</td>\n",
       "      <td>0.001741</td>\n",
       "      <td>-0.247022</td>\n",
       "      <td>0.117634</td>\n",
       "      <td>...</td>\n",
       "      <td>-0.456484</td>\n",
       "      <td>0.077239</td>\n",
       "      <td>0.052196</td>\n",
       "      <td>-0.135064</td>\n",
       "      <td>0.529994</td>\n",
       "      <td>0.047907</td>\n",
       "      <td>0.755397</td>\n",
       "      <td>5</td>\n",
       "      <td>38</td>\n",
       "      <td>0</td>\n",
       "    </tr>\n",
       "    <tr>\n",
       "      <th>7476</th>\n",
       "      <td>-0.020798</td>\n",
       "      <td>0.219168</td>\n",
       "      <td>0.183531</td>\n",
       "      <td>-0.216005</td>\n",
       "      <td>0.066676</td>\n",
       "      <td>-0.420703</td>\n",
       "      <td>-0.161143</td>\n",
       "      <td>0.200984</td>\n",
       "      <td>-0.211280</td>\n",
       "      <td>0.028288</td>\n",
       "      <td>...</td>\n",
       "      <td>-0.613562</td>\n",
       "      <td>-0.043837</td>\n",
       "      <td>0.065766</td>\n",
       "      <td>-0.008377</td>\n",
       "      <td>0.441703</td>\n",
       "      <td>-0.064018</td>\n",
       "      <td>0.710508</td>\n",
       "      <td>6</td>\n",
       "      <td>29</td>\n",
       "      <td>0</td>\n",
       "    </tr>\n",
       "  </tbody>\n",
       "</table>\n",
       "<p>7477 rows × 104 columns</p>\n",
       "</div>"
      ],
      "text/plain": [
       "             0         1         2         3         4         5         6  \\\n",
       "0    -0.147195  0.058697  0.197094 -0.391006 -0.077530 -0.096007 -0.111803   \n",
       "1    -0.050732  0.140445  0.114130  0.039059 -0.041864 -0.000104  0.151305   \n",
       "2     0.104622 -0.068349  0.077994 -0.905276  0.071093  0.130177  0.158481   \n",
       "3     0.088158  0.187424  0.008872 -0.357629  0.011294  0.021502  0.192081   \n",
       "4     0.388557 -0.281953  0.284575  0.020760 -0.077275  0.102943  0.148672   \n",
       "...        ...       ...       ...       ...       ...       ...       ...   \n",
       "7472 -0.114656  0.163457  0.115069 -0.013123  0.013347 -0.217296 -0.358950   \n",
       "7473  0.020281 -0.050478 -0.099727 -0.188224  0.156039 -0.374890 -0.056255   \n",
       "7474 -0.300429  0.363496 -0.029369 -0.133136  0.064978 -0.204011 -0.265335   \n",
       "7475  0.032076  0.106110  0.110630  0.016042  0.085728 -0.215575 -0.145363   \n",
       "7476 -0.020798  0.219168  0.183531 -0.216005  0.066676 -0.420703 -0.161143   \n",
       "\n",
       "             7         8         9  ...        94        95        96  \\\n",
       "0     0.057422 -0.152720 -0.342601  ...  0.064607  0.075356 -0.138610   \n",
       "1     0.287705 -0.352697 -0.174999  ... -0.457553  0.126135 -0.134282   \n",
       "2    -0.005478 -0.501226 -0.305931  ... -0.411556 -0.043711 -0.304587   \n",
       "3    -0.179269 -0.345802 -0.115559  ... -0.326949  0.049975 -0.108660   \n",
       "4     0.079824 -0.265058 -0.100422  ... -0.043637 -0.018850 -0.240565   \n",
       "...        ...       ...       ...  ...       ...       ...       ...   \n",
       "7472 -0.064686 -0.000484 -0.013765  ... -0.254152  0.019300  0.211670   \n",
       "7473  0.060511 -0.094146 -0.092483  ... -0.602794 -0.043543  0.241166   \n",
       "7474 -0.140547 -0.168170 -0.223460  ... -0.436378 -0.122374 -0.256793   \n",
       "7475  0.001741 -0.247022  0.117634  ... -0.456484  0.077239  0.052196   \n",
       "7476  0.200984 -0.211280  0.028288  ... -0.613562 -0.043837  0.065766   \n",
       "\n",
       "            97        98        99  Similarity to Title  Position  Length  \\\n",
       "0    -0.155694 -0.130958 -0.171777             0.388653         0       7   \n",
       "1     0.124213  0.442941  0.063086             0.700639         1      14   \n",
       "2     0.479707 -0.202459 -0.451889             0.470873         2       6   \n",
       "3     0.157335  0.096037 -0.265299             0.627928         3      18   \n",
       "4     0.108263  0.378435 -0.182465             0.412759         4      14   \n",
       "...        ...       ...       ...                  ...       ...     ...   \n",
       "7472 -0.181688  0.459916  0.276414             0.718127         2      30   \n",
       "7473 -0.118895  0.555094 -0.011134             0.665048         3      25   \n",
       "7474 -0.215954  0.397001  0.167654             0.568761         4       7   \n",
       "7475 -0.135064  0.529994  0.047907             0.755397         5      38   \n",
       "7476 -0.008377  0.441703 -0.064018             0.710508         6      29   \n",
       "\n",
       "      In Summary  \n",
       "0              0  \n",
       "1              0  \n",
       "2              0  \n",
       "3              0  \n",
       "4              0  \n",
       "...          ...  \n",
       "7472           0  \n",
       "7473           0  \n",
       "7474           0  \n",
       "7475           0  \n",
       "7476           0  \n",
       "\n",
       "[7477 rows x 104 columns]"
      ]
     },
     "execution_count": 638,
     "metadata": {},
     "output_type": "execute_result"
    }
   ],
   "source": [
    "v_df"
   ]
  },
  {
   "cell_type": "code",
   "execution_count": 639,
   "metadata": {},
   "outputs": [],
   "source": [
    "X_valid = v_df.drop('In Summary',axis = 1)\n",
    "y_valid = v_df['In Summary']"
   ]
  },
  {
   "cell_type": "code",
   "execution_count": 640,
   "metadata": {
    "scrolled": true
   },
   "outputs": [
    {
     "data": {
      "text/plain": [
       "0.6851678480674067"
      ]
     },
     "execution_count": 640,
     "metadata": {},
     "output_type": "execute_result"
    }
   ],
   "source": [
    "lr_model.score(X_valid,y_valid)"
   ]
  },
  {
   "cell_type": "code",
   "execution_count": 642,
   "metadata": {},
   "outputs": [
    {
     "data": {
      "text/plain": [
       "array([[4953, 2298],\n",
       "       [  56,  170]])"
      ]
     },
     "execution_count": 642,
     "metadata": {},
     "output_type": "execute_result"
    }
   ],
   "source": [
    "from sklearn.metrics import confusion_matrix\n",
    "confusion_matrix(y_valid, lr_model.predict(X_valid))"
   ]
  },
  {
   "cell_type": "code",
   "execution_count": 644,
   "metadata": {},
   "outputs": [
    {
     "data": {
      "text/plain": [
       "0.06888168557536467"
      ]
     },
     "execution_count": 644,
     "metadata": {},
     "output_type": "execute_result"
    }
   ],
   "source": [
    "from sklearn.metrics import precision_score\n",
    "precision_score(y_valid, lr_model.predict(X_valid))"
   ]
  },
  {
   "cell_type": "code",
   "execution_count": 645,
   "metadata": {},
   "outputs": [
    {
     "data": {
      "text/plain": [
       "0.7522123893805309"
      ]
     },
     "execution_count": 645,
     "metadata": {},
     "output_type": "execute_result"
    }
   ],
   "source": [
    "from sklearn.metrics import recall_score\n",
    "recall_score(y_valid, lr_model.predict(X_valid))"
   ]
  },
  {
   "cell_type": "code",
   "execution_count": 647,
   "metadata": {},
   "outputs": [
    {
     "data": {
      "text/plain": [
       "array([[0.22498585, 0.77501415],\n",
       "       [0.11555216, 0.88444784],\n",
       "       [0.02777008, 0.97222992],\n",
       "       ...,\n",
       "       [0.80960557, 0.19039443],\n",
       "       [0.36525558, 0.63474442],\n",
       "       [0.59899603, 0.40100397]])"
      ]
     },
     "execution_count": 647,
     "metadata": {},
     "output_type": "execute_result"
    }
   ],
   "source": [
    "lr_model.predict_proba(X_valid)"
   ]
  },
  {
   "cell_type": "markdown",
   "metadata": {},
   "source": [
    "#### Generate Summaries"
   ]
  },
  {
   "cell_type": "code",
   "execution_count": 670,
   "metadata": {},
   "outputs": [
    {
     "ename": "ValueError",
     "evalue": "cannot reshape array of size 103 into shape (2)",
     "output_type": "error",
     "traceback": [
      "\u001b[0;31m---------------------------------------------------------------------------\u001b[0m",
      "\u001b[0;31mValueError\u001b[0m                                Traceback (most recent call last)",
      "\u001b[0;32m<ipython-input-670-26e69f8c41f1>\u001b[0m in \u001b[0;36m<module>\u001b[0;34m\u001b[0m\n\u001b[0;32m----> 1\u001b[0;31m \u001b[0mnp\u001b[0m\u001b[0;34m.\u001b[0m\u001b[0mreshape\u001b[0m\u001b[0;34m(\u001b[0m\u001b[0mX_valid\u001b[0m\u001b[0;34m.\u001b[0m\u001b[0miloc\u001b[0m\u001b[0;34m[\u001b[0m\u001b[0;36m0\u001b[0m\u001b[0;34m]\u001b[0m\u001b[0;34m,\u001b[0m\u001b[0;34m(\u001b[0m\u001b[0;34m-\u001b[0m\u001b[0;36m1\u001b[0m\u001b[0;34m,\u001b[0m\u001b[0;36m2\u001b[0m\u001b[0;34m)\u001b[0m\u001b[0;34m)\u001b[0m\u001b[0;34m\u001b[0m\u001b[0;34m\u001b[0m\u001b[0m\n\u001b[0m",
      "\u001b[0;32m<__array_function__ internals>\u001b[0m in \u001b[0;36mreshape\u001b[0;34m(*args, **kwargs)\u001b[0m\n",
      "\u001b[0;32m~/anaconda3/envs/capstone/lib/python3.8/site-packages/numpy/core/fromnumeric.py\u001b[0m in \u001b[0;36mreshape\u001b[0;34m(a, newshape, order)\u001b[0m\n\u001b[1;32m    297\u001b[0m            [5, 6]])\n\u001b[1;32m    298\u001b[0m     \"\"\"\n\u001b[0;32m--> 299\u001b[0;31m     \u001b[0;32mreturn\u001b[0m \u001b[0m_wrapfunc\u001b[0m\u001b[0;34m(\u001b[0m\u001b[0ma\u001b[0m\u001b[0;34m,\u001b[0m \u001b[0;34m'reshape'\u001b[0m\u001b[0;34m,\u001b[0m \u001b[0mnewshape\u001b[0m\u001b[0;34m,\u001b[0m \u001b[0morder\u001b[0m\u001b[0;34m=\u001b[0m\u001b[0morder\u001b[0m\u001b[0;34m)\u001b[0m\u001b[0;34m\u001b[0m\u001b[0;34m\u001b[0m\u001b[0m\n\u001b[0m\u001b[1;32m    300\u001b[0m \u001b[0;34m\u001b[0m\u001b[0m\n\u001b[1;32m    301\u001b[0m \u001b[0;34m\u001b[0m\u001b[0m\n",
      "\u001b[0;32m~/anaconda3/envs/capstone/lib/python3.8/site-packages/numpy/core/fromnumeric.py\u001b[0m in \u001b[0;36m_wrapfunc\u001b[0;34m(obj, method, *args, **kwds)\u001b[0m\n\u001b[1;32m     53\u001b[0m     \u001b[0mbound\u001b[0m \u001b[0;34m=\u001b[0m \u001b[0mgetattr\u001b[0m\u001b[0;34m(\u001b[0m\u001b[0mobj\u001b[0m\u001b[0;34m,\u001b[0m \u001b[0mmethod\u001b[0m\u001b[0;34m,\u001b[0m \u001b[0;32mNone\u001b[0m\u001b[0;34m)\u001b[0m\u001b[0;34m\u001b[0m\u001b[0;34m\u001b[0m\u001b[0m\n\u001b[1;32m     54\u001b[0m     \u001b[0;32mif\u001b[0m \u001b[0mbound\u001b[0m \u001b[0;32mis\u001b[0m \u001b[0;32mNone\u001b[0m\u001b[0;34m:\u001b[0m\u001b[0;34m\u001b[0m\u001b[0;34m\u001b[0m\u001b[0m\n\u001b[0;32m---> 55\u001b[0;31m         \u001b[0;32mreturn\u001b[0m \u001b[0m_wrapit\u001b[0m\u001b[0;34m(\u001b[0m\u001b[0mobj\u001b[0m\u001b[0;34m,\u001b[0m \u001b[0mmethod\u001b[0m\u001b[0;34m,\u001b[0m \u001b[0;34m*\u001b[0m\u001b[0margs\u001b[0m\u001b[0;34m,\u001b[0m \u001b[0;34m**\u001b[0m\u001b[0mkwds\u001b[0m\u001b[0;34m)\u001b[0m\u001b[0;34m\u001b[0m\u001b[0;34m\u001b[0m\u001b[0m\n\u001b[0m\u001b[1;32m     56\u001b[0m \u001b[0;34m\u001b[0m\u001b[0m\n\u001b[1;32m     57\u001b[0m     \u001b[0;32mtry\u001b[0m\u001b[0;34m:\u001b[0m\u001b[0;34m\u001b[0m\u001b[0;34m\u001b[0m\u001b[0m\n",
      "\u001b[0;32m~/anaconda3/envs/capstone/lib/python3.8/site-packages/numpy/core/fromnumeric.py\u001b[0m in \u001b[0;36m_wrapit\u001b[0;34m(obj, method, *args, **kwds)\u001b[0m\n\u001b[1;32m     42\u001b[0m     \u001b[0;32mexcept\u001b[0m \u001b[0mAttributeError\u001b[0m\u001b[0;34m:\u001b[0m\u001b[0;34m\u001b[0m\u001b[0;34m\u001b[0m\u001b[0m\n\u001b[1;32m     43\u001b[0m         \u001b[0mwrap\u001b[0m \u001b[0;34m=\u001b[0m \u001b[0;32mNone\u001b[0m\u001b[0;34m\u001b[0m\u001b[0;34m\u001b[0m\u001b[0m\n\u001b[0;32m---> 44\u001b[0;31m     \u001b[0mresult\u001b[0m \u001b[0;34m=\u001b[0m \u001b[0mgetattr\u001b[0m\u001b[0;34m(\u001b[0m\u001b[0masarray\u001b[0m\u001b[0;34m(\u001b[0m\u001b[0mobj\u001b[0m\u001b[0;34m)\u001b[0m\u001b[0;34m,\u001b[0m \u001b[0mmethod\u001b[0m\u001b[0;34m)\u001b[0m\u001b[0;34m(\u001b[0m\u001b[0;34m*\u001b[0m\u001b[0margs\u001b[0m\u001b[0;34m,\u001b[0m \u001b[0;34m**\u001b[0m\u001b[0mkwds\u001b[0m\u001b[0;34m)\u001b[0m\u001b[0;34m\u001b[0m\u001b[0;34m\u001b[0m\u001b[0m\n\u001b[0m\u001b[1;32m     45\u001b[0m     \u001b[0;32mif\u001b[0m \u001b[0mwrap\u001b[0m\u001b[0;34m:\u001b[0m\u001b[0;34m\u001b[0m\u001b[0;34m\u001b[0m\u001b[0m\n\u001b[1;32m     46\u001b[0m         \u001b[0;32mif\u001b[0m \u001b[0;32mnot\u001b[0m \u001b[0misinstance\u001b[0m\u001b[0;34m(\u001b[0m\u001b[0mresult\u001b[0m\u001b[0;34m,\u001b[0m \u001b[0mmu\u001b[0m\u001b[0;34m.\u001b[0m\u001b[0mndarray\u001b[0m\u001b[0;34m)\u001b[0m\u001b[0;34m:\u001b[0m\u001b[0;34m\u001b[0m\u001b[0;34m\u001b[0m\u001b[0m\n",
      "\u001b[0;31mValueError\u001b[0m: cannot reshape array of size 103 into shape (2)"
     ]
    }
   ],
   "source": [
    "np.reshape(X_valid.iloc[0],(-1,2))"
   ]
  },
  {
   "cell_type": "code",
   "execution_count": 539,
   "metadata": {},
   "outputs": [],
   "source": [
    "from sklearn.metrics import accuracy_score"
   ]
  },
  {
   "cell_type": "code",
   "execution_count": 682,
   "metadata": {},
   "outputs": [],
   "source": [
    "def generate(text):\n",
    "    in_summary=[]\n",
    "    for i in range(len(text)):\n",
    "        p = lr_model.predict_proba([X_valid.iloc[i]])[0][0]\n",
    "        in_summary.append(p)\n",
    "    return in_summary"
   ]
  },
  {
   "cell_type": "code",
   "execution_count": 691,
   "metadata": {},
   "outputs": [
    {
     "data": {
      "text/plain": [
       "(7477, 103)"
      ]
     },
     "execution_count": 691,
     "metadata": {},
     "output_type": "execute_result"
    }
   ],
   "source": [
    "X_valid.shape"
   ]
  },
  {
   "cell_type": "code",
   "execution_count": 693,
   "metadata": {},
   "outputs": [
    {
     "data": {
      "text/plain": [
       "7477"
      ]
     },
     "execution_count": 693,
     "metadata": {},
     "output_type": "execute_result"
    }
   ],
   "source": [
    "len([i for y in valid_text for i in y])"
   ]
  },
  {
   "cell_type": "code",
   "execution_count": 697,
   "metadata": {},
   "outputs": [
    {
     "data": {
      "text/plain": [
       "61"
      ]
     },
     "execution_count": 697,
     "metadata": {},
     "output_type": "execute_result"
    }
   ],
   "source": [
    "len(valid_text[1])"
   ]
  },
  {
   "cell_type": "code",
   "execution_count": 698,
   "metadata": {},
   "outputs": [
    {
     "data": {
      "text/plain": [
       "55"
      ]
     },
     "execution_count": 698,
     "metadata": {},
     "output_type": "execute_result"
    }
   ],
   "source": [
    "len(valid_text[0])"
   ]
  },
  {
   "cell_type": "code",
   "execution_count": 704,
   "metadata": {},
   "outputs": [
    {
     "data": {
      "text/plain": [
       "300"
      ]
     },
     "execution_count": 704,
     "metadata": {},
     "output_type": "execute_result"
    }
   ],
   "source": [
    "len(valid_text.apply(generate))"
   ]
  },
  {
   "cell_type": "code",
   "execution_count": 705,
   "metadata": {},
   "outputs": [
    {
     "data": {
      "text/plain": [
       "[0.224985851203922,\n",
       " 0.11555216371694921,\n",
       " 0.027770084558416452,\n",
       " 0.08497761172431384,\n",
       " 0.49223282089343234,\n",
       " 0.22373324099917313,\n",
       " 0.5788243667340767,\n",
       " 0.16000247317964533,\n",
       " 0.23259549484019826,\n",
       " 0.07653025897111854,\n",
       " 0.02292534193314888,\n",
       " 0.5028350416809767,\n",
       " 0.6525524959090285]"
      ]
     },
     "execution_count": 705,
     "metadata": {},
     "output_type": "execute_result"
    }
   ],
   "source": [
    "valid_text.apply(generate)[200]"
   ]
  },
  {
   "cell_type": "code",
   "execution_count": 552,
   "metadata": {},
   "outputs": [
    {
     "data": {
      "text/plain": [
       "0                      -0.050732\n",
       "1                       0.140445\n",
       "2                       0.114130\n",
       "3                       0.039059\n",
       "4                      -0.041864\n",
       "                         ...    \n",
       "98                      0.442941\n",
       "99                      0.063086\n",
       "Similarity to Title     0.700639\n",
       "Position                1.000000\n",
       "Length                 14.000000\n",
       "Name: 1, Length: 103, dtype: float64"
      ]
     },
     "execution_count": 552,
     "metadata": {},
     "output_type": "execute_result"
    }
   ],
   "source": [
    "X_valid.iloc[1,:]"
   ]
  },
  {
   "cell_type": "markdown",
   "metadata": {},
   "source": [
    "## TextRank"
   ]
  },
  {
   "cell_type": "code",
   "execution_count": 47,
   "metadata": {},
   "outputs": [],
   "source": [
    "from sklearn.metrics.pairwise import cosine_similarity\n",
    "import networkx as nx\n",
    "from rouge import Rouge"
   ]
  },
  {
   "cell_type": "code",
   "execution_count": 150,
   "metadata": {},
   "outputs": [
    {
     "name": "stdout",
     "output_type": "stream",
     "text": [
      "Requirement already satisfied: rouge in /Users/gilbertwong/anaconda3/envs/capstone/lib/python3.8/site-packages (1.0.0)\n",
      "Requirement already satisfied: six in /Users/gilbertwong/anaconda3/envs/capstone/lib/python3.8/site-packages (from rouge) (1.15.0)\n"
     ]
    }
   ],
   "source": [
    "!pip install rouge"
   ]
  },
  {
   "cell_type": "markdown",
   "metadata": {},
   "source": [
    "#### Cosine Similarity"
   ]
  },
  {
   "cell_type": "code",
   "execution_count": 340,
   "metadata": {},
   "outputs": [],
   "source": [
    "sim_mat=[]\n",
    "for i in train_text_vectors:\n",
    "    sim_mat.append(np.zeros([len(i), len(i)]))"
   ]
  },
  {
   "cell_type": "code",
   "execution_count": 341,
   "metadata": {},
   "outputs": [],
   "source": [
    "i=-1\n",
    "for z in train_text_vectors:\n",
    "    i+=1\n",
    "    for y in range(len(z)):\n",
    "        for x in range(len(z)):\n",
    "            if y!=x:\n",
    "                sim_mat[i][y][x] = cosine_similarity(z[y].reshape(1,100), z[x].reshape(1,100))[0,0]"
   ]
  },
  {
   "cell_type": "code",
   "execution_count": 386,
   "metadata": {},
   "outputs": [
    {
     "data": {
      "image/png": "[encoded data removed]",
      "text/plain": [
       "<Figure size 1080x720 with 2 Axes>"
      ]
     },
     "metadata": {
      "needs_background": "light"
     },
     "output_type": "display_data"
    }
   ],
   "source": [
    "plt.figure(figsize=(15,10))\n",
    "sns.heatmap(pd.DataFrame(sim_mat[4]),cmap='flare',annot=True);"
   ]
  },
  {
   "cell_type": "markdown",
   "metadata": {},
   "source": [
    "#### PageRank Scores"
   ]
  },
  {
   "cell_type": "code",
   "execution_count": 83,
   "metadata": {},
   "outputs": [
    {
     "name": "stdout",
     "output_type": "stream",
     "text": [
      "Requirement already satisfied: networkx in /Users/gilbertwong/anaconda3/envs/capstone/lib/python3.8/site-packages (2.5)\n",
      "Requirement already satisfied: decorator>=4.3.0 in /Users/gilbertwong/anaconda3/envs/capstone/lib/python3.8/site-packages (from networkx) (4.4.2)\n"
     ]
    }
   ],
   "source": [
    "!pip install networkx"
   ]
  },
  {
   "cell_type": "code",
   "execution_count": 387,
   "metadata": {},
   "outputs": [],
   "source": [
    "pagerank_scores=[]\n",
    "for i in sim_mat:\n",
    "    nx_graph = nx.from_numpy_array(i)\n",
    "    pagerank_scores.append(nx.pagerank_numpy(nx_graph))"
   ]
  },
  {
   "cell_type": "code",
   "execution_count": 388,
   "metadata": {},
   "outputs": [
    {
     "data": {
      "image/png": "[encoded data removed]",
      "text/plain": [
       "<Figure size 432x288 with 1 Axes>"
      ]
     },
     "metadata": {},
     "output_type": "display_data"
    }
   ],
   "source": [
    "nx.draw(nx.from_numpy_array(sim_mat[4]))"
   ]
  },
  {
   "cell_type": "markdown",
   "metadata": {},
   "source": [
    "#### Ranking"
   ]
  },
  {
   "cell_type": "code",
   "execution_count": 389,
   "metadata": {},
   "outputs": [],
   "source": [
    "def rank(text, scores):\n",
    "\n",
    "    ranked = []\n",
    "\n",
    "    for x in range(len(text)):\n",
    "        ranked_sentences = sorted(((scores[x][i],s) for i,s in enumerate(text[x])), reverse=True)\n",
    "        ranked.append(ranked_sentences)\n",
    "        \n",
    "    return ranked"
   ]
  },
  {
   "cell_type": "code",
   "execution_count": 390,
   "metadata": {},
   "outputs": [],
   "source": [
    "textranked = rank(ready_text, pagerank_scores)"
   ]
  },
  {
   "cell_type": "code",
   "execution_count": 391,
   "metadata": {},
   "outputs": [
    {
     "data": {
      "text/plain": [
       "[(0.02850842372169901,\n",
       "  'Behind George Hamilton\\'s legendary tan, there\\'s really a soft, sensitive guy who just wants to talk about things like \"School-To-Work: Reinventing America\\'s Workforce.\"'),\n",
       " (0.028458044791680993,\n",
       "  'Hey, better to date a guest like Shawntel Smith than, say, Ed Begley Jr.  Sources say Smith did her guest spot and they just really hit it off.'),\n",
       " (0.028419183288746125,\n",
       "  'Now that \"Saturday Night Live\" is making great strides at standing on the edge of comedy once again, it makes sense that their musical guests might represent that same sort of edge.')]"
      ]
     },
     "execution_count": 391,
     "metadata": {},
     "output_type": "execute_result"
    }
   ],
   "source": [
    "textranked[3][:3]"
   ]
  },
  {
   "cell_type": "code",
   "execution_count": 392,
   "metadata": {},
   "outputs": [
    {
     "data": {
      "text/plain": [
       "[(0.011548026204365682, 'BY A.J.'),\n",
       " (0.008663609361224803, 'Spooky.'),\n",
       " (0.003735990037359904, '')]"
      ]
     },
     "execution_count": 392,
     "metadata": {},
     "output_type": "execute_result"
    }
   ],
   "source": [
    "textranked[3][-3:]"
   ]
  },
  {
   "cell_type": "markdown",
   "metadata": {},
   "source": [
    "#### Summary"
   ]
  },
  {
   "cell_type": "code",
   "execution_count": 393,
   "metadata": {},
   "outputs": [],
   "source": [
    "def summarize(ranked_sentences, length):\n",
    "    \n",
    "    summaries = []\n",
    "\n",
    "    for sentences in ranked_sentences:\n",
    "\n",
    "        summary = \"\"\n",
    "        if len(sentences)>length:\n",
    "            for i in range(length):\n",
    "                summary += sentences[i][1] + \" \"\n",
    "        else:\n",
    "            for i in range(len(sentences)):\n",
    "                summary += sentences[i][1] + \" \"\n",
    "\n",
    "        summaries.append(summary)\n",
    "    \n",
    "    return summaries"
   ]
  },
  {
   "cell_type": "code",
   "execution_count": 394,
   "metadata": {},
   "outputs": [],
   "source": [
    "textrank_summaries = summarize(textranked, 5)"
   ]
  },
  {
   "cell_type": "code",
   "execution_count": 404,
   "metadata": {},
   "outputs": [
    {
     "data": {
      "text/plain": [
       "\"Wednesday, May 18th 2005, 9:59AM  Summer is shaping up as extra sweet at Cafe Centro, where the menu features treats like s'mores, chocolate fondue and a unique cocktail called the Cotton Candy Cosmo. Garnish with pink cotton candy all around the rim and serve. Priced at $9, the deeply colorful libation is topped with billows of bright pink cotton candy. The drink was created by mixologist Bill Rogers, whose inspiration was the fluffy confection that the restaurant  occasionally serves to customers. 2 ounces Absolut Citron Vodka  Pink cotton candy for the top  Shake vodka, Triple Sec, lime juice and cranberry juice vigorously in a shaker with ice. \""
      ]
     },
     "execution_count": 404,
     "metadata": {},
     "output_type": "execute_result"
    }
   ],
   "source": [
    "textrank_summaries[9]"
   ]
  },
  {
   "cell_type": "markdown",
   "metadata": {},
   "source": [
    "#### Evaluation"
   ]
  },
  {
   "cell_type": "code",
   "execution_count": 399,
   "metadata": {},
   "outputs": [],
   "source": [
    "def rouge2f(hypothesis,reference):\n",
    "    \n",
    "    rouge = Rouge()\n",
    "\n",
    "    scores = []\n",
    "\n",
    "    for i in range(len(hypothesis)): \n",
    "        score = rouge.get_scores(hypothesis[i], reference[i])[0]['rouge-2']['f']\n",
    "        scores.append(score)\n",
    "    \n",
    "    return score"
   ]
  },
  {
   "cell_type": "code",
   "execution_count": 400,
   "metadata": {},
   "outputs": [
    {
     "data": {
      "text/plain": [
       "0.2913907258032543"
      ]
     },
     "execution_count": 400,
     "metadata": {},
     "output_type": "execute_result"
    }
   ],
   "source": [
    "rouge2f(textrank_summaries,df_train['summary'])"
   ]
  },
  {
   "cell_type": "markdown",
   "metadata": {},
   "source": [
    "## Latent Semantic Indexing"
   ]
  },
  {
   "cell_type": "code",
   "execution_count": 283,
   "metadata": {},
   "outputs": [],
   "source": [
    "from sklearn.decomposition import TruncatedSVD\n",
    "import warnings\n",
    "warnings.filterwarnings(\"ignore\")"
   ]
  },
  {
   "cell_type": "markdown",
   "metadata": {},
   "source": [
    "#### Topic Signatures"
   ]
  },
  {
   "cell_type": "code",
   "execution_count": 284,
   "metadata": {
    "scrolled": true
   },
   "outputs": [],
   "source": [
    "topic_sigs=[]\n",
    "\n",
    "for i in train_sentence_vectors:\n",
    "    svd = TruncatedSVD(n_components = 2)\n",
    "    lsa = svd.fit_transform(i)\n",
    "    topic_sig = [x[0] for x in lsa]\n",
    "    topic_sigs.append(topic_sig)"
   ]
  },
  {
   "cell_type": "markdown",
   "metadata": {},
   "source": [
    "#### Ranking"
   ]
  },
  {
   "cell_type": "code",
   "execution_count": 285,
   "metadata": {},
   "outputs": [],
   "source": [
    "lsi_ranked = rank(ready_text, topic_sigs)"
   ]
  },
  {
   "cell_type": "code",
   "execution_count": 286,
   "metadata": {},
   "outputs": [
    {
     "data": {
      "text/plain": [
       "[(3.89871449000791, 'I like quiet.\"'),\n",
       " (3.862906295712312, 'I didn\\'t care.\"'),\n",
       " (3.5701656570997, \"Either way, it hasn't stopped Hollywood from calling.\")]"
      ]
     },
     "execution_count": 286,
     "metadata": {},
     "output_type": "execute_result"
    }
   ],
   "source": [
    "lsi_ranked[3][:3]"
   ]
  },
  {
   "cell_type": "code",
   "execution_count": 287,
   "metadata": {},
   "outputs": [
    {
     "data": {
      "text/plain": [
       "[(1.5319987125882426, 'BY A.J.'), (0.8478305323664805, 'Spooky.'), (-0.0, '')]"
      ]
     },
     "execution_count": 287,
     "metadata": {},
     "output_type": "execute_result"
    }
   ],
   "source": [
    "lsi_ranked[3][-3:]"
   ]
  },
  {
   "cell_type": "markdown",
   "metadata": {},
   "source": [
    "#### Summary"
   ]
  },
  {
   "cell_type": "code",
   "execution_count": 397,
   "metadata": {},
   "outputs": [],
   "source": [
    "lsi_summaries = summarize(lsi_ranked, 5)"
   ]
  },
  {
   "cell_type": "code",
   "execution_count": 405,
   "metadata": {},
   "outputs": [
    {
     "data": {
      "text/plain": [
       "\"Strain into a martini glass. Garnish with pink cotton candy all around the rim and serve. 2 ounces Absolut Citron Vodka  Pink cotton candy for the top  Shake vodka, Triple Sec, lime juice and cranberry juice vigorously in a shaker with ice. It's light, summery and wonderful for sipping outside. Priced at $9, the deeply colorful libation is topped with billows of bright pink cotton candy. \""
      ]
     },
     "execution_count": 405,
     "metadata": {},
     "output_type": "execute_result"
    }
   ],
   "source": [
    "lsi_summaries[9]"
   ]
  },
  {
   "cell_type": "markdown",
   "metadata": {},
   "source": [
    "#### Evaluation"
   ]
  },
  {
   "cell_type": "code",
   "execution_count": 401,
   "metadata": {},
   "outputs": [
    {
     "data": {
      "text/plain": [
       "0.05309734178714094"
      ]
     },
     "execution_count": 401,
     "metadata": {},
     "output_type": "execute_result"
    }
   ],
   "source": [
    "rouge2f(lsi_summaries,df_train['summary'])"
   ]
  },
  {
   "cell_type": "markdown",
   "metadata": {},
   "source": [
    "## TF-IDF"
   ]
  },
  {
   "cell_type": "code",
   "execution_count": 290,
   "metadata": {},
   "outputs": [],
   "source": [
    "from sklearn.feature_extraction.text import TfidfVectorizer"
   ]
  },
  {
   "cell_type": "markdown",
   "metadata": {},
   "source": [
    "#### Term Frequency Weights"
   ]
  },
  {
   "cell_type": "code",
   "execution_count": 291,
   "metadata": {},
   "outputs": [],
   "source": [
    "tf_weights = []\n",
    "\n",
    "for y in train_sentences_cleaned:\n",
    "    \n",
    "    bagofwords = TfidfVectorizer()\n",
    "    transformed = bagofwords.fit_transform(y)\n",
    "    sentence_scores = [sum(i) for i in transformed.toarray()]\n",
    "    tf_weights.append(sentence_scores)\n",
    "    "
   ]
  },
  {
   "cell_type": "markdown",
   "metadata": {},
   "source": [
    "#### Ranking"
   ]
  },
  {
   "cell_type": "code",
   "execution_count": 292,
   "metadata": {},
   "outputs": [],
   "source": [
    "tfidf_ranked = rank(ready_text, tf_weights)"
   ]
  },
  {
   "cell_type": "code",
   "execution_count": 293,
   "metadata": {},
   "outputs": [
    {
     "data": {
      "text/plain": [
       "[(5.2837713777144435,\n",
       "  \"In addition, some say they're even expecting Snoop Doggy Dogg and Death Row Records' CEO Suge Knight to be part of his entourage, since this will be Tupac's first live TV performance since his incarceration and some expect his record label to make a major show of respect.\"),\n",
       " (4.880817059187219,\n",
       "  'Brad Posey, who owns the all-male photo and video studio Club 1821 as in men 18 to 21 which produced the videos, told us that Rex or Sebastian as he was known then \"was very sweet and he performed very well, as any 19-year-old would who\\'s at his sexual peak.\"'),\n",
       " (4.820737042167301,\n",
       "  \"Sources tell us the GOP front-runner was so angry about the entire situation involving Maseng and his widely panned response that he chose not to use a speech that Maseng wrote for this week's annual meeting of the National Governors' Association.\")]"
      ]
     },
     "execution_count": 293,
     "metadata": {},
     "output_type": "execute_result"
    }
   ],
   "source": [
    "tfidf_ranked[3][:3]"
   ]
  },
  {
   "cell_type": "code",
   "execution_count": 294,
   "metadata": {},
   "outputs": [
    {
     "data": {
      "text/plain": [
       "[(1.0, 'I didn\\'t care.\"'), (0.0, 'BY A.J.'), (0.0, '')]"
      ]
     },
     "execution_count": 294,
     "metadata": {},
     "output_type": "execute_result"
    }
   ],
   "source": [
    "tfidf_ranked[3][-3:]"
   ]
  },
  {
   "cell_type": "markdown",
   "metadata": {},
   "source": [
    "#### Summary"
   ]
  },
  {
   "cell_type": "code",
   "execution_count": 295,
   "metadata": {},
   "outputs": [],
   "source": [
    "tfidf_summaries = summarize(tfidf_ranked, 5)"
   ]
  },
  {
   "cell_type": "code",
   "execution_count": 406,
   "metadata": {},
   "outputs": [
    {
     "data": {
      "text/plain": [
       "\"Wednesday, May 18th 2005, 9:59AM  Summer is shaping up as extra sweet at Cafe Centro, where the menu features treats like s'mores, chocolate fondue and a unique cocktail called the Cotton Candy Cosmo. 2 ounces Absolut Citron Vodka  Pink cotton candy for the top  Shake vodka, Triple Sec, lime juice and cranberry juice vigorously in a shaker with ice. The drink was created by mixologist Bill Rogers, whose inspiration was the fluffy confection that the restaurant  occasionally serves to customers. Priced at $9, the deeply colorful libation is topped with billows of bright pink cotton candy. Garnish with pink cotton candy all around the rim and serve. \""
      ]
     },
     "execution_count": 406,
     "metadata": {},
     "output_type": "execute_result"
    }
   ],
   "source": [
    "tfidf_summaries[9]"
   ]
  },
  {
   "cell_type": "markdown",
   "metadata": {},
   "source": [
    "#### Evaluation"
   ]
  },
  {
   "cell_type": "code",
   "execution_count": 402,
   "metadata": {},
   "outputs": [
    {
     "data": {
      "text/plain": [
       "0.28025477448010067"
      ]
     },
     "execution_count": 402,
     "metadata": {},
     "output_type": "execute_result"
    }
   ],
   "source": [
    "rouge2f(tfidf_summaries,df_train['summary'])"
   ]
  }
 ],
 "metadata": {
  "kernelspec": {
   "display_name": "Python [conda env:capstone]",
   "language": "python",
   "name": "conda-env-capstone-py"
  },
  "language_info": {
   "codemirror_mode": {
    "name": "ipython",
    "version": 3
   },
   "file_extension": ".py",
   "mimetype": "text/x-python",
   "name": "python",
   "nbconvert_exporter": "python",
   "pygments_lexer": "ipython3",
   "version": "3.8.2"
  }
 },
 "nbformat": 4,
 "nbformat_minor": 4
}
